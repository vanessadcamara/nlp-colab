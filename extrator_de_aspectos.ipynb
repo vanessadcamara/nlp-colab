{
  "cells": [
    {
      "cell_type": "markdown",
      "metadata": {
        "id": "view-in-github",
        "colab_type": "text"
      },
      "source": [
        "<a href=\"https://colab.research.google.com/github/vanessadcamara/nlp-colab/blob/main/extrator_de_aspectos.ipynb\" target=\"_parent\"><img src=\"https://colab.research.google.com/assets/colab-badge.svg\" alt=\"Open In Colab\"/></a>"
      ]
    },
    {
      "cell_type": "markdown",
      "metadata": {
        "id": "aMXIsHrzcrYy"
      },
      "source": [
        "## Carregando Pacotes"
      ]
    },
    {
      "cell_type": "code",
      "source": [
        "from google.colab import drive\n",
        "drive.mount('/content/drive')"
      ],
      "metadata": {
        "colab": {
          "base_uri": "https://localhost:8080/"
        },
        "id": "hMW1VkGh7POz",
        "outputId": "73d3003b-bb59-426c-a78e-ec544928e6e1"
      },
      "execution_count": null,
      "outputs": [
        {
          "output_type": "stream",
          "name": "stdout",
          "text": [
            "Drive already mounted at /content/drive; to attempt to forcibly remount, call drive.mount(\"/content/drive\", force_remount=True).\n"
          ]
        }
      ]
    },
    {
      "cell_type": "code",
      "execution_count": null,
      "metadata": {
        "id": "58QRqABEeQ3t",
        "colab": {
          "base_uri": "https://localhost:8080/"
        },
        "outputId": "67c1195b-3830-46ed-e4cf-dacd1be7c34b"
      },
      "outputs": [
        {
          "output_type": "stream",
          "name": "stdout",
          "text": [
            "Requirement already satisfied: spacy in /usr/local/lib/python3.7/dist-packages (3.3.0)\n",
            "Requirement already satisfied: srsly<3.0.0,>=2.4.3 in /usr/local/lib/python3.7/dist-packages (from spacy) (2.4.3)\n",
            "Requirement already satisfied: tqdm<5.0.0,>=4.38.0 in /usr/local/lib/python3.7/dist-packages (from spacy) (4.64.0)\n",
            "Requirement already satisfied: numpy>=1.15.0 in /usr/local/lib/python3.7/dist-packages (from spacy) (1.21.6)\n",
            "Requirement already satisfied: pydantic!=1.8,!=1.8.1,<1.9.0,>=1.7.4 in /usr/local/lib/python3.7/dist-packages (from spacy) (1.8.2)\n",
            "Requirement already satisfied: thinc<8.1.0,>=8.0.14 in /usr/local/lib/python3.7/dist-packages (from spacy) (8.0.15)\n",
            "Requirement already satisfied: requests<3.0.0,>=2.13.0 in /usr/local/lib/python3.7/dist-packages (from spacy) (2.23.0)\n",
            "Requirement already satisfied: setuptools in /usr/local/lib/python3.7/dist-packages (from spacy) (57.4.0)\n",
            "Requirement already satisfied: packaging>=20.0 in /usr/local/lib/python3.7/dist-packages (from spacy) (21.3)\n",
            "Requirement already satisfied: cymem<2.1.0,>=2.0.2 in /usr/local/lib/python3.7/dist-packages (from spacy) (2.0.6)\n",
            "Requirement already satisfied: murmurhash<1.1.0,>=0.28.0 in /usr/local/lib/python3.7/dist-packages (from spacy) (1.0.7)\n",
            "Requirement already satisfied: spacy-loggers<2.0.0,>=1.0.0 in /usr/local/lib/python3.7/dist-packages (from spacy) (1.0.2)\n",
            "Requirement already satisfied: typer<0.5.0,>=0.3.0 in /usr/local/lib/python3.7/dist-packages (from spacy) (0.4.1)\n",
            "Requirement already satisfied: jinja2 in /usr/local/lib/python3.7/dist-packages (from spacy) (2.11.3)\n",
            "Requirement already satisfied: catalogue<2.1.0,>=2.0.6 in /usr/local/lib/python3.7/dist-packages (from spacy) (2.0.7)\n",
            "Requirement already satisfied: wasabi<1.1.0,>=0.9.1 in /usr/local/lib/python3.7/dist-packages (from spacy) (0.9.1)\n",
            "Requirement already satisfied: spacy-legacy<3.1.0,>=3.0.9 in /usr/local/lib/python3.7/dist-packages (from spacy) (3.0.9)\n",
            "Requirement already satisfied: preshed<3.1.0,>=3.0.2 in /usr/local/lib/python3.7/dist-packages (from spacy) (3.0.6)\n",
            "Requirement already satisfied: blis<0.8.0,>=0.4.0 in /usr/local/lib/python3.7/dist-packages (from spacy) (0.4.1)\n",
            "Requirement already satisfied: langcodes<4.0.0,>=3.2.0 in /usr/local/lib/python3.7/dist-packages (from spacy) (3.3.0)\n",
            "Requirement already satisfied: pathy>=0.3.5 in /usr/local/lib/python3.7/dist-packages (from spacy) (0.6.1)\n",
            "Requirement already satisfied: typing-extensions<4.0.0.0,>=3.7.4 in /usr/local/lib/python3.7/dist-packages (from spacy) (3.10.0.2)\n",
            "Requirement already satisfied: zipp>=0.5 in /usr/local/lib/python3.7/dist-packages (from catalogue<2.1.0,>=2.0.6->spacy) (3.8.0)\n",
            "Requirement already satisfied: pyparsing!=3.0.5,>=2.0.2 in /usr/local/lib/python3.7/dist-packages (from packaging>=20.0->spacy) (3.0.8)\n",
            "Requirement already satisfied: smart-open<6.0.0,>=5.0.0 in /usr/local/lib/python3.7/dist-packages (from pathy>=0.3.5->spacy) (5.2.1)\n",
            "Requirement already satisfied: urllib3!=1.25.0,!=1.25.1,<1.26,>=1.21.1 in /usr/local/lib/python3.7/dist-packages (from requests<3.0.0,>=2.13.0->spacy) (1.24.3)\n",
            "Requirement already satisfied: idna<3,>=2.5 in /usr/local/lib/python3.7/dist-packages (from requests<3.0.0,>=2.13.0->spacy) (2.10)\n",
            "Requirement already satisfied: chardet<4,>=3.0.2 in /usr/local/lib/python3.7/dist-packages (from requests<3.0.0,>=2.13.0->spacy) (3.0.4)\n",
            "Requirement already satisfied: certifi>=2017.4.17 in /usr/local/lib/python3.7/dist-packages (from requests<3.0.0,>=2.13.0->spacy) (2021.10.8)\n",
            "Requirement already satisfied: click<9.0.0,>=7.1.1 in /usr/local/lib/python3.7/dist-packages (from typer<0.5.0,>=0.3.0->spacy) (7.1.2)\n",
            "Requirement already satisfied: MarkupSafe>=0.23 in /usr/local/lib/python3.7/dist-packages (from jinja2->spacy) (2.0.1)\n",
            "Usage: python -m spacy [OPTIONS] COMMAND [ARGS]...\n",
            "Try 'python -m spacy --help' for help.\n",
            "\n",
            "Error: Missing command.\n",
            "Collecting pt-core-news-lg==3.3.0\n",
            "  Downloading https://github.com/explosion/spacy-models/releases/download/pt_core_news_lg-3.3.0/pt_core_news_lg-3.3.0-py3-none-any.whl (568.2 MB)\n",
            "\u001b[K     |████████████████████████████████| 568.2 MB 8.5 kB/s \n",
            "\u001b[?25hRequirement already satisfied: spacy<3.4.0,>=3.3.0.dev0 in /usr/local/lib/python3.7/dist-packages (from pt-core-news-lg==3.3.0) (3.3.0)\n",
            "Requirement already satisfied: wasabi<1.1.0,>=0.9.1 in /usr/local/lib/python3.7/dist-packages (from spacy<3.4.0,>=3.3.0.dev0->pt-core-news-lg==3.3.0) (0.9.1)\n",
            "Requirement already satisfied: thinc<8.1.0,>=8.0.14 in /usr/local/lib/python3.7/dist-packages (from spacy<3.4.0,>=3.3.0.dev0->pt-core-news-lg==3.3.0) (8.0.15)\n",
            "Requirement already satisfied: typer<0.5.0,>=0.3.0 in /usr/local/lib/python3.7/dist-packages (from spacy<3.4.0,>=3.3.0.dev0->pt-core-news-lg==3.3.0) (0.4.1)\n",
            "Requirement already satisfied: pydantic!=1.8,!=1.8.1,<1.9.0,>=1.7.4 in /usr/local/lib/python3.7/dist-packages (from spacy<3.4.0,>=3.3.0.dev0->pt-core-news-lg==3.3.0) (1.8.2)\n",
            "Requirement already satisfied: requests<3.0.0,>=2.13.0 in /usr/local/lib/python3.7/dist-packages (from spacy<3.4.0,>=3.3.0.dev0->pt-core-news-lg==3.3.0) (2.23.0)\n",
            "Requirement already satisfied: preshed<3.1.0,>=3.0.2 in /usr/local/lib/python3.7/dist-packages (from spacy<3.4.0,>=3.3.0.dev0->pt-core-news-lg==3.3.0) (3.0.6)\n",
            "Requirement already satisfied: pathy>=0.3.5 in /usr/local/lib/python3.7/dist-packages (from spacy<3.4.0,>=3.3.0.dev0->pt-core-news-lg==3.3.0) (0.6.1)\n",
            "Requirement already satisfied: catalogue<2.1.0,>=2.0.6 in /usr/local/lib/python3.7/dist-packages (from spacy<3.4.0,>=3.3.0.dev0->pt-core-news-lg==3.3.0) (2.0.7)\n",
            "Requirement already satisfied: tqdm<5.0.0,>=4.38.0 in /usr/local/lib/python3.7/dist-packages (from spacy<3.4.0,>=3.3.0.dev0->pt-core-news-lg==3.3.0) (4.64.0)\n",
            "Requirement already satisfied: murmurhash<1.1.0,>=0.28.0 in /usr/local/lib/python3.7/dist-packages (from spacy<3.4.0,>=3.3.0.dev0->pt-core-news-lg==3.3.0) (1.0.7)\n",
            "Requirement already satisfied: langcodes<4.0.0,>=3.2.0 in /usr/local/lib/python3.7/dist-packages (from spacy<3.4.0,>=3.3.0.dev0->pt-core-news-lg==3.3.0) (3.3.0)\n",
            "Requirement already satisfied: numpy>=1.15.0 in /usr/local/lib/python3.7/dist-packages (from spacy<3.4.0,>=3.3.0.dev0->pt-core-news-lg==3.3.0) (1.21.6)\n",
            "Requirement already satisfied: typing-extensions<4.0.0.0,>=3.7.4 in /usr/local/lib/python3.7/dist-packages (from spacy<3.4.0,>=3.3.0.dev0->pt-core-news-lg==3.3.0) (3.10.0.2)\n",
            "Requirement already satisfied: blis<0.8.0,>=0.4.0 in /usr/local/lib/python3.7/dist-packages (from spacy<3.4.0,>=3.3.0.dev0->pt-core-news-lg==3.3.0) (0.4.1)\n",
            "Requirement already satisfied: spacy-loggers<2.0.0,>=1.0.0 in /usr/local/lib/python3.7/dist-packages (from spacy<3.4.0,>=3.3.0.dev0->pt-core-news-lg==3.3.0) (1.0.2)\n",
            "Requirement already satisfied: packaging>=20.0 in /usr/local/lib/python3.7/dist-packages (from spacy<3.4.0,>=3.3.0.dev0->pt-core-news-lg==3.3.0) (21.3)\n",
            "Requirement already satisfied: cymem<2.1.0,>=2.0.2 in /usr/local/lib/python3.7/dist-packages (from spacy<3.4.0,>=3.3.0.dev0->pt-core-news-lg==3.3.0) (2.0.6)\n",
            "Requirement already satisfied: srsly<3.0.0,>=2.4.3 in /usr/local/lib/python3.7/dist-packages (from spacy<3.4.0,>=3.3.0.dev0->pt-core-news-lg==3.3.0) (2.4.3)\n",
            "Requirement already satisfied: spacy-legacy<3.1.0,>=3.0.9 in /usr/local/lib/python3.7/dist-packages (from spacy<3.4.0,>=3.3.0.dev0->pt-core-news-lg==3.3.0) (3.0.9)\n",
            "Requirement already satisfied: setuptools in /usr/local/lib/python3.7/dist-packages (from spacy<3.4.0,>=3.3.0.dev0->pt-core-news-lg==3.3.0) (57.4.0)\n",
            "Requirement already satisfied: jinja2 in /usr/local/lib/python3.7/dist-packages (from spacy<3.4.0,>=3.3.0.dev0->pt-core-news-lg==3.3.0) (2.11.3)\n",
            "Requirement already satisfied: zipp>=0.5 in /usr/local/lib/python3.7/dist-packages (from catalogue<2.1.0,>=2.0.6->spacy<3.4.0,>=3.3.0.dev0->pt-core-news-lg==3.3.0) (3.8.0)\n",
            "Requirement already satisfied: pyparsing!=3.0.5,>=2.0.2 in /usr/local/lib/python3.7/dist-packages (from packaging>=20.0->spacy<3.4.0,>=3.3.0.dev0->pt-core-news-lg==3.3.0) (3.0.8)\n",
            "Requirement already satisfied: smart-open<6.0.0,>=5.0.0 in /usr/local/lib/python3.7/dist-packages (from pathy>=0.3.5->spacy<3.4.0,>=3.3.0.dev0->pt-core-news-lg==3.3.0) (5.2.1)\n",
            "Requirement already satisfied: urllib3!=1.25.0,!=1.25.1,<1.26,>=1.21.1 in /usr/local/lib/python3.7/dist-packages (from requests<3.0.0,>=2.13.0->spacy<3.4.0,>=3.3.0.dev0->pt-core-news-lg==3.3.0) (1.24.3)\n",
            "Requirement already satisfied: idna<3,>=2.5 in /usr/local/lib/python3.7/dist-packages (from requests<3.0.0,>=2.13.0->spacy<3.4.0,>=3.3.0.dev0->pt-core-news-lg==3.3.0) (2.10)\n",
            "Requirement already satisfied: certifi>=2017.4.17 in /usr/local/lib/python3.7/dist-packages (from requests<3.0.0,>=2.13.0->spacy<3.4.0,>=3.3.0.dev0->pt-core-news-lg==3.3.0) (2021.10.8)\n",
            "Requirement already satisfied: chardet<4,>=3.0.2 in /usr/local/lib/python3.7/dist-packages (from requests<3.0.0,>=2.13.0->spacy<3.4.0,>=3.3.0.dev0->pt-core-news-lg==3.3.0) (3.0.4)\n",
            "Requirement already satisfied: click<9.0.0,>=7.1.1 in /usr/local/lib/python3.7/dist-packages (from typer<0.5.0,>=0.3.0->spacy<3.4.0,>=3.3.0.dev0->pt-core-news-lg==3.3.0) (7.1.2)\n",
            "Requirement already satisfied: MarkupSafe>=0.23 in /usr/local/lib/python3.7/dist-packages (from jinja2->spacy<3.4.0,>=3.3.0.dev0->pt-core-news-lg==3.3.0) (2.0.1)\n",
            "\u001b[38;5;2m✔ Download and installation successful\u001b[0m\n",
            "You can now load the package via spacy.load('pt_core_news_lg')\n",
            "Requirement already satisfied: senticnet in /usr/local/lib/python3.7/dist-packages (1.6)\n",
            "Requirement already satisfied: tqdm in /usr/local/lib/python3.7/dist-packages (4.64.0)\n",
            "Requirement already satisfied: pandas in /usr/local/lib/python3.7/dist-packages (1.3.5)\n",
            "Requirement already satisfied: pytz>=2017.3 in /usr/local/lib/python3.7/dist-packages (from pandas) (2022.1)\n",
            "Requirement already satisfied: numpy>=1.17.3 in /usr/local/lib/python3.7/dist-packages (from pandas) (1.21.6)\n",
            "Requirement already satisfied: python-dateutil>=2.7.3 in /usr/local/lib/python3.7/dist-packages (from pandas) (2.8.2)\n",
            "Requirement already satisfied: six>=1.5 in /usr/local/lib/python3.7/dist-packages (from python-dateutil>=2.7.3->pandas) (1.15.0)\n",
            "python3: can't open file 'setup.py': [Errno 2] No such file or directory\n",
            "Collecting en-core-web-lg==3.3.0\n",
            "  Downloading https://github.com/explosion/spacy-models/releases/download/en_core_web_lg-3.3.0/en_core_web_lg-3.3.0-py3-none-any.whl (400.7 MB)\n",
            "\u001b[K     |████████████████████████████████| 400.7 MB 6.7 kB/s \n",
            "\u001b[?25hRequirement already satisfied: spacy<3.4.0,>=3.3.0.dev0 in /usr/local/lib/python3.7/dist-packages (from en-core-web-lg==3.3.0) (3.3.0)\n",
            "Requirement already satisfied: langcodes<4.0.0,>=3.2.0 in /usr/local/lib/python3.7/dist-packages (from spacy<3.4.0,>=3.3.0.dev0->en-core-web-lg==3.3.0) (3.3.0)\n",
            "Requirement already satisfied: typing-extensions<4.0.0.0,>=3.7.4 in /usr/local/lib/python3.7/dist-packages (from spacy<3.4.0,>=3.3.0.dev0->en-core-web-lg==3.3.0) (3.10.0.2)\n",
            "Requirement already satisfied: numpy>=1.15.0 in /usr/local/lib/python3.7/dist-packages (from spacy<3.4.0,>=3.3.0.dev0->en-core-web-lg==3.3.0) (1.21.6)\n",
            "Requirement already satisfied: jinja2 in /usr/local/lib/python3.7/dist-packages (from spacy<3.4.0,>=3.3.0.dev0->en-core-web-lg==3.3.0) (2.11.3)\n",
            "Requirement already satisfied: typer<0.5.0,>=0.3.0 in /usr/local/lib/python3.7/dist-packages (from spacy<3.4.0,>=3.3.0.dev0->en-core-web-lg==3.3.0) (0.4.1)\n",
            "Requirement already satisfied: spacy-loggers<2.0.0,>=1.0.0 in /usr/local/lib/python3.7/dist-packages (from spacy<3.4.0,>=3.3.0.dev0->en-core-web-lg==3.3.0) (1.0.2)\n",
            "Requirement already satisfied: catalogue<2.1.0,>=2.0.6 in /usr/local/lib/python3.7/dist-packages (from spacy<3.4.0,>=3.3.0.dev0->en-core-web-lg==3.3.0) (2.0.7)\n",
            "Requirement already satisfied: pathy>=0.3.5 in /usr/local/lib/python3.7/dist-packages (from spacy<3.4.0,>=3.3.0.dev0->en-core-web-lg==3.3.0) (0.6.1)\n",
            "Requirement already satisfied: wasabi<1.1.0,>=0.9.1 in /usr/local/lib/python3.7/dist-packages (from spacy<3.4.0,>=3.3.0.dev0->en-core-web-lg==3.3.0) (0.9.1)\n",
            "Requirement already satisfied: requests<3.0.0,>=2.13.0 in /usr/local/lib/python3.7/dist-packages (from spacy<3.4.0,>=3.3.0.dev0->en-core-web-lg==3.3.0) (2.23.0)\n",
            "Requirement already satisfied: cymem<2.1.0,>=2.0.2 in /usr/local/lib/python3.7/dist-packages (from spacy<3.4.0,>=3.3.0.dev0->en-core-web-lg==3.3.0) (2.0.6)\n",
            "Requirement already satisfied: blis<0.8.0,>=0.4.0 in /usr/local/lib/python3.7/dist-packages (from spacy<3.4.0,>=3.3.0.dev0->en-core-web-lg==3.3.0) (0.4.1)\n",
            "Requirement already satisfied: thinc<8.1.0,>=8.0.14 in /usr/local/lib/python3.7/dist-packages (from spacy<3.4.0,>=3.3.0.dev0->en-core-web-lg==3.3.0) (8.0.15)\n",
            "Requirement already satisfied: srsly<3.0.0,>=2.4.3 in /usr/local/lib/python3.7/dist-packages (from spacy<3.4.0,>=3.3.0.dev0->en-core-web-lg==3.3.0) (2.4.3)\n",
            "Requirement already satisfied: tqdm<5.0.0,>=4.38.0 in /usr/local/lib/python3.7/dist-packages (from spacy<3.4.0,>=3.3.0.dev0->en-core-web-lg==3.3.0) (4.64.0)\n",
            "Requirement already satisfied: setuptools in /usr/local/lib/python3.7/dist-packages (from spacy<3.4.0,>=3.3.0.dev0->en-core-web-lg==3.3.0) (57.4.0)\n",
            "Requirement already satisfied: murmurhash<1.1.0,>=0.28.0 in /usr/local/lib/python3.7/dist-packages (from spacy<3.4.0,>=3.3.0.dev0->en-core-web-lg==3.3.0) (1.0.7)\n",
            "Requirement already satisfied: packaging>=20.0 in /usr/local/lib/python3.7/dist-packages (from spacy<3.4.0,>=3.3.0.dev0->en-core-web-lg==3.3.0) (21.3)\n",
            "Requirement already satisfied: preshed<3.1.0,>=3.0.2 in /usr/local/lib/python3.7/dist-packages (from spacy<3.4.0,>=3.3.0.dev0->en-core-web-lg==3.3.0) (3.0.6)\n",
            "Requirement already satisfied: spacy-legacy<3.1.0,>=3.0.9 in /usr/local/lib/python3.7/dist-packages (from spacy<3.4.0,>=3.3.0.dev0->en-core-web-lg==3.3.0) (3.0.9)\n",
            "Requirement already satisfied: pydantic!=1.8,!=1.8.1,<1.9.0,>=1.7.4 in /usr/local/lib/python3.7/dist-packages (from spacy<3.4.0,>=3.3.0.dev0->en-core-web-lg==3.3.0) (1.8.2)\n",
            "Requirement already satisfied: zipp>=0.5 in /usr/local/lib/python3.7/dist-packages (from catalogue<2.1.0,>=2.0.6->spacy<3.4.0,>=3.3.0.dev0->en-core-web-lg==3.3.0) (3.8.0)\n",
            "Requirement already satisfied: pyparsing!=3.0.5,>=2.0.2 in /usr/local/lib/python3.7/dist-packages (from packaging>=20.0->spacy<3.4.0,>=3.3.0.dev0->en-core-web-lg==3.3.0) (3.0.8)\n",
            "Requirement already satisfied: smart-open<6.0.0,>=5.0.0 in /usr/local/lib/python3.7/dist-packages (from pathy>=0.3.5->spacy<3.4.0,>=3.3.0.dev0->en-core-web-lg==3.3.0) (5.2.1)\n",
            "Requirement already satisfied: urllib3!=1.25.0,!=1.25.1,<1.26,>=1.21.1 in /usr/local/lib/python3.7/dist-packages (from requests<3.0.0,>=2.13.0->spacy<3.4.0,>=3.3.0.dev0->en-core-web-lg==3.3.0) (1.24.3)\n",
            "Requirement already satisfied: certifi>=2017.4.17 in /usr/local/lib/python3.7/dist-packages (from requests<3.0.0,>=2.13.0->spacy<3.4.0,>=3.3.0.dev0->en-core-web-lg==3.3.0) (2021.10.8)\n",
            "Requirement already satisfied: idna<3,>=2.5 in /usr/local/lib/python3.7/dist-packages (from requests<3.0.0,>=2.13.0->spacy<3.4.0,>=3.3.0.dev0->en-core-web-lg==3.3.0) (2.10)\n",
            "Requirement already satisfied: chardet<4,>=3.0.2 in /usr/local/lib/python3.7/dist-packages (from requests<3.0.0,>=2.13.0->spacy<3.4.0,>=3.3.0.dev0->en-core-web-lg==3.3.0) (3.0.4)\n",
            "Requirement already satisfied: click<9.0.0,>=7.1.1 in /usr/local/lib/python3.7/dist-packages (from typer<0.5.0,>=0.3.0->spacy<3.4.0,>=3.3.0.dev0->en-core-web-lg==3.3.0) (7.1.2)\n",
            "Requirement already satisfied: MarkupSafe>=0.23 in /usr/local/lib/python3.7/dist-packages (from jinja2->spacy<3.4.0,>=3.3.0.dev0->en-core-web-lg==3.3.0) (2.0.1)\n",
            "\u001b[38;5;2m✔ Download and installation successful\u001b[0m\n",
            "You can now load the package via spacy.load('en_core_web_lg')\n",
            "Collecting pt-core-news-sm==3.3.0\n",
            "  Downloading https://github.com/explosion/spacy-models/releases/download/pt_core_news_sm-3.3.0/pt_core_news_sm-3.3.0-py3-none-any.whl (13.0 MB)\n",
            "\u001b[K     |████████████████████████████████| 13.0 MB 4.2 MB/s \n",
            "\u001b[?25hRequirement already satisfied: spacy<3.4.0,>=3.3.0.dev0 in /usr/local/lib/python3.7/dist-packages (from pt-core-news-sm==3.3.0) (3.3.0)\n",
            "Requirement already satisfied: typer<0.5.0,>=0.3.0 in /usr/local/lib/python3.7/dist-packages (from spacy<3.4.0,>=3.3.0.dev0->pt-core-news-sm==3.3.0) (0.4.1)\n",
            "Requirement already satisfied: packaging>=20.0 in /usr/local/lib/python3.7/dist-packages (from spacy<3.4.0,>=3.3.0.dev0->pt-core-news-sm==3.3.0) (21.3)\n",
            "Requirement already satisfied: spacy-loggers<2.0.0,>=1.0.0 in /usr/local/lib/python3.7/dist-packages (from spacy<3.4.0,>=3.3.0.dev0->pt-core-news-sm==3.3.0) (1.0.2)\n",
            "Requirement already satisfied: preshed<3.1.0,>=3.0.2 in /usr/local/lib/python3.7/dist-packages (from spacy<3.4.0,>=3.3.0.dev0->pt-core-news-sm==3.3.0) (3.0.6)\n",
            "Requirement already satisfied: cymem<2.1.0,>=2.0.2 in /usr/local/lib/python3.7/dist-packages (from spacy<3.4.0,>=3.3.0.dev0->pt-core-news-sm==3.3.0) (2.0.6)\n",
            "Requirement already satisfied: jinja2 in /usr/local/lib/python3.7/dist-packages (from spacy<3.4.0,>=3.3.0.dev0->pt-core-news-sm==3.3.0) (2.11.3)\n",
            "Requirement already satisfied: spacy-legacy<3.1.0,>=3.0.9 in /usr/local/lib/python3.7/dist-packages (from spacy<3.4.0,>=3.3.0.dev0->pt-core-news-sm==3.3.0) (3.0.9)\n",
            "Requirement already satisfied: thinc<8.1.0,>=8.0.14 in /usr/local/lib/python3.7/dist-packages (from spacy<3.4.0,>=3.3.0.dev0->pt-core-news-sm==3.3.0) (8.0.15)\n",
            "Requirement already satisfied: srsly<3.0.0,>=2.4.3 in /usr/local/lib/python3.7/dist-packages (from spacy<3.4.0,>=3.3.0.dev0->pt-core-news-sm==3.3.0) (2.4.3)\n",
            "Requirement already satisfied: typing-extensions<4.0.0.0,>=3.7.4 in /usr/local/lib/python3.7/dist-packages (from spacy<3.4.0,>=3.3.0.dev0->pt-core-news-sm==3.3.0) (3.10.0.2)\n",
            "Requirement already satisfied: tqdm<5.0.0,>=4.38.0 in /usr/local/lib/python3.7/dist-packages (from spacy<3.4.0,>=3.3.0.dev0->pt-core-news-sm==3.3.0) (4.64.0)\n",
            "Requirement already satisfied: blis<0.8.0,>=0.4.0 in /usr/local/lib/python3.7/dist-packages (from spacy<3.4.0,>=3.3.0.dev0->pt-core-news-sm==3.3.0) (0.4.1)\n",
            "Requirement already satisfied: pathy>=0.3.5 in /usr/local/lib/python3.7/dist-packages (from spacy<3.4.0,>=3.3.0.dev0->pt-core-news-sm==3.3.0) (0.6.1)\n",
            "Requirement already satisfied: pydantic!=1.8,!=1.8.1,<1.9.0,>=1.7.4 in /usr/local/lib/python3.7/dist-packages (from spacy<3.4.0,>=3.3.0.dev0->pt-core-news-sm==3.3.0) (1.8.2)\n",
            "Requirement already satisfied: setuptools in /usr/local/lib/python3.7/dist-packages (from spacy<3.4.0,>=3.3.0.dev0->pt-core-news-sm==3.3.0) (57.4.0)\n",
            "Requirement already satisfied: numpy>=1.15.0 in /usr/local/lib/python3.7/dist-packages (from spacy<3.4.0,>=3.3.0.dev0->pt-core-news-sm==3.3.0) (1.21.6)\n",
            "Requirement already satisfied: langcodes<4.0.0,>=3.2.0 in /usr/local/lib/python3.7/dist-packages (from spacy<3.4.0,>=3.3.0.dev0->pt-core-news-sm==3.3.0) (3.3.0)\n",
            "Requirement already satisfied: catalogue<2.1.0,>=2.0.6 in /usr/local/lib/python3.7/dist-packages (from spacy<3.4.0,>=3.3.0.dev0->pt-core-news-sm==3.3.0) (2.0.7)\n",
            "Requirement already satisfied: requests<3.0.0,>=2.13.0 in /usr/local/lib/python3.7/dist-packages (from spacy<3.4.0,>=3.3.0.dev0->pt-core-news-sm==3.3.0) (2.23.0)\n",
            "Requirement already satisfied: murmurhash<1.1.0,>=0.28.0 in /usr/local/lib/python3.7/dist-packages (from spacy<3.4.0,>=3.3.0.dev0->pt-core-news-sm==3.3.0) (1.0.7)\n",
            "Requirement already satisfied: wasabi<1.1.0,>=0.9.1 in /usr/local/lib/python3.7/dist-packages (from spacy<3.4.0,>=3.3.0.dev0->pt-core-news-sm==3.3.0) (0.9.1)\n",
            "Requirement already satisfied: zipp>=0.5 in /usr/local/lib/python3.7/dist-packages (from catalogue<2.1.0,>=2.0.6->spacy<3.4.0,>=3.3.0.dev0->pt-core-news-sm==3.3.0) (3.8.0)\n",
            "Requirement already satisfied: pyparsing!=3.0.5,>=2.0.2 in /usr/local/lib/python3.7/dist-packages (from packaging>=20.0->spacy<3.4.0,>=3.3.0.dev0->pt-core-news-sm==3.3.0) (3.0.8)\n",
            "Requirement already satisfied: smart-open<6.0.0,>=5.0.0 in /usr/local/lib/python3.7/dist-packages (from pathy>=0.3.5->spacy<3.4.0,>=3.3.0.dev0->pt-core-news-sm==3.3.0) (5.2.1)\n",
            "Requirement already satisfied: chardet<4,>=3.0.2 in /usr/local/lib/python3.7/dist-packages (from requests<3.0.0,>=2.13.0->spacy<3.4.0,>=3.3.0.dev0->pt-core-news-sm==3.3.0) (3.0.4)\n",
            "Requirement already satisfied: certifi>=2017.4.17 in /usr/local/lib/python3.7/dist-packages (from requests<3.0.0,>=2.13.0->spacy<3.4.0,>=3.3.0.dev0->pt-core-news-sm==3.3.0) (2021.10.8)\n",
            "Requirement already satisfied: urllib3!=1.25.0,!=1.25.1,<1.26,>=1.21.1 in /usr/local/lib/python3.7/dist-packages (from requests<3.0.0,>=2.13.0->spacy<3.4.0,>=3.3.0.dev0->pt-core-news-sm==3.3.0) (1.24.3)\n",
            "Requirement already satisfied: idna<3,>=2.5 in /usr/local/lib/python3.7/dist-packages (from requests<3.0.0,>=2.13.0->spacy<3.4.0,>=3.3.0.dev0->pt-core-news-sm==3.3.0) (2.10)\n",
            "Requirement already satisfied: click<9.0.0,>=7.1.1 in /usr/local/lib/python3.7/dist-packages (from typer<0.5.0,>=0.3.0->spacy<3.4.0,>=3.3.0.dev0->pt-core-news-sm==3.3.0) (7.1.2)\n",
            "Requirement already satisfied: MarkupSafe>=0.23 in /usr/local/lib/python3.7/dist-packages (from jinja2->spacy<3.4.0,>=3.3.0.dev0->pt-core-news-sm==3.3.0) (2.0.1)\n",
            "\u001b[38;5;2m✔ Download and installation successful\u001b[0m\n",
            "You can now load the package via spacy.load('pt_core_news_sm')\n"
          ]
        }
      ],
      "source": [
        "!pip install --upgrade spacy\n",
        "!python -m spacy\n",
        "!python -m spacy download pt_core_news_lg\n",
        "!pip install senticnet\n",
        "!pip install tqdm\n",
        "!pip install pandas\n",
        "!python setup.py install\n",
        "!python -m spacy download en_core_web_lg\n",
        "!python -m spacy download pt_core_news_sm"
      ]
    },
    {
      "cell_type": "markdown",
      "metadata": {
        "id": "IzPuXWFOvLqL"
      },
      "source": [
        "## Importando Bibliotecas"
      ]
    },
    {
      "cell_type": "code",
      "execution_count": null,
      "metadata": {
        "id": "FhAMKk6te68j",
        "colab": {
          "base_uri": "https://localhost:8080/"
        },
        "outputId": "1eb61860-4139-49e0-dc8b-5917377756f0"
      },
      "outputs": [
        {
          "output_type": "stream",
          "name": "stdout",
          "text": [
            "\n",
            "Usage:   \n",
            "  pip3 <command> [options]\n",
            "\n",
            "no such option: -m\n"
          ]
        }
      ],
      "source": [
        "!pip -m spacy download pt_core_news_lg\n",
        "import pt_core_news_sm\n",
        "import spacy\n",
        "from spacy import displacy\n",
        "from senticnet.senticnet import SenticNet\n",
        "from senticnet.babelsenticnet import BabelSenticNet\n",
        "import xml.etree.ElementTree as ET\n",
        "import pandas as pd\n",
        "import pathlib\n",
        "import re\n",
        "import glob\n",
        "import pandas as pd\n",
        "import numpy as np\n",
        "from tqdm import tqdm\n",
        "from enum import Enum\n",
        "import pandas as pd"
      ]
    },
    {
      "cell_type": "markdown",
      "metadata": {
        "id": "7DO0HQgdgXz2"
      },
      "source": [
        "## Exemplo de Analisador de Dependências"
      ]
    },
    {
      "cell_type": "code",
      "execution_count": null,
      "metadata": {
        "colab": {
          "base_uri": "https://localhost:8080/",
          "height": 512
        },
        "id": "WZkiG7kPe_xW",
        "outputId": "7c2a96b1-56f1-4632-db3e-4b7862dd27ca"
      },
      "outputs": [
        {
          "output_type": "stream",
          "name": "stdout",
          "text": [
            "o DET livro det DET\n",
            "livro NOUN estranho nsubj NOUN\n",
            "é AUX estranho cop AUX\n",
            "muito ADV estranho advmod ADV\n",
            "estranho ADJ estranho ROOT ADJ\n"
          ]
        },
        {
          "output_type": "display_data",
          "data": {
            "text/plain": [
              "<IPython.core.display.HTML object>"
            ],
            "text/html": [
              "<span class=\"tex2jax_ignore\"><svg xmlns=\"http://www.w3.org/2000/svg\" xmlns:xlink=\"http://www.w3.org/1999/xlink\" xml:lang=\"pt\" id=\"7c16b75396544bcfb2afcafd8460deba-0\" class=\"displacy\" width=\"925\" height=\"399.5\" direction=\"ltr\" style=\"max-width: none; height: 399.5px; color: #000000; background: #ffffff; font-family: Arial; direction: ltr\">\n",
              "<text class=\"displacy-token\" fill=\"currentColor\" text-anchor=\"middle\" y=\"309.5\">\n",
              "    <tspan class=\"displacy-word\" fill=\"currentColor\" x=\"50\">o</tspan>\n",
              "    <tspan class=\"displacy-tag\" dy=\"2em\" fill=\"currentColor\" x=\"50\">DET</tspan>\n",
              "</text>\n",
              "\n",
              "<text class=\"displacy-token\" fill=\"currentColor\" text-anchor=\"middle\" y=\"309.5\">\n",
              "    <tspan class=\"displacy-word\" fill=\"currentColor\" x=\"225\">livro</tspan>\n",
              "    <tspan class=\"displacy-tag\" dy=\"2em\" fill=\"currentColor\" x=\"225\">NOUN</tspan>\n",
              "</text>\n",
              "\n",
              "<text class=\"displacy-token\" fill=\"currentColor\" text-anchor=\"middle\" y=\"309.5\">\n",
              "    <tspan class=\"displacy-word\" fill=\"currentColor\" x=\"400\">é</tspan>\n",
              "    <tspan class=\"displacy-tag\" dy=\"2em\" fill=\"currentColor\" x=\"400\">AUX</tspan>\n",
              "</text>\n",
              "\n",
              "<text class=\"displacy-token\" fill=\"currentColor\" text-anchor=\"middle\" y=\"309.5\">\n",
              "    <tspan class=\"displacy-word\" fill=\"currentColor\" x=\"575\">muito</tspan>\n",
              "    <tspan class=\"displacy-tag\" dy=\"2em\" fill=\"currentColor\" x=\"575\">ADV</tspan>\n",
              "</text>\n",
              "\n",
              "<text class=\"displacy-token\" fill=\"currentColor\" text-anchor=\"middle\" y=\"309.5\">\n",
              "    <tspan class=\"displacy-word\" fill=\"currentColor\" x=\"750\">estranho</tspan>\n",
              "    <tspan class=\"displacy-tag\" dy=\"2em\" fill=\"currentColor\" x=\"750\">ADJ</tspan>\n",
              "</text>\n",
              "\n",
              "<g class=\"displacy-arrow\">\n",
              "    <path class=\"displacy-arc\" id=\"arrow-7c16b75396544bcfb2afcafd8460deba-0-0\" stroke-width=\"2px\" d=\"M70,264.5 C70,177.0 215.0,177.0 215.0,264.5\" fill=\"none\" stroke=\"currentColor\"/>\n",
              "    <text dy=\"1.25em\" style=\"font-size: 0.8em; letter-spacing: 1px\">\n",
              "        <textPath xlink:href=\"#arrow-7c16b75396544bcfb2afcafd8460deba-0-0\" class=\"displacy-label\" startOffset=\"50%\" side=\"left\" fill=\"currentColor\" text-anchor=\"middle\">det</textPath>\n",
              "    </text>\n",
              "    <path class=\"displacy-arrowhead\" d=\"M70,266.5 L62,254.5 78,254.5\" fill=\"currentColor\"/>\n",
              "</g>\n",
              "\n",
              "<g class=\"displacy-arrow\">\n",
              "    <path class=\"displacy-arc\" id=\"arrow-7c16b75396544bcfb2afcafd8460deba-0-1\" stroke-width=\"2px\" d=\"M245,264.5 C245,2.0 750.0,2.0 750.0,264.5\" fill=\"none\" stroke=\"currentColor\"/>\n",
              "    <text dy=\"1.25em\" style=\"font-size: 0.8em; letter-spacing: 1px\">\n",
              "        <textPath xlink:href=\"#arrow-7c16b75396544bcfb2afcafd8460deba-0-1\" class=\"displacy-label\" startOffset=\"50%\" side=\"left\" fill=\"currentColor\" text-anchor=\"middle\">nsubj</textPath>\n",
              "    </text>\n",
              "    <path class=\"displacy-arrowhead\" d=\"M245,266.5 L237,254.5 253,254.5\" fill=\"currentColor\"/>\n",
              "</g>\n",
              "\n",
              "<g class=\"displacy-arrow\">\n",
              "    <path class=\"displacy-arc\" id=\"arrow-7c16b75396544bcfb2afcafd8460deba-0-2\" stroke-width=\"2px\" d=\"M420,264.5 C420,89.5 745.0,89.5 745.0,264.5\" fill=\"none\" stroke=\"currentColor\"/>\n",
              "    <text dy=\"1.25em\" style=\"font-size: 0.8em; letter-spacing: 1px\">\n",
              "        <textPath xlink:href=\"#arrow-7c16b75396544bcfb2afcafd8460deba-0-2\" class=\"displacy-label\" startOffset=\"50%\" side=\"left\" fill=\"currentColor\" text-anchor=\"middle\">cop</textPath>\n",
              "    </text>\n",
              "    <path class=\"displacy-arrowhead\" d=\"M420,266.5 L412,254.5 428,254.5\" fill=\"currentColor\"/>\n",
              "</g>\n",
              "\n",
              "<g class=\"displacy-arrow\">\n",
              "    <path class=\"displacy-arc\" id=\"arrow-7c16b75396544bcfb2afcafd8460deba-0-3\" stroke-width=\"2px\" d=\"M595,264.5 C595,177.0 740.0,177.0 740.0,264.5\" fill=\"none\" stroke=\"currentColor\"/>\n",
              "    <text dy=\"1.25em\" style=\"font-size: 0.8em; letter-spacing: 1px\">\n",
              "        <textPath xlink:href=\"#arrow-7c16b75396544bcfb2afcafd8460deba-0-3\" class=\"displacy-label\" startOffset=\"50%\" side=\"left\" fill=\"currentColor\" text-anchor=\"middle\">advmod</textPath>\n",
              "    </text>\n",
              "    <path class=\"displacy-arrowhead\" d=\"M595,266.5 L587,254.5 603,254.5\" fill=\"currentColor\"/>\n",
              "</g>\n",
              "</svg></span>"
            ]
          },
          "metadata": {}
        }
      ],
      "source": [
        "nlp = pt_core_news_sm.load()\n",
        "sentence = \"o livro é muito estranho\"\n",
        "doc = nlp(sentence)\n",
        "aspectos = []\n",
        "bsn = BabelSenticNet('pt') \n",
        "for token in doc:\n",
        "    print(token.text, token.tag_, token.head.text, token.dep_, token.pos_)\n",
        "display = displacy.render(doc, style='dep', jupyter=True)\n",
        "display"
      ]
    },
    {
      "cell_type": "markdown",
      "metadata": {
        "id": "u7Cc929ReV8r"
      },
      "source": [
        "## Funções Auxiliares \n",
        "\n",
        "Referências: [3].\n",
        "\n",
        "* essas funções modularizam a implementação de trechos de código comuns para algumas regras\n",
        "* a função OP foi implementada para extrair palavras de opinião de um arquivo [3].\n"
      ]
    },
    {
      "cell_type": "code",
      "execution_count": null,
      "metadata": {
        "id": "th1YBd0ueStu"
      },
      "outputs": [],
      "source": [
        "def relation_nsubj(doc):\n",
        "    aux1 = \" \"\n",
        "    aux2 = \" \"\n",
        "    for i in doc:\n",
        "        if i.dep_ == \"nsubj\":\n",
        "            aux1 = i.text\n",
        "            aux2 = i.head.text\n",
        "            break;\n",
        "    return aux1, aux2\n",
        "\n",
        "def is_auxiliar(doc):\n",
        "    auxiliar = 0    \n",
        "    for i in doc:\n",
        "        if i.pos_ == \"AUX\":\n",
        "            auxiliar = 1\n",
        "            break\n",
        "    return auxiliar\n",
        "\n",
        "def OP():\n",
        "    arq = open(\"/content/drive/MyDrive/Vanessa/datasets/palavras.txt\")\n",
        "    op = set(line.strip() for line in arq)\n",
        "    arq.close()\n",
        "    return op\n",
        "op = OP()"
      ]
    },
    {
      "cell_type": "code",
      "source": [
        "df = pd.read_csv('teste.csv', on_bad_lines='skip', sep=\";\" )\n",
        "df\n",
        "reviews = list(df['review'])\n",
        "aspects = list(df['aspect'])\n",
        "conjunto_de_pares = set()\n",
        "for r, a in zip(reviews, aspects):\n",
        "    par = (r, a)\n",
        "    conjunto_de_pares.add(par)\n",
        "conjunto_de_pares"
      ],
      "metadata": {
        "colab": {
          "base_uri": "https://localhost:8080/"
        },
        "id": "7PxFbWoeUJWE",
        "outputId": "68522f3b-1382-410d-cc72-314a5a63ac57"
      },
      "execution_count": null,
      "outputs": [
        {
          "output_type": "execute_result",
          "data": {
            "text/plain": [
              "{('Adorei a estadia. Porto Alegre foi sensacional. Os recepcionistas ajudaram muito. Local ideal para quem vai resolver assuntos ou mesmo para turistas. A localização achei muito boa... bem localizado no centro comercial da cidade... pode fazer umas comprinhas e encontrar produtos bem em conta além de ir andando para o evento.. possui restaurante próximo e a estrutura física do hotel está em reforma... os funcionários bem receptivos.... o elevador funcionando normalmente.',\n",
              "  'hotel'),\n",
              " ('Boa localização, perto da Times Square e Columbus Circle, bem central. Pode-se ir a pé para várias atrações turísticas ou apenas para flanar na cidade. Bons restaurantes e lanchonetes próximos. Funcionários prestativos e atenciosos. Pela categoria do hotel poderia ofertar wifi free para os hospedes pelo menos no lobby do hotel. O ponto negativo foi apenas que duas noites após chegarmos cansadas não havia toalhas no banheiro e tínhamos que pedir para trazer, mas eramos prontamente atendidas.',\n",
              "  'funcionários'),\n",
              " ('Cheio de charme e bom gosto. Uma equipe agradavel e que faz de tudo para atender os hospedes. A decoracao e linda e o restaurante delicioso...  A localizacao nao poderia ser melhor - Saint Germain de Pres! Perto de tudo!    Pontos negativos:   Quartos muito pequenos, faltam duchas, armarios, mas o resto compensa!',\n",
              "  'ducha'),\n",
              " ('Estive com minha filha em outubro neste hotel. A localização é excelente , local privilegiado para compras e para pontos agitados da cidade. Quartos grandes e confortáveis. Café da manhã um pouco caro mas com qualidade. Funcionarios atenciosos. Ficamos no 28º andar mas o acesso é feito muito rápido. Guardam as malas até a sua saída. Ótimo hotel. Recomendo.',\n",
              "  'localização'),\n",
              " ('Estive por 8 dias hospedado neste hotel com minha familia e posso afirmar com todas as letras que este hotel cumpre o que promete em todos os quesitos oferecidos, e além de tudo é um dos único que oferecem um café da manhã aos moldes dos hotéis no Brasil, incluso na diária, sem contar que na recepção tem café, chocolate e biscoitos o dia inteiro..muita cortesia.  Voltarei com certeza',\n",
              "  'café da manhã'),\n",
              " ('O Audran fica pertinho do metrô e de Sacre-couer. Além de ter restaurantes próximos. Fiquei em quarto duplo, para dormir e descansar ele é ótimo, com um estilo clássico. Não tomamos café da manhã no hotel. O pessoal é muito simpático, não tivemos problemas. O hotel é barato, ficamos 4 dias, porém, as coisas em Paris são muito caras - água e comida. Tem wifi.',\n",
              "  'hotel'),\n",
              " ('O hotel fica na place de la sorbonne, com cafés e mercadinho ao redor, á noite é bem movimentado. Os quartos são bem pequenos e não tem frigobar, o elevador mau cabe 2 pessoas. O café da manhã é muito fraco, pelo valor da diária poderia ser bem melhor. Não sei se me hospedaria neste hotel novamente, pois estava com criança, e foi muito difícil ficar sem geladeira no quarto.',\n",
              "  'elevador'),\n",
              " ('O hotel tem ótima localização, fizemos vários passeios a pé a partir dali. Os atendentes da recepção e também do restaurantes são muito simpáticos e atenciosos. O quarto e o banheiro sao espaçosos, novos, limpos e a internet funciona muito bem. O café-da-manhã é delicioso e bem servido. Pretendo voltar outras vezes e recomendo a todos!',\n",
              "  'internet'),\n",
              " ('O hotel é perto de todos os pontos principais de Paris, cercado de estações de metrô, dá para fazer tudo a pé.  O Hotel é charmoso, aconselho ficar nos quartos no piso superior, perto de telhado, típica arquitetura parisiense. O café da manhã é simples, mas na medida certa, tudo muito gostoso, croissant sensacional!  O preço é um pouco salgado, mas se puder vale muito a pena.',\n",
              "  'quarto'),\n",
              " ('Quarto muito pequeno, porém a cama é confortável. A casa de banho é antiga e também bastante pequena. A limpeza razoável. O atendimento é interessante, simpática recepção (há uma funcionária brasileira que fala português). Não experimentámos o pequeno-almoço. A localização é talvez o ponto mais positivo do hotel: perto da estação Dupleix e a uma caminhada de 10 minutos da Torre Eiffel. Uma excelente opção para quem quer visitar Paris e ficar num sítio sem luxos, mas confortável.',\n",
              "  'limpeza'),\n",
              " ('Viajamos eu e minha irmã. O hotel tem uma extrutura excelente! Elevadores modernos e rápidos. O quarto bem climatizado e roupas de cama novas e limpas. O café da manhã farto e variado. O fato de ser ao lado da gare Montparnasse facilitou a ida a Versailles, pois pudemos pegar um trem lá. O ponto negativo é que o metrô não é muito perto, (6 quadras grandes) e a caminhada no frio muito angustiante! Mas retornaria com certeza!',\n",
              "  'elevador')}"
            ]
          },
          "metadata": {},
          "execution_count": 72
        }
      ]
    },
    {
      "cell_type": "markdown",
      "metadata": {
        "id": "01mVOyynZqUc"
      },
      "source": [
        "## Regra 1\n",
        "\n",
        "References: [1].\n",
        "\n",
        "0, exemplo: O **livro** é *muito estranho*.\n",
        "\n",
        "> Trigger: quando o token ativo é considerado o sujeito sintático de um token.\n",
        "Comportamento: se um token ativo h está em uma relação de substantivo com uma palavra t, então:\n",
        "1. se t tem qualquer modificador adverbial ou adjetivo e o modificador existe no SenticNet, então t é extraído\n",
        "como um aspecto."
      ]
    },
    {
      "cell_type": "code",
      "execution_count": null,
      "metadata": {
        "id": "jXDIPgdUEx9_"
      },
      "outputs": [],
      "source": [
        "def regra1(doc,aspectos):   \n",
        "    token_h = \"\"\n",
        "    token_t = \"\"\n",
        "    for i in doc:\n",
        "        if i.dep_ == \"nsubj\" or i.dep_ == \"nsubj:pass\":\n",
        "            token_h = i\n",
        "            token_t = i.head.text\n",
        "            break; \n",
        "    for i in doc:\n",
        "        if i.head.text == token_t:\n",
        "            if i.dep_ == \"advmod\" or i.dep_ == \"adjmod\":\n",
        "                try:\n",
        "                    concept = bsn.concept(i.text)\n",
        "                except Exception as e:\n",
        "                    return \n",
        "                finally:\n",
        "                    aspectos.append(token_t)\n",
        "    return aspectos"
      ]
    },
    {
      "cell_type": "markdown",
      "metadata": {
        "id": "WQP6j8hEac0j"
      },
      "source": [
        "## Regra 2\n",
        "Referências: [1].\n",
        "\n",
        "1, exemplo: A **bateria** *dura pouco*.\n",
        "\n",
        "> se a frase não tem verbo auxiliar, ou seja, é, foi, iria, deveria, poderia, então: • se o verbo t é modificado por um adjetivo ou advérbio ou está em relação modificadora de oração adverbial com outro token, então ambos he t são extraídos como aspectos. Em (1), bateria está em uma relação de sujeito com dura e dura é pouco modificada pelo adjetivo modificador, portanto tanto os aspectos último quanto bateria são extraídos. \n",
        " (1) A bateria dura pouco."
      ]
    },
    {
      "cell_type": "code",
      "execution_count": null,
      "metadata": {
        "id": "4Z2CTeVcVBeH"
      },
      "outputs": [],
      "source": [
        "def regra2(doc, aspectos):\n",
        "    token_h = relation_nsubj(doc)[0]\n",
        "    token_t = relation_nsubj(doc)[1]\n",
        "    if not is_auxiliar(doc):\n",
        "        for i in doc:\n",
        "            if ((i.dep_ == \"advmod\" and i.head.text == token_t) or \n",
        "               (i.dep_ == \"adjmod\" and i.head.text == token_t)  or \n",
        "               (i.dep_ == \"advcl\" and i.head.text == token_t) or \n",
        "                (i.dep_ == \"amod\" and i.head.text == token_t)):\n",
        "                aspectos.append(token_h)\n",
        "                # aspectos.append(token_t)\n",
        "    return aspectos"
      ]
    },
    {
      "cell_type": "markdown",
      "metadata": {
        "id": "Clh5eL5kO3i4"
      },
      "source": [
        "## Regras 3 e 4\n",
        "\n",
        "Referências: [1].\n",
        "\n",
        "2 e 3, exemplos: Eu gosto das **lentes** da câmera, eu gosto da **beleza** da tela.\n",
        "\n",
        "> Se t tem qualquer relação direta de objeto com um token n e o POS do token é Noun e n não está\n",
        "no SenticNet, então n é extraído como um aspecto. Em (2), como está em relação direta de objeto com a lente\n",
        "então a lente de aspecto é extraída.\n",
        "(2)\n",
        "Eu gosto da lente desta câmera.\n",
        "\n",
        "\n",
        "> Se t tem qualquer relação direta de objeto com um token n e o POS do token n é Noun e n existe\n",
        "no SenticNet, o token n é extraído como termo de aspecto. Na árvore de análise de dependência do\n",
        "sentença, se outro token n 1 estiver conectado an usando qualquer relação de dependência e o POS de\n",
        "n 1 é o substantivo, então n 1 é extraído como um aspecto. Em (3), como está em relação direta de objeto com a beleza\n",
        "que está conectado à tela por meio de uma relação de preposição. Portanto, os aspectos da tela e da beleza são\n",
        "extraído.\n",
        "(3)\n",
        "Gosto da beleza da tela."
      ]
    },
    {
      "cell_type": "code",
      "execution_count": null,
      "metadata": {
        "id": "Q3_GGdOdPBtp"
      },
      "outputs": [],
      "source": [
        "def regra3_4(doc, aspectos):\n",
        "    token_h = relation_nsubj(doc)[0]\n",
        "    token_t = relation_nsubj(doc)[1]\n",
        "    token_n = \"\"\n",
        "    token_n1 = \"\"\n",
        "    auxiliar = 0\n",
        "    flag = 0\n",
        "    pair = (\"\",\"\")\n",
        "    if not is_auxiliar(doc):\n",
        "        for i in doc:\n",
        "            if ((i.dep_ == \"obj\" or i.dep_ == \"obj:pass\") and \n",
        "                i.head.text == token_t):\n",
        "                if i.pos_ == \"NOUN\":\n",
        "                    token_n = i.text\n",
        "                    try:\n",
        "                        concept = bsn.concept(token_n)\n",
        "                    except Exception as e: \n",
        "                        flag = 1\n",
        "                        aspectos.append(token_n) \n",
        "                    if flag != 1:\n",
        "                        sentiment = token_n \n",
        "                        pair = (\"\", sentiment)\n",
        "        if not flag:\n",
        "            for i in doc:\n",
        "                if i.dep_ and i.head.text == token_n and i.pos_ == \"NOUN\":\n",
        "                    flag = 1\n",
        "                    token_n1 = i.text\n",
        "                    aspect = token_n1\n",
        "                    pair = (token_n1, sentiment)\n",
        "                    aspectos.append(pair)                \n",
        "                    break;\n",
        "            if not flag:\n",
        "                aspectos.append(pair)\n",
        "    return aspectos"
      ]
    },
    {
      "cell_type": "markdown",
      "metadata": {
        "id": "c28Q6vH_TVhC"
      },
      "source": [
        "## Regra 5\n",
        "Referências: [1].\n",
        "\n",
        "4, exemplo: Eu gostaria de comentar sobre a **câmera** do celular.\n",
        "\n",
        "> Se t está em relação de complemento de oração aberta com um token t1, então o aspecto t-t1 é extraído se t-t1\n",
        "existe no léxico de opinião. Se t1 estiver conectado com um\n",
        "token t2 cujo POS é Noun, então t2 é\n",
        "extraído como um aspecto. Em (4), gosto e comentário estão na relação de complemento oracional e comentário\n",
        "é conectado à câmera usando uma relação de preposição. Aqui, o POS da câmera é o substantivo e,\n",
        "portanto, a câmera é extraída como um aspecto.\n",
        "(4)\n",
        "Eu gostaria de comentar sobre a câmera deste telefone."
      ]
    },
    {
      "cell_type": "code",
      "execution_count": null,
      "metadata": {
        "id": "3-1eU0fSTiag"
      },
      "outputs": [],
      "source": [
        "def regra5(doc, aspectos):\n",
        "    token_h = relation_nsubj(doc)[0]\n",
        "    token_t = relation_nsubj(doc)[1]\n",
        "    if not is_auxiliar(doc):\n",
        "        for i in doc:\n",
        "            if i.dep_ == \"xcomp\" and i.head.text == token_t:\n",
        "                flag = 0\n",
        "                token_t1 = i.text;\n",
        "                try:\n",
        "                    concept = bsn.concept(token_t1)\n",
        "                except Exception as e:\n",
        "                    flag = 0 \n",
        "                finally:\n",
        "                    flag = 1\n",
        "                flag = 0\n",
        "                try:\n",
        "                    concept = bsn.concept(token_t1)\n",
        "                except Exception as e:\n",
        "                    flag = 0 \n",
        "                finally:\n",
        "                    flag = 1\n",
        "                if flag:\n",
        "                    ok = 0\n",
        "                    for i in doc:\n",
        "                        if i.head.text == token_t1:\n",
        "                            token_h = i\n",
        "                            ok = 1\n",
        "                    if ok and token_h.pos_ == \"NOUN\":\n",
        "                        aspectos.append(token_h)\n",
        "                    elif (ok and token_h.pos_ != \"NOUN\"):\n",
        "                        aspect = ' '.join([token_t, token_t1])\n",
        "                        aspectos.append(aspect)\n",
        "        return aspectos"
      ]
    },
    {
      "cell_type": "markdown",
      "metadata": {
        "id": "WZZR3FBp66wK"
      },
      "source": [
        "## Regra 6\n",
        "\n",
        "Referências: [1].\n",
        "\n",
        "6, exemplo: A **câmera** é *boa*.\n",
        "\n",
        "> Se o token t está em relação de cópula com um verbo copular e o POS de h é substantivo, então h é extraído\n",
        "como um aspecto explícito. Em (6), a câmera é extraída como um aspecto.\n",
        "(6) A câmera é boa."
      ]
    },
    {
      "cell_type": "code",
      "execution_count": null,
      "metadata": {
        "id": "PIxgfQyL7RkU"
      },
      "outputs": [],
      "source": [
        "def regra6(doc, aspectos):\n",
        "    token_h, token_t = relation_nsubj(doc)\n",
        "    for i in doc:\n",
        "        if i.dep_ == \"cop\":\n",
        "            for j in doc:\n",
        "                if j.text == token_h:\n",
        "                    if j.pos_ == \"NOUN\" or j.pos_ == \"PROPN\":\n",
        "                        aspectos.append(token_h)\n",
        "    return aspectos"
      ]
    },
    {
      "cell_type": "markdown",
      "metadata": {
        "id": "W7yvp7YWY8NM"
      },
      "source": [
        "##Regra 7\n",
        "Referências: [1].\n",
        "\n",
        "9, exemplo: Amo a **suavidade do jogador**.\n",
        "\n",
        "\n",
        "> se um token h é conectado a um substantivo t usando uma relação preposicional, então h e t são extraídos como aspectos. Em (9) a suavidade é extraída como um aspecto. (9) Amo a suavidade do jogador.\n",
        ">\n",
        "> Regras Adicionais\n",
        ">\n",
        "> Um substantivo modificador composto de um NP é qualquer substantivo que serve para modificar o substantivo principal. Se t é extraído como um aspecto e t tem um modificador composto substantivo h, então o aspecto h-t é extraído e t é removido da lista de aspectos. Em (12), como frango e caçarola estão em uma relação de modificador composto substantivo, apenas a caçarola de frango é extraída como um aspecto. (12) Pedimos a caçarola de frango, mas o que encontramos foram alguns pedacinhos de frango, todo de carne escura e com osso.\n"
      ]
    },
    {
      "cell_type": "code",
      "execution_count": null,
      "metadata": {
        "id": "keJ_QvjUY5Zz"
      },
      "outputs": [],
      "source": [
        "def regra7(doc, aspectos):\n",
        "    for i in doc:\n",
        "        if (i.head.pos_ == \"NOUN\" or i.head.pos_ == \"PROPN\"):\n",
        "            if (i.dep_ == \"nmod\" or i.dep_ == \"amod\" or i.dep_ == \"acl\" or i.dep_ == \"acl:relcl\"):\n",
        "                token_h = i.text\n",
        "                token_t = i.head.text\n",
        "                if (i.dep_ == \"nmod\" and (i.head.pos_ == \"NOUN\" or i.head.pos_ == \"PROPN\")):\n",
        "                    f = 0\n",
        "                    for j in doc:\n",
        "                        if (j.dep_ == \"case\" and j.head.text == token_h):\n",
        "                            f = 1\n",
        "                            aspect = ' '.join([token_t, j.text, token_h])\n",
        "                            aspectos.append(aspect)\n",
        "                            break\n",
        "                    if not f:\n",
        "                        aspect = ' '.join([token_t, token_h])\n",
        "                        aspectos.append(aspect)\n",
        "                else:\n",
        "                    aspectos.append(token_t)\n",
        "                break;\n",
        "    return aspectos"
      ]
    },
    {
      "cell_type": "markdown",
      "metadata": {
        "id": "olBTrIkseaW3"
      },
      "source": [
        "## Regra 8\n",
        "Referências: [1].\n",
        "\n",
        "10, exemplo: Ana achou o **livro** *maravilhoso*.\n",
        "\n",
        "\n",
        "> Se um token h está em uma relação direta de objeto com um token t, t é extraído como aspecto. Em (10), a menção está em\n",
        "uma relação objetiva direta com o preço; portanto, o preço é extraído como um aspecto.\n",
        "(10)\n",
        "Sem falar no preço do telefone."
      ]
    },
    {
      "cell_type": "code",
      "execution_count": null,
      "metadata": {
        "id": "YhRfNwhZeoOe"
      },
      "outputs": [],
      "source": [
        "def regra8(doc, aspectos):\n",
        "    token_t = \"\"\n",
        "    token_h = \"\"\n",
        "    for i in doc:\n",
        "        if i.dep_ == \"obj\":\n",
        "            token_t = i.text\n",
        "            token_h = i.head.text\n",
        "            aspectos.append(token_t)\n",
        "            break;\n",
        "    return aspectos"
      ]
    },
    {
      "cell_type": "markdown",
      "metadata": {
        "id": "AitAc59EkZvG"
      },
      "source": [
        "##Regra 9\n",
        "\n",
        "Referências: [1].\n",
        "\n",
        "11, exemplo: A **câmera** é *incrível* e *fácil de usar*.\n",
        "\n",
        "\n",
        "> Para cada termo de aspecto extraído acima, se um termo de aspecto h estiver em coordenação ou relação conjunta\n",
        "com outro token t, então t também é extraído como um aspecto. Em (11), surpreendente é primeiramente extraído como um\n",
        "termo de aspecto. Como o incrível está em relação com o fácil, então o uso também é extraído como um aspecto.\n",
        "(11)\n",
        "A câmera é incrível e fácil de usar."
      ]
    },
    {
      "cell_type": "code",
      "execution_count": null,
      "metadata": {
        "id": "lc-TLBvokqjP"
      },
      "outputs": [],
      "source": [
        "def regra9(doc, aspectos):\n",
        "    token_h = relation_nsubj(doc)[0]\n",
        "    token_t = relation_nsubj(doc)[1]\n",
        "    sentiment1 = sentiment2 = \"\"\n",
        "    for i in doc:\n",
        "        if i.text == token_t:\n",
        "            token_t1 = i.head.text\n",
        "            if i.pos_ == \"ADJ\":\n",
        "                sentiment1 = token_t1\n",
        "    for i in doc:\n",
        "        if i.dep_ == \"conj\" and i.head.text == sentiment1:\n",
        "            sentiment2 = i.text\n",
        "    for i in doc:\n",
        "        if i.dep_ == \"conj\" and i.head.text == sentiment2:\n",
        "            aspectos.append(i.text)\n",
        "    return aspectos"
      ]
    },
    {
      "cell_type": "markdown",
      "metadata": {
        "id": "JVNRYU3Wc0LG"
      },
      "source": [
        "# Regra 10\n",
        "References: [2].\n",
        "\n",
        "1, example: **vídeo** era *ruim*\n",
        "\n",
        "> nsubj(JJ/OP,NN) "
      ]
    },
    {
      "cell_type": "code",
      "execution_count": null,
      "metadata": {
        "id": "udfk2mLFdGX1"
      },
      "outputs": [],
      "source": [
        "def regra10(doc, aspectos):\n",
        "    for NN in doc:\n",
        "        if NN.dep_ == 'nsubj' and NN.head.pos_ == 'ADJ':\n",
        "            aspectos.append(NN.text)\n",
        "            break \n",
        "    return aspectos"
      ]
    },
    {
      "cell_type": "markdown",
      "metadata": {
        "id": "XUN3gGtufhel"
      },
      "source": [
        "#Regra 11\n",
        "Referências: [2].\n",
        "\n",
        "2, exemplo: a **qualidade** e a **lente** da câmera estão *aprovadas*.\n",
        "\n",
        "\n",
        ">ReL1(H1,NN1) e ReL2(H1,NN2)\n",
        "tal que ReL1 e ReL2 são quaisquer relações de dependência de\n",
        "[‘nsubj’, ‘amod’, ‘prep’, ‘csubj’, ‘xsubj’, ‘dobj’, ‘iobj’]\n"
      ]
    },
    {
      "cell_type": "code",
      "execution_count": null,
      "metadata": {
        "id": "NFV272qCf1oo"
      },
      "outputs": [],
      "source": [
        "def regra11(doc, aspectos):\n",
        "    rel = [\"nsubj\", \"amod\", \"prep\", \"csubj\", \"xsubj\", \"xsubj\", \"dobj\", \"iobj\", \"obj\"]\n",
        "    for i in doc:\n",
        "        if i.dep_ == \"conj\" and i.head.dep_ in rel:\n",
        "            if i.pos_ == \"NOUN\" and i.head.pos_ == \"NOUN\":\n",
        "                aspectos.append(i.text)\n",
        "                aspectos.append(i.head.text)\n",
        "                return aspectos\n",
        "    d = {}\n",
        "    for i in doc:\n",
        "        token_children = list(i.children)\n",
        "        for j in token_children:\n",
        "            if (j.dep_ in rel and (j.pos_ == \"NOUN\" or j.pos_ == \"PROPN\")):\n",
        "                d[j.dep_] = (j.text, j.pos_)\n",
        "    for i in d:\n",
        "        aspectos.append(d[i][0])\n",
        "    return aspectos"
      ]
    },
    {
      "cell_type": "markdown",
      "metadata": {
        "id": "7ep2THgCkFRy"
      },
      "source": [
        "#Regra 12\n",
        "\n",
        "Referências: [2].\n",
        "\n",
        "3, exemplo: Honestamente, eu amo esse **jogador**.\n",
        "\n",
        "> nsubj(VB1,H1) e dobj(VB1,NN)"
      ]
    },
    {
      "cell_type": "code",
      "execution_count": null,
      "metadata": {
        "id": "tc5iijo6kN6N"
      },
      "outputs": [],
      "source": [
        "def regra12(doc, aspectos):\n",
        "    VB1 = relation_nsubj(doc)[1]\n",
        "    for i in doc:\n",
        "        if i.text == VB1 and i.pos_ == \"VERB\":\n",
        "            for j in doc:\n",
        "                if (j.dep_ == \"obj\" or j.dep == \"dobj\") and j.pos_ == \"NOUN\":\n",
        "                    aspectos.append(j.text)\n",
        "                    return aspectos"
      ]
    },
    {
      "cell_type": "markdown",
      "metadata": {
        "id": "HO_mtvXdoMqq"
      },
      "source": [
        "#Regra 13\n",
        "\n",
        "Referências: [2].\n",
        "\n",
        "4, exemplo: seu **tamanho** também faz dele *ideal* para viajar\n",
        "\n",
        "> nsubj(H1, NN) e obj(H1, JJ/OP)\n",
        "> nsubj(H1, NN) e ccomp(H1, JJ/OP)"
      ]
    },
    {
      "cell_type": "code",
      "execution_count": null,
      "metadata": {
        "id": "fcpAzclius2Z"
      },
      "outputs": [],
      "source": [
        "def regra13(doc, aspectos):\n",
        "    for i in doc:\n",
        "        token_children = list(i.children)\n",
        "        d = {} \n",
        "        for token in token_children:\n",
        "            d[token.dep_] = (token.text, token.pos_) \n",
        "        if \"nsubj\" in d and \"obj\" in d:\n",
        "            if d[\"nsubj\"][1] == \"NOUN\":\n",
        "                if d[\"obj\"][1] == \"ADJ\":\n",
        "                    aspectos.append(d[\"nsubj\"][0])\n",
        "                    return aspectos\n",
        "                else:\n",
        "                    if d[\"obj\"][0] in op:\n",
        "                        aspectos.append(d[\"nsubj\"][0])\n",
        "                        return aspectos"
      ]
    },
    {
      "cell_type": "markdown",
      "metadata": {
        "id": "Y8c389dUs-Wr"
      },
      "source": [
        "#Regra 14\n",
        "\n",
        "Referências: [2].\n",
        "\n",
        "5, exemplo: toca **dvds** e **cds** *originais*.\n",
        "\n",
        "> amod(NN1,OP/JJ) e conj(NN1,NN2)\n"
      ]
    },
    {
      "cell_type": "code",
      "execution_count": null,
      "metadata": {
        "id": "n59OTbWl0fLW"
      },
      "outputs": [],
      "source": [
        "def regra14(doc, aspectos):\n",
        "    for i in doc:\n",
        "        if i.dep_ == \"amod\" and (i.pos_ == \"ADJ\" or i.text in op):\n",
        "            j = i.head\n",
        "            if j.pos_ == \"NOUN\" and j.dep_ == \"conj\" and j.head.pos_ == \"NOUN\":\n",
        "                aspectos.append(j.text)\n",
        "                aspectos.append(j.head.text)\n",
        "                return aspectos "
      ]
    },
    {
      "cell_type": "markdown",
      "metadata": {
        "id": "ZPnNOcPXGnfW"
      },
      "source": [
        "#Regra 15\n",
        "\n",
        "Referências: [2].\n",
        "\n",
        "6, exemplo: acho a falta de **jogos** de entretenimento nesse celular um pouco *incômoda*\n",
        "\n",
        "> nmod(OP/JJ,NNS)"
      ]
    },
    {
      "cell_type": "code",
      "execution_count": null,
      "metadata": {
        "id": "TUuzea_MG002"
      },
      "outputs": [],
      "source": [
        "def regra15(doc, aspectos):\n",
        "    for i in doc:\n",
        "        token = i.text\n",
        "        if (i.dep_ == \"nmod\" and i.lemma_ != i.text and i.pos_ == \"NOUN\" \n",
        "            and token[len(token)-1].lower() == 's'):\n",
        "            if (i.head.pos_ == \"ADJ\" or i.head.text in op):\n",
        "                aspectos.append(i.text)\n",
        "                return aspectos"
      ]
    },
    {
      "cell_type": "markdown",
      "metadata": {
        "id": "dSlTq1eKStf6"
      },
      "source": [
        "#Regra 16\n",
        "\n",
        "Referências: [2].\n",
        "\n",
        "7, exemplo: o **manual** *escasso*\n",
        "\n",
        "> amod(**NN**,OP)"
      ]
    },
    {
      "cell_type": "code",
      "execution_count": null,
      "metadata": {
        "id": "k8FbRyZVStvT"
      },
      "outputs": [],
      "source": [
        "def regra16(doc, aspectos):\n",
        "    for i in doc:\n",
        "        if (i.dep_ == \"amod\" and i.head.pos_ == \"NOUN\" and i.text in op):\n",
        "            aspectos.append(i.head.text)\n",
        "            return aspectos"
      ]
    },
    {
      "cell_type": "markdown",
      "metadata": {
        "id": "R1giqpzRTFO2"
      },
      "source": [
        "#Regra 17\n",
        "\n",
        "Referências: [2].\n",
        "\n",
        "8, exemplo: esta **câmera** tem uma grande falha de design\n",
        "\n",
        "\n",
        "> Rel1(H1,NN) e Rel2(H1, OP/JJ)\n",
        "tal que ReL1 e ReL2 são quaisquer relações de dependência de\n",
        "[‘nsubj’, ‘csubj’, ‘xsubj’, ‘dobj’, ‘iobj’]"
      ]
    },
    {
      "cell_type": "code",
      "execution_count": null,
      "metadata": {
        "id": "xYvR1OzHTUSE"
      },
      "outputs": [],
      "source": [
        "def regra17(doc, aspectos):\n",
        "    for i in doc:\n",
        "        children_list = list(i.children)\n",
        "        dep_set = [\"nsubj\", \"csubj\", \"xsubj\", \"dobj\", \"iobj\", \"obj\"]\n",
        "        d = {}\n",
        "        for token in children_list:\n",
        "            if token.dep_ in dep_set:\n",
        "                d[token.dep_] = (token.text, token.pos_)\n",
        "        if len(d) >= 2:\n",
        "            REL2 = 0\n",
        "            for i in d:\n",
        "                if d[i][1] == \"ADJ\" or d[i][0] in op:\n",
        "                    REL2 = 1\n",
        "            if REL2:\n",
        "                for i in d:\n",
        "                    if d[i][1] == \"NOUN\":\n",
        "                        aspectos.append(d[i][0])\n",
        "                        return aspectos"
      ]
    },
    {
      "cell_type": "markdown",
      "metadata": {
        "id": "FJfPqkVWfwyC"
      },
      "source": [
        "#Regra 18\n",
        "Referências: [2].\n",
        "\n",
        "9, exemplo: minha única reclamação sobre o hardware são os **botões**\n",
        "\n",
        "\n",
        "> nsubj(NN,OP/JJ)"
      ]
    },
    {
      "cell_type": "code",
      "execution_count": null,
      "metadata": {
        "id": "obD5vBUCf7_x"
      },
      "outputs": [],
      "source": [
        "def regra18(doc, aspectos):\n",
        "    for i in doc:\n",
        "        if i.dep_ == \"nsubj\" and i.head.pos_ == \"NOUN\":\n",
        "            if (i.pos_ == \"ADJ\" or i.text in op):\n",
        "                aspectos.append(i.head.text)\n",
        "                return aspectos"
      ]
    },
    {
      "cell_type": "markdown",
      "metadata": {
        "id": "JX9Bp26zkkeP"
      },
      "source": [
        "#Regra 19\n",
        "\n",
        "Referências: [2].\n",
        "\n",
        "10, exemplo: Eu gostei especialmente dos **botões** mais comumente usados\n",
        "\n",
        "> dobj(OP/JJ,NN) \n",
        "> \n",
        "> O POS de \"gosto de\" não está com sua tag correta"
      ]
    },
    {
      "cell_type": "code",
      "execution_count": null,
      "metadata": {
        "id": "TN76BfTclGAm"
      },
      "outputs": [],
      "source": [
        "def regra19(doc, aspectos):\n",
        "    for i in doc:\n",
        "        if i.pos_ == \"NOUN\" and (i.dep_ == \"obj\" or i.dep_ == \"dobj\" or i.dep_ == \"iobj\"):\n",
        "            if (i.head.text in op or i.head.pos_ == \"ADJ\"):\n",
        "                aspectos.append(i.text)\n",
        "                return aspectos\n",
        "        elif i.pos_ == \"NOUN\" and i.dep_ == \"nmod\":\n",
        "            if i.head.text in op:\n",
        "                aspectos.append(i.text)\n",
        "                return aspectos"
      ]
    },
    {
      "cell_type": "markdown",
      "metadata": {
        "id": "HP38CUWvoK0B"
      },
      "source": [
        "#Regra 20\n",
        "\n",
        "Referências: [2].\n",
        "\n",
        "11, exemplo: eu acho **exibições na tela** *irritantes*\n",
        "> obj(OP/JJ,NN1) e nmod(NN1,NN2)\n"
      ]
    },
    {
      "cell_type": "code",
      "execution_count": null,
      "metadata": {
        "id": "05inoSkHQ3Uq"
      },
      "outputs": [],
      "source": [
        "def regra20(doc, aspectos):\n",
        "    for i in doc:\n",
        "        if i.dep_ == \"nmod\" and i.pos_ == \"NOUN\":\n",
        "            if i.head.dep_ == \"obj\" and i.head.pos_ == \"NOUN\":\n",
        "                if i.head.nbor().pos_ == \"ADP\":\n",
        "                    aspectos.append(i.head.text+' '+i.head.nbor().text+' '+i.text)\n",
        "                    return aspectos"
      ]
    },
    {
      "cell_type": "markdown",
      "metadata": {
        "id": "kliTZKKO8aHH"
      },
      "source": [
        "#Regra 21\n",
        "\n",
        "References: [2].\n",
        "\n",
        "12, example: **qualidade** e **lentes** da câmera *comprovadas*\n",
        "\n",
        "> conj(NN1,NN2) \n"
      ]
    },
    {
      "cell_type": "code",
      "execution_count": null,
      "metadata": {
        "id": "rPOK0NIT8h3K"
      },
      "outputs": [],
      "source": [
        "def regra21(doc, aspectos):\n",
        "    for i in doc: \n",
        "        if i.dep_ == \"conj\" and i.pos_ == \"NOUN\" and i.head.pos_ == \"NOUN\":\n",
        "            j = i.head\n",
        "            aspectos.append(j.text)\n",
        "            aspectos.append(i.text)\n",
        "            return aspectos"
      ]
    },
    {
      "cell_type": "markdown",
      "metadata": {
        "id": "CKNvznsV-m3L"
      },
      "source": [
        "# Regra 22\n",
        "\n",
        "Referências: [2].\n",
        "\n",
        "13, exemplo: No geral, o g3 entrega o que deve ser considerado a *melhor* **qualidade de imagem**.\n",
        "\n",
        "> amod(NN1,OP/JJ) e nmod(NN1,NN2)\n"
      ]
    },
    {
      "cell_type": "code",
      "execution_count": null,
      "metadata": {
        "id": "0g4BAcTsiQKA"
      },
      "outputs": [],
      "source": [
        "def regra22(doc, aspectos):\n",
        "    for i in doc:\n",
        "        if i.dep_ == \"case\":\n",
        "            j = i.head\n",
        "            if j.dep_ == \"nmod\" and j.pos_ == \"NOUN\":\n",
        "                k = j.head\n",
        "                token_children = list(k.children)\n",
        "                for l in token_children:\n",
        "                    if l.dep_ == \"amod\":\n",
        "                        aspectos.append(k.text+\" \"+i.text+\" \"+j.text)\n",
        "                        return aspectos"
      ]
    },
    {
      "cell_type": "markdown",
      "metadata": {
        "id": "Lfmx4Yk_EHdA"
      },
      "source": [
        "#Regra 23\n",
        "\n",
        "Referências: [2].\n",
        "\n",
        "14, exemplo: As *cores* na tela não são tão *nítidas* quanto eu gostaria que fossem.\n",
        "\n",
        "> neg(OP/JJ, H1) e nsubj(OP/JJ,NN)\n"
      ]
    },
    {
      "cell_type": "code",
      "execution_count": null,
      "metadata": {
        "id": "G3ZqiSIkERzw"
      },
      "outputs": [],
      "source": [
        "def regra23(doc, aspectos):\n",
        "    for i in doc: \n",
        "        token_children = list(i.children)\n",
        "        dep_children = []\n",
        "        for j in token_children:\n",
        "            dep_children.append(j.dep_)\n",
        "        if (\"advmod\" in dep_children or \"neg\" in dep_children) and (\"nsubj\" in \n",
        "            dep_children or \"nsubj:pass\" in dep_children) and (i.pos_ == \"ADJ\" or i.text in op):\n",
        "            for k in token_children:\n",
        "                if k.pos_ == \"NOUN\" and k.dep_ == \"nsubj\":\n",
        "                    aspectos.append(k.text)\n",
        "                    return aspectos "
      ]
    },
    {
      "cell_type": "markdown",
      "metadata": {
        "id": "Fz_AbbtCF2M4"
      },
      "source": [
        "#Regra 24\n",
        "\n",
        "Referências: [2].\n",
        "\n",
        "15, exemplo: definitivamente, uma *boa* **câmera**\n",
        "\n",
        "> ReL(NN, OP/JJ)\n",
        "tal que ReL é qualquer relação de dependência de\n",
        "[‘nsubj’, ‘amod’, ‘prep’, ‘csubj’, ‘xsubj’, ‘dobj’, ‘iobj’]\n"
      ]
    },
    {
      "cell_type": "code",
      "execution_count": null,
      "metadata": {
        "id": "8TMzXblZGSHG"
      },
      "outputs": [],
      "source": [
        "def regra24(doc, aspectos):\n",
        "    for i in doc:\n",
        "        rel = [\"nsubj\", \"amod\", \"prep\", \"csubj\", \"xsubj\", \"dobj\", \"iobj\", \"obj\"]\n",
        "        if i.dep_ in rel:\n",
        "            if (i.head.text in op or i.head.pos_ == \"ADJ\") and i.pos_ == \"NOUN\":\n",
        "                aspectos.append(i.text)\n",
        "                return aspectos\n",
        "            elif (i.pos_ == \"ADJ\" or i.text in op) and i.head.pos_ == \"NOUN\":\n",
        "                aspectos.append(i.head.text)\n",
        "                return aspectos"
      ]
    },
    {
      "cell_type": "markdown",
      "metadata": {
        "id": "nTt3qhrszXo2"
      },
      "source": [
        "#Regra 25\n",
        "\n",
        "References: [2].\n",
        "\n",
        "17, exemplo: Os **cardápios** são *fáceis* de navegar.\n",
        "\n",
        "\n",
        "> nsubj(OP1/JJ1,NN) e cop (OP1/JJ1,H1) \n"
      ]
    },
    {
      "cell_type": "code",
      "execution_count": null,
      "metadata": {
        "id": "Uvg0_t8szo2i"
      },
      "outputs": [],
      "source": [
        "def regra25(doc, aspectos):\n",
        "    for i in doc: \n",
        "        token_children = list(i.children)\n",
        "        dep_children = []\n",
        "        for j in token_children:\n",
        "            dep_children.append(j.dep_)\n",
        "        if \"nsubj\" in dep_children and \"cop\" in dep_children:\n",
        "            for k in token_children:\n",
        "                if k.pos_ == \"NOUN\" or k.pos_ == \"PROPN\":\n",
        "                    aspectos.append(k.text)\n",
        "                    return aspectos"
      ]
    },
    {
      "cell_type": "markdown",
      "metadata": {
        "id": "4xSPd0oh-eY1"
      },
      "source": [
        "#Regra 26\n",
        "\n",
        "References: [2], tabela 4.\n",
        "\n",
        "18, exemplo: Os **controles** são *feios*\n",
        "\n",
        "\n",
        "> **NNS** VBP OP/JJ "
      ]
    },
    {
      "cell_type": "code",
      "execution_count": null,
      "metadata": {
        "id": "HgMnz4F40Rmu"
      },
      "outputs": [],
      "source": [
        "def regra26(doc, aspectos):\n",
        "    val = 0\n",
        "    aspecto = \"\"\n",
        "    for i in doc:\n",
        "        if i.text[len(i.text)-1] == 's' and i.pos_ == \"NOUN\" and val == 0:\n",
        "            if val <= 1: aspecto = i.text\n",
        "            val = max(val, 1)\n",
        "        elif (i.pos_ == \"AUX\" or i.pos_ == \"VERB\") and val == 1:\n",
        "            val = max(val, 2)\n",
        "        elif (i.pos_ == \"ADJ\" or i.text in op) and val == 2:\n",
        "            val = max(val, 3)\n",
        "            break\n",
        "        else: val = 0\n",
        "    if val == 3 and aspecto != \"\":\n",
        "        aspectos.append(aspecto)\n",
        "    return aspectos"
      ]
    },
    {
      "cell_type": "markdown",
      "metadata": {
        "id": "u46pOnEr0Aib"
      },
      "source": [
        "#Regra 27\n",
        "\n",
        "References: [2], tabela 4.\n",
        "\n",
        "19, exemplo: O **áudio** é *excelente*\n",
        "\n",
        "\n",
        "> **NN** VBZ JJ/OP"
      ]
    },
    {
      "cell_type": "code",
      "execution_count": null,
      "metadata": {
        "id": "A7ApcM3C0OJL"
      },
      "outputs": [],
      "source": [
        "def regra27(doc, aspectos):\n",
        "    val = 0\n",
        "    aspecto = \"\"\n",
        "    for i in doc:\n",
        "        if i.pos_ == \"NOUN\" and val == 0:\n",
        "            if val <= 1: aspecto = i.text\n",
        "            val = max(val, 1)\n",
        "        elif (i.pos_ == \"AUX\" or i.pos_ == \"VERB\") and val == 1:\n",
        "            val = max(val, 2)\n",
        "        elif (i.pos_ == \"ADJ\" or i.text in op) and val == 2:\n",
        "            val = max(val, 3)\n",
        "            break\n",
        "        else: val = 0\n",
        "    if val == 3 and aspecto != \"\":\n",
        "        aspectos.append(aspecto)\n",
        "    return aspectos"
      ]
    },
    {
      "cell_type": "markdown",
      "metadata": {
        "id": "UtuxCx_A1sZ8"
      },
      "source": [
        "\n",
        "#Regra 28 -> 7\n",
        "\n",
        "References: [2], tabela 4.\n",
        "\n",
        "20, exemplo: É um **tocador de dvd** muito *bom*\n",
        "\n",
        "\n",
        "> **NN** **NN** JJ/OP"
      ]
    },
    {
      "cell_type": "code",
      "execution_count": null,
      "metadata": {
        "id": "k0DKCk1x1ve-"
      },
      "outputs": [],
      "source": [
        "def regra28(doc, aspectos):  \n",
        "    return"
      ]
    },
    {
      "cell_type": "markdown",
      "metadata": {
        "id": "fmtwqI8r70zy"
      },
      "source": [
        "REGRA ADAPTADA\n",
        "#Regra 29\n",
        "\n",
        "References: [2], tabela 4.\n",
        "\n",
        "21, exemplo: é um **produto** muito *incrível*\n",
        "\n",
        "> **NN** RB JJ/OP"
      ]
    },
    {
      "cell_type": "code",
      "execution_count": null,
      "metadata": {
        "id": "88OyEh-Y7zaf"
      },
      "outputs": [],
      "source": [
        "def regra29(doc, aspectos):\n",
        "    val = 0\n",
        "    aspecto = \"\"\n",
        "    for i in doc:\n",
        "        if i.pos_ == \"NOUN\" and val == 0:\n",
        "            val = max(val, 1)\n",
        "            aspecto = i.text\n",
        "        elif i.pos_ == \"ADV\" and val == 1:\n",
        "            val = max(val, 2)\n",
        "        elif (i.pos_ == \"ADJ\" or i.text in op) and val == 2:\n",
        "            val = max(val, 3)\n",
        "            break\n",
        "        else: val = 0\n",
        "    if val == 3 and aspecto != \"\":\n",
        "        aspectos.append(aspecto)\n",
        "    return aspectos"
      ]
    },
    {
      "cell_type": "markdown",
      "metadata": {
        "id": "425CNPAT9Rfj"
      },
      "source": [
        "#Regra 30\n",
        "\n",
        "References: [2], tabela 4.\n",
        "\n",
        "22, exemplo: *baixa* **confiabilidade**\n",
        "> JJ/OP **NN**"
      ]
    },
    {
      "cell_type": "code",
      "execution_count": null,
      "metadata": {
        "id": "bZTlTRyh9gH7"
      },
      "outputs": [],
      "source": [
        "def regra30(doc, aspectos):\n",
        "    val = 0\n",
        "    aspecto = \"\"\n",
        "    for i in doc:\n",
        "        if (i.pos_ == \"ADJ\" or i.text in op) and val == 0:\n",
        "            val = max(val, 1)\n",
        "        elif i.pos_ == \"NOUN\" and val == 1:\n",
        "            # if val <= 1: aspecto = i.text\n",
        "            aspecto = i.text\n",
        "            val = max(val, 2)\n",
        "            break\n",
        "        else: val = 0\n",
        "    if(val == 2 and aspecto != \"\"):\n",
        "        aspectos.append(aspecto)\n",
        "    return aspectos"
      ]
    },
    {
      "cell_type": "markdown",
      "metadata": {
        "id": "c3eIfKtv_vaZ"
      },
      "source": [
        "#Regra 31\n",
        "\n",
        "References: [2], tabela 4.\n",
        "\n",
        "23, exemplo: **software** criativo *complexo*\n",
        "> **NN** JJ/OP"
      ]
    },
    {
      "cell_type": "code",
      "execution_count": null,
      "metadata": {
        "id": "OcSxBBFzAEve"
      },
      "outputs": [],
      "source": [
        "def regra31(doc, aspectos):\n",
        "    val = 0\n",
        "    aspecto = \"\"\n",
        "    for i in doc:\n",
        "        if(i.pos_ == \"NOUN\") and val == 0:\n",
        "            if val <= 1: aspecto = i.text\n",
        "            val = max(val, 1)\n",
        "        elif (i.pos_ == \"ADJ\" or i.text in op) and val == 1:\n",
        "            val = max(val, 2)\n",
        "            break\n",
        "        else: val = 0\n",
        "    if(val == 2 and aspecto != \"\"):\n",
        "        aspectos.append(aspecto)\n",
        "    return aspectos"
      ]
    },
    {
      "cell_type": "markdown",
      "metadata": {
        "id": "zYpbWC8WAlY2"
      },
      "source": [
        "#Regra 32\n",
        "\n",
        "References: [2], tabela 4.\n",
        "\n",
        "24, exemplo: **áudio** no vídeo também faltando\n",
        "> **NN** IN NN"
      ]
    },
    {
      "cell_type": "code",
      "execution_count": null,
      "metadata": {
        "id": "DABhMkO2Ax45"
      },
      "outputs": [],
      "source": [
        "def regra32(doc, aspectos):\n",
        "    val = 0\n",
        "    aspecto = \"\"\n",
        "    for i in doc:\n",
        "        if (i.pos_ == \"NOUN\" or i.pos_ == \"PROPN\") and val == 0:\n",
        "            val = max(val, 1)\n",
        "            aspecto = i.text\n",
        "        elif i.pos_ == \"ADP\" and val == 1:\n",
        "            val = max(val, 2)\n",
        "        elif i.pos_ == \"NOUN\" and val == 2:\n",
        "            val = max(val, 3)\n",
        "            break\n",
        "        else: val = 0\n",
        "    if val == 3 and aspecto != \"\":\n",
        "        aspectos.append(aspecto)\n",
        "    return aspectos"
      ]
    },
    {
      "cell_type": "markdown",
      "metadata": {
        "id": "-XXWJyEiCmDk"
      },
      "source": [
        "#Regra 33\n",
        "\n",
        "References: [2], tabela 4.\n",
        "\n",
        "25, exemplo: a **construção** do player é a mais *cafona* que eu já vi\n",
        "\n",
        "> **NN** IN DT NN"
      ]
    },
    {
      "cell_type": "code",
      "execution_count": null,
      "metadata": {
        "id": "qRK1awDDClvf"
      },
      "outputs": [],
      "source": [
        "def regra33(doc, aspectos):\n",
        "    val = 0\n",
        "    aspecto = \"\"\n",
        "    for i in doc:\n",
        "        if i.pos_ == \"NOUN\" and val == 0:\n",
        "            if val <= 1: aspecto = i.text\n",
        "            val = max(val, 1)\n",
        "        elif i.pos_ == \"ADP\" and val == 1:\n",
        "            val = max(val, 2)\n",
        "        elif (i.pos_ == \"PROPN\" or i.pos_ == \"NOUN\") and val == 2:\n",
        "            val = max(val, 3)\n",
        "            break\n",
        "        else: val = 0\n",
        "    if val == 3 and aspecto != \"\":\n",
        "        aspectos.append(aspecto)\n",
        "    return aspectos"
      ]
    },
    {
      "cell_type": "markdown",
      "metadata": {
        "id": "GQJ-zTqhJChK"
      },
      "source": [
        "#Regra 34\n",
        "\n",
        "References: [2], tabela 4.\n",
        "\n",
        "26, exemplo: no geral, uma *boa* compra para o **preço**\n",
        "\n",
        "> NN IN DT **NN**"
      ]
    },
    {
      "cell_type": "code",
      "execution_count": null,
      "metadata": {
        "id": "dMrmwKJlJTCO"
      },
      "outputs": [],
      "source": [
        "def regra34(doc, aspectos):\n",
        "    val = 0\n",
        "    aspecto = \"\"\n",
        "    for i in doc:\n",
        "        if i.pos_ == \"NOUN\" and val == 0:\n",
        "            val = max(val, 1)\n",
        "        elif i.pos_ == \"ADP\" and val == 1:\n",
        "            val = max(val, 2)\n",
        "        elif i.pos_ == \"DET\" and val == 2:\n",
        "            val = max(val, 3)\n",
        "        elif i.pos_ == \"NOUN\" and val == 3:\n",
        "            val = max(val, 4)\n",
        "            if(val == 4): \n",
        "                aspecto = i.text\n",
        "                break\n",
        "        else: val = 0\n",
        "    if val == 4 and aspecto != \"\":\n",
        "        aspectos.append(aspecto)\n",
        "    return aspectos"
      ]
    },
    {
      "cell_type": "markdown",
      "metadata": {
        "id": "hM4WrAk_J3Mv"
      },
      "source": [
        "#Regra 35\n",
        "\n",
        "References: [2], tabela 4.\n",
        "\n",
        "27, exemplo: ele recusou a **ler** discos secundários\n",
        "\n",
        "> OP + preposição \"a\" + **VB**"
      ]
    },
    {
      "cell_type": "code",
      "execution_count": null,
      "metadata": {
        "id": "yNuLcmeAKIB8"
      },
      "outputs": [],
      "source": [
        "def regra35(doc, aspectos):\n",
        "    val = 0\n",
        "    aspecto = \"\"\n",
        "    for i in doc:\n",
        "        if i.text in op and val == 0:\n",
        "            val = max(val, 1)\n",
        "        elif (i.pos_ == \"SCONJ\" or i.pos_ == \"PREP\") and val == 1:\n",
        "            val = max(val, 2)\n",
        "        elif i.pos_ == \"VERB\" and val == 2:\n",
        "            if val <= 3: aspecto = i.text\n",
        "            val = max(val, 3)\n",
        "            break\n",
        "        else: val = 0\n",
        "    if val == 3 and aspecto != \"\":\n",
        "        aspectos.append(aspecto)\n",
        "    return aspectos"
      ]
    },
    {
      "cell_type": "markdown",
      "metadata": {
        "id": "b5nMA8Y8Mf4A"
      },
      "source": [
        "#Regra 36\n",
        "\n",
        "References: [2], tabela 4.\n",
        "\n",
        "28, exemplo: é extremamente *simples* de **navegar**\n",
        "> JJ + preposição \"para\" + **VB** tal que JJ não está em OP"
      ]
    },
    {
      "cell_type": "code",
      "execution_count": null,
      "metadata": {
        "id": "zZYN_7VLMxYI"
      },
      "outputs": [],
      "source": [
        "def regra36(doc, aspectos):\n",
        "    val = 0\n",
        "    aspecto = \"\"\n",
        "    for i in doc:\n",
        "        if (i.pos_ == \"ADJ\" and i.text not in op) and val == 0:\n",
        "            val = max(val, 1)\n",
        "        elif i.pos_ == \"SCONJ\" or i.pos_ == \"PREP\":\n",
        "            val = max(val, 2)\n",
        "        elif i.pos_ == \"VERB\" and val == 2:\n",
        "            if val <= 3: aspecto = i.text\n",
        "            val = max(val, 3)\n",
        "            break\n",
        "        else: val = 0\n",
        "    if val == 3 and aspecto != \"\":\n",
        "        aspectos.append(aspecto)\n",
        "    return aspectos"
      ]
    },
    {
      "cell_type": "markdown",
      "metadata": {
        "id": "aG2EW7SFOQuK"
      },
      "source": [
        "#Regra 37\n",
        "\n",
        "References: [2], tabela 4.\n",
        "\n",
        "29, exemplo: o g3 tem **deslocamentos brancos** muito mais *nítidos*\n",
        "> **NN JJ1** JJ2, tal que JJ2 não está em op"
      ]
    },
    {
      "cell_type": "code",
      "execution_count": null,
      "metadata": {
        "id": "-Bz8LiJHOrwQ"
      },
      "outputs": [],
      "source": [
        "def regra37(doc, aspectos):\n",
        "    val = 0\n",
        "    aspecto = \"\"\n",
        "    for i in doc:\n",
        "        if i.pos_ == \"NOUN\" and val == 0:\n",
        "            if val <= 1: aspecto = i.text\n",
        "            val = max(val, 1)\n",
        "        elif i.pos_ == \"ADJ\" and val == 1 and (i.text not in op):\n",
        "            if val <= 2: aspecto += ' ' + (i.text)\n",
        "            val = max(val, 2)\n",
        "        elif i.pos_ == \"ADJ\" and val == 2:\n",
        "            val = max(val, 3)\n",
        "            break\n",
        "        else: val = 0\n",
        "    if val == 3 and aspecto != \"\":\n",
        "        aspectos.append(aspecto)\n",
        "    return aspectos"
      ]
    },
    {
      "cell_type": "markdown",
      "metadata": {
        "id": "zcoSz1brIFyU"
      },
      "source": [
        "#Regra 38\n",
        "\n",
        "References: [2], tabela 4.\n",
        "\n",
        "30, exemplo: o **manual** faz um *bom* trabalho\n",
        "\n",
        "> **NN** VBZ/VBP DT OP/JJ NN"
      ]
    },
    {
      "cell_type": "code",
      "execution_count": null,
      "metadata": {
        "id": "WO8iIhscIZ3i"
      },
      "outputs": [],
      "source": [
        "def regra38(doc, aspectos):\n",
        "    val = 0\n",
        "    aspecto = \"\"\n",
        "    for i in doc:\n",
        "        if i.pos_ == \"NOUN\" and val == 0:\n",
        "            if val <= 1: aspecto = i.text\n",
        "            val = max(val, 1)\n",
        "        elif i.pos_ == \"VERB\" and val == 1:\n",
        "            val = max(val, 2)\n",
        "        elif i.pos_ == \"DET\" and val == 2:\n",
        "            val = max(val, 3)\n",
        "        elif (i.pos_ == \"ADJ\" or i.text in op) and val == 3:\n",
        "            val = max(val, 4)\n",
        "        elif i.pos_ == \"NOUN\" and val == 4:\n",
        "            val = max(val, 5)\n",
        "            break\n",
        "        else: val = 0\n",
        "    if val == 5 and aspecto != \"\":\n",
        "        aspectos.append(aspecto)\n",
        "    return aspectos"
      ]
    },
    {
      "cell_type": "markdown",
      "metadata": {
        "id": "OXPdo1MsLmbL"
      },
      "source": [
        "#Regra 39\n",
        "\n",
        "References: [2], tabela 4.\n",
        "\n",
        "31, exemplo: **apex** é a *melhor* marca de qualidade barata para leitores de DVD\n",
        "\n",
        "> **NN** * PRP/DT OP, tal que * é qualquer padrão encontrado que não seja NN"
      ]
    },
    {
      "cell_type": "code",
      "execution_count": null,
      "metadata": {
        "id": "N7fplALmL_TA"
      },
      "outputs": [],
      "source": [
        "def regra39(doc, aspectos):\n",
        "    val = 0\n",
        "    aspecto = \"\"\n",
        "    for i in doc:\n",
        "        if i.pos_ == \"NOUN\" or i.pos_ == \"PROPN\":\n",
        "            if val <= 1: aspecto = i.text\n",
        "            val = max(val, 1)\n",
        "        elif i.pos_ != \"NOUN\" and val == 1:\n",
        "            val = max(val, 2)\n",
        "        elif (i.pos_ == \"DET\" or i.tag == \"PRP\") and val == 2:\n",
        "            val = max(val, 3)\n",
        "        elif (i.pos_ == \"ADJ\" or i.text in op) and val == 3:\n",
        "            val = max(val, 4)\n",
        "            break\n",
        "        else: val = 0\n",
        "    if val == 4 and aspecto != \"\":\n",
        "        aspectos.append(aspecto)\n",
        "    return aspectos"
      ]
    },
    {
      "cell_type": "markdown",
      "metadata": {
        "id": "4wFy8GPGUw2k"
      },
      "source": [
        "#Regra 40\n",
        "\n",
        "References: [2], tabela 4.\n",
        "\n",
        "32, exemplo: tem ótima recepção\n",
        "\n",
        "> VB OP/JJ **NN**"
      ]
    },
    {
      "cell_type": "code",
      "execution_count": null,
      "metadata": {
        "id": "cVn1PWl_U-ap"
      },
      "outputs": [],
      "source": [
        "def regra40(doc, aspectos):\n",
        "    val = 0\n",
        "    aspecto = \"\"\n",
        "    for i in doc:\n",
        "        if i.pos_ == \"VERB\" and val == 0:\n",
        "            val = max(val, 1)\n",
        "        elif (i.pos_ == \"ADJ\" or i.text in op) and val == 1:\n",
        "            val = max(val, 2)\n",
        "        elif i.pos_ == \"NOUN\" and val == 2:\n",
        "            if val <= 3: aspecto = i.text\n",
        "            val = max(val, 3)\n",
        "            break\n",
        "        else: val = 0\n",
        "    if val == 3 and aspecto != \"\":\n",
        "        aspectos.append(aspecto)\n",
        "    return aspectos"
      ]
    },
    {
      "cell_type": "markdown",
      "metadata": {
        "id": "wAGQ4QuPV6ci"
      },
      "source": [
        "#Regra 41 -> 27\n",
        "\n",
        "References: [2], tabela 4.\n",
        "\n",
        "33, exemplo: áudio é excelente\n",
        "\n",
        "> **NN** VB OP/JJ "
      ]
    },
    {
      "cell_type": "code",
      "execution_count": null,
      "metadata": {
        "id": "Kjz8_gipWIys"
      },
      "outputs": [],
      "source": [
        "def regra41(doc, aspectos):\n",
        "    val = 0\n",
        "    aspecto = \"\"\n",
        "    for i in doc:\n",
        "        if i.pos_ == \"NOUN\" and val == 0:\n",
        "            if val <= 1: aspecto = i.text\n",
        "            val = max(val, 1)\n",
        "        elif (i.pos_ == \"VERB\" or i.pos_ == \"AUX\") and val == 1:\n",
        "            val = max(val, 2)\n",
        "        elif (i.pos_ == \"ADJ\" or i.text in op) and val == 2:\n",
        "            val = max(val, 3)\n",
        "            break\n",
        "        else: val = 0\n",
        "    if val == 3 and aspecto != \"\":\n",
        "        aspectos.append(aspecto)\n",
        "    return aspectos"
      ]
    },
    {
      "cell_type": "markdown",
      "metadata": {
        "id": "QQcTtp-mwqjx"
      },
      "source": [
        "# Regra 42\n",
        "\n",
        "References: [2], tabela 5.\n",
        "\n",
        "regra 51, exemplo: a tecnologia **mms** é muito bem integrada.\n",
        "\n",
        "> **NN** NN VBZ/VBP RB RB"
      ]
    },
    {
      "cell_type": "code",
      "execution_count": null,
      "metadata": {
        "id": "KNRNhzNGw-l2"
      },
      "outputs": [],
      "source": [
        "def regra42(doc, aspectos):\n",
        "    val = 0\n",
        "    aspecto = \"\"\n",
        "    for i in doc:\n",
        "        if (i.pos_ == \"PROPN\" or i.pos_ == \"NOUN\") and val == 0:\n",
        "            val = max(val, 1)\n",
        "        elif (i.pos_ == \"PROPN\" or i.pos_ == \"NOUN\") and i.dep_ == \"flat:name\"  and val == 1:\n",
        "            val = max(val, 2)\n",
        "            aspecto = i.text\n",
        "        elif (i.pos_ == \"VERB\" or i.pos_ == \"AUX\")and val == 2:\n",
        "            val = max(val, 3)\n",
        "        elif i.pos_ == \"ADV\" and val == 3:\n",
        "            val = max(val, 4)\n",
        "        elif i.pos_ == \"ADV\" and val == 4:\n",
        "            val = max(val, 5)\n",
        "            break\n",
        "        else: val = 0\n",
        "    if val == 5 and aspecto != \"\":\n",
        "        aspectos.append(aspecto)\n",
        "    return aspectos"
      ]
    },
    {
      "cell_type": "markdown",
      "metadata": {
        "id": "nYG_f94Fbbw9"
      },
      "source": [
        "#Regra 43\n",
        "References: [2], tabela 5.\n",
        "\n",
        "regra 80, exemplo: **controles** e **opções** são fáceis\n",
        "\n",
        "> **NN** CC **NN** VBP JJ/OP"
      ]
    },
    {
      "cell_type": "code",
      "execution_count": null,
      "metadata": {
        "id": "eR8SWX9KbxQo"
      },
      "outputs": [],
      "source": [
        "def regra43(doc, aspectos):\n",
        "    val = 0\n",
        "    aspecto1 = \"\"\n",
        "    aspecto2 = \"\"\n",
        "    for i in doc:\n",
        "        if (i.pos_ == \"NOUN\" or i.pos_ == \"PROPN\")and val == 0:\n",
        "            val = max(val, 1)\n",
        "            aspecto1 = i.text\n",
        "        elif i.pos_ == \"CCONJ\" and val == 1:\n",
        "            val = max(val, 2)\n",
        "        elif (i.pos_ == \"NOUN\" or i.pos_ == \"PROPN\") and val == 2:\n",
        "            val = max(val, 3)\n",
        "            aspecto2 = i.text\n",
        "        elif (i.pos_ == \"VERB\" or i.pos_ == \"AUX\") and val == 3:\n",
        "            val = max(val, 4)\n",
        "        elif i.pos_ == \"ADJ\" or i.pos_ in op:\n",
        "            val = max(val, 5)\n",
        "            break\n",
        "        else:\n",
        "            val = 0\n",
        "    if val == 5 and aspecto1 != \"\" and aspecto2 != \"\":\n",
        "        aspectos.append(aspecto1)\n",
        "        aspectos.append(aspecto2)\n",
        "\n",
        "    return aspectos"
      ]
    },
    {
      "cell_type": "markdown",
      "metadata": {
        "id": "o-6oVNP5iXpO"
      },
      "source": [
        "#Regra 44\n",
        "References: [2], tabela 5.\n",
        "\n",
        "regra 103, exemplo: **recurso sunset **bate fotos incríveis\n",
        "\n",
        "> **NN** **NN** * JJ/OP NN"
      ]
    },
    {
      "cell_type": "code",
      "execution_count": null,
      "metadata": {
        "id": "PGYWCzouijqB"
      },
      "outputs": [],
      "source": [
        "def regra44(doc, aspectos):\n",
        "    val = 0\n",
        "    aspecto = \"\"\n",
        "    for i in doc:\n",
        "        if (i.pos_ == \"NOUN\" or i.pos_ == \"PROPN\") and val == 0:\n",
        "            val = max(val, 1)\n",
        "            aspecto = i.text\n",
        "        elif (i.pos_ == \"NOUN\" or i.pos_ == \"PROPN\") and val == 1:\n",
        "            val = max(val, 2)\n",
        "            aspecto+= ' '+i.text\n",
        "        elif i.pos_ != \"NOUN\" and val == 2:\n",
        "            val = max(val, 3)\n",
        "        elif i.pos_ == \"NOUN\" and val == 3:\n",
        "            val = max(val, 4)\n",
        "        elif (i.pos_ == \"ADJ\" or i.pos_ in op) and val == 4:\n",
        "            val = max(val, 5)\n",
        "            break\n",
        "        else: val = 0\n",
        "    if val == 5 and aspecto:\n",
        "        aspectos.append(aspecto)\n",
        "    return aspectos"
      ]
    },
    {
      "cell_type": "markdown",
      "metadata": {
        "id": "rsSnLkktf1Nl"
      },
      "source": [
        "#Regra 45\n",
        "References: [2], tabela 5.\n",
        "\n",
        "regra 120, exemplo: a canon g3 é a melhor **câmera digital**\n",
        "> amod(NN1,JJ/OP) and amod(**NN1**,**JJ**) [such that JJ not in OP]"
      ]
    },
    {
      "cell_type": "code",
      "execution_count": null,
      "metadata": {
        "id": "UbndofpGf0rm"
      },
      "outputs": [],
      "source": [
        "def regra45(doc, aspectos):\n",
        "    f = 0\n",
        "    cont = 0\n",
        "    aspecto = \"\"\n",
        "    for i in doc:\n",
        "        if i.dep_ == \"amod\":\n",
        "            cont+=1\n",
        "        \n",
        "        if i.dep_ == \"amod\" and cont > 1:\n",
        "            if (i.text not in op):\n",
        "                aspecto = i.head.text+' '+i.text\n",
        "    aspectos.append(aspecto)\n",
        "    return aspectos"
      ]
    },
    {
      "cell_type": "markdown",
      "metadata": {
        "id": "-zqmHAIaKYLe"
      },
      "source": [
        "# TXT to CSV"
      ]
    },
    {
      "cell_type": "code",
      "execution_count": null,
      "metadata": {
        "id": "M2E1MWFKKY9Q"
      },
      "outputs": [],
      "source": [
        "if glob.glob(\"rehol.txt\" or \"reli.txt\"):\n",
        "    from numpy.lib.function_base import kaiser\n",
        "    import pandas as pd\n",
        "    df = pd.read_csv(\n",
        "        'rehol.txt', sep=\"####\",header=None, engine='python')\n",
        "    df = df.to_csv('rehol.csv', decimal=',', float_format='%.4f')\n",
        "    df"
      ]
    },
    {
      "cell_type": "markdown",
      "metadata": {
        "id": "MyF_u1LEQVU5"
      },
      "source": [
        "#Conjunto de pares (sentença-aspecto) do dataset\n",
        "* gera todos os pares de sentença-aspecto do dataset\n"
      ]
    },
    {
      "cell_type": "code",
      "execution_count": null,
      "metadata": {
        "id": "KjyLiIrcQUuR"
      },
      "outputs": [],
      "source": [
        "def gerarConjuntoPares(file):\n",
        "    if file == glob.glob('*.xml'):\n",
        "        tree = ET.parse(file[0])\n",
        "        root = tree.getroot()\n",
        "        par = (\"\",\"\")\n",
        "        conjunto_de_pares = set()\n",
        "        f = 0\n",
        "        for review in root.iter('review'):\n",
        "            for x in review.iter():\n",
        "                if x.tag == 'sentence':\n",
        "                    if f == 1:\n",
        "                        par = (frase, \"\")\n",
        "                    frase = x.text\n",
        "                    f = 1\n",
        "                if x.tag == 'opinion':\n",
        "                    f = 0\n",
        "                    par = (frase, x.attrib['aspect'])\n",
        "                    conjunto_de_pares.add(par)\n",
        "    elif file == glob.glob('*.json'):\n",
        "        data = pd.read_json(file[0])\n",
        "        tags = data[\"reviews\"]\n",
        "        par = (\"\", \"\")\n",
        "        conjunto_de_pares = set()\n",
        "        for tag in tags: \n",
        "            for aspecto in tag[\"explicit aspects\"]:\n",
        "                par = (tag[\"review\"], aspecto)\n",
        "                conjunto_de_pares.add(par)\n",
        "    \n",
        "    elif file == glob.glob('reli.csv') or file == glob.glob('rehol.csv'):\n",
        "        df = pd.read_csv('rehol.csv')\n",
        "        conjunto_de_pares = set()\n",
        "        for key in df.itertuples():\n",
        "            par = (\"\", \"\")\n",
        "            # transformando em lista de tuplas\n",
        "            lista = eval( \"[%s]\" % key[3])\n",
        "            for tupla in lista:\n",
        "                # a sentença está nessa posição\n",
        "                sentenca = key[2]\n",
        "                # split nas sentenças da string\n",
        "                sent = sentenca.split()\n",
        "                for j in tupla:\n",
        "                    # caso haja apenas um aspecto\n",
        "                    if(len(j[0]) == 1): \n",
        "                        index = j[0][0]\n",
        "                        aspecto = sent[index]\n",
        "                        par = (sentenca, aspecto)\n",
        "                    # caso haja mais de um aspecto na sentenca\n",
        "                    else:\n",
        "                        aux = []\n",
        "                        aspecto = \"\"\n",
        "                        for k in j[0]:\n",
        "                            index = k \n",
        "                            aux.append(sent[index])\n",
        "                            aspecto = ' '.join(aux)\n",
        "                        par = (sentenca, aspecto)\n",
        "                    conjunto_de_pares.add(par)\n",
        "    elif file == glob.glob('teste.csv'):\n",
        "        df = pd.read_csv('teste.csv', on_bad_lines='skip', sep=\";\" )\n",
        "        reviews = list(df['review'])\n",
        "        aspects = list(df['aspect'])\n",
        "        conjunto_de_pares = set()\n",
        "        for r, a in zip(reviews, aspects):\n",
        "            par = (r, a)\n",
        "            conjunto_de_pares.add(par)\n",
        "        \n",
        "    return conjunto_de_pares"
      ]
    },
    {
      "cell_type": "markdown",
      "metadata": {
        "id": "lZ5co3LBWyTo"
      },
      "source": [
        "# Extração de Aspectos\n",
        "* extração por meio das regras implementadas\n",
        "\n",
        "* retorna um set de aspectos"
      ]
    },
    {
      "cell_type": "code",
      "execution_count": null,
      "metadata": {
        "id": "agHdKWhaW8vM"
      },
      "outputs": [],
      "source": [
        "def extrairAspectos(file, conjuntoRegras):\n",
        "    aspectos = []\n",
        "    sentencas = []\n",
        "    set_aspectos = []\n",
        "    sentencas = gerarConjuntoPares(file)\n",
        "    for sentenca in sentencas:\n",
        "        doc = nlp(sentenca[0])\n",
        "        for r in conjuntoRegras:\n",
        "            r(doc, aspectos)\n",
        "    set_aspectos = set(aspectos)\n",
        "    return set_aspectos"
      ]
    },
    {
      "cell_type": "markdown",
      "metadata": {
        "id": "mh2bgpr4R5eQ"
      },
      "source": [
        "# Métricas de Avaliação\n",
        "\n",
        "* aplicando as métricas de avaliação "
      ]
    },
    {
      "cell_type": "code",
      "execution_count": null,
      "metadata": {
        "id": "EIouWCNOO89h"
      },
      "outputs": [],
      "source": [
        "def gerarMetricas(file, conjuntoRegras):\n",
        "    aspecto = extrairAspectos(file, conjuntoRegras)\n",
        "    aspectos = []\n",
        "    for a in aspecto:\n",
        "        a = str(a)\n",
        "        aspectos.append(a.lower())\n",
        "    \n",
        "    gabarito = gerarConjuntoPares(file)\n",
        "    aspectosGabarito = []\n",
        "    for g in gabarito:\n",
        "        # se tem aspecto, o conjunto de dados recebe aquele aspecto\n",
        "        if g[1] != '':\n",
        "            aspectosGabarito.append(g[1].lower())\n",
        "    aspectos = set(aspectos)\n",
        "    aspectosGabarito = set(aspectosGabarito)\n",
        "    \n",
        "    # Precisao: \n",
        "    elementos = 0\n",
        "    for a in aspectos:\n",
        "        for d in aspectosGabarito:\n",
        "            if a == d:\n",
        "                elementos+=1\n",
        "                break\n",
        "    if len(aspectos) == 0:\n",
        "        precisao = 0\n",
        "    else: precisao = elementos/len(aspectos)\n",
        "    # print(f\"Precisão: {precisao} = {elementos} / {len(aspectos)}\")\n",
        "\n",
        "    # Revocacao: \n",
        "    elementos = 0\n",
        "    for d in aspectosGabarito:\n",
        "        for a in aspectos:\n",
        "            if a == d:\n",
        "                elementos+=1\n",
        "                break\n",
        "    if len(aspectosGabarito) == 0: \n",
        "        revocacao = 0\n",
        "    else: \n",
        "        revocacao = elementos/len(aspectosGabarito)\n",
        "    \n",
        "    # print(f\"Revocação: {revocacao} = {elementos} / {len(aspectosGabarito)}\\n\")\n",
        "\n",
        "    # F1-score\n",
        "    if precisao * revocacao == 0: \n",
        "        f1 = 0\n",
        "    else: \n",
        "        f1 = 2 * precisao * revocacao / (precisao + revocacao)\n",
        "    return (precisao, revocacao, f1)\n"
      ]
    },
    {
      "cell_type": "markdown",
      "metadata": {
        "id": "YGlcOiSSl-Cx"
      },
      "source": [
        "#Sentenças sem aspecto extraído\n",
        "\n",
        "* Verificar quais sentenças têm aspectos mas que não foram extraídos"
      ]
    },
    {
      "cell_type": "code",
      "execution_count": null,
      "metadata": {
        "id": "TUFtU3eRmFOu"
      },
      "outputs": [],
      "source": [
        "def obterSentencasSemAspectoExtraido(conjuntoRegras):\n",
        "    sentencasComAspectoNaoExtraido = []\n",
        "    aspectos = []\n",
        "    aspectosDasSentencasNaoExtraidas = []\n",
        "    if(glob.glob(\"*.xml\")): file = glob.glob(\"*.xml\")\n",
        "    elif(glob.glob(\"*.json\")): file = glob.glob(\"*.json\")\n",
        "    elif(glob.glob(\"*.csv\")): file = glob.glob(\"*.csv\")\n",
        "    sentencas = gerarConjuntoPares(file)\n",
        "\n",
        "    for s in sentencas:\n",
        "        f = 0\n",
        "        doc = nlp(s[0])\n",
        "        aspectos = []\n",
        "        for regra in conjuntoRegras:\n",
        "            resultado = regra(doc, aspectos)\n",
        "            if (resultado):    \n",
        "                f = 1\n",
        "                break\n",
        "        if f == 0:\n",
        "            sentencasComAspectoNaoExtraido.append(s)\n",
        "            aspectosDasSentencasNaoExtraidas.append(s[1])\n",
        "    return sentencasComAspectoNaoExtraido"
      ]
    },
    {
      "cell_type": "markdown",
      "metadata": {
        "id": "2RLcxNRDvm-U"
      },
      "source": [
        "#Rascunho"
      ]
    },
    {
      "cell_type": "code",
      "execution_count": null,
      "metadata": {
        "id": "ySMgw45vpn4g"
      },
      "outputs": [],
      "source": [
        "def teste():\n",
        "    sentence = \"Deliciosos pratos\"\n",
        "    doc = nlp(sentence)\n",
        "    aspectos = []\n",
        "    displacy.render(doc, style='dep', jupyter=True)\n",
        "    for regra in regraPorId:\n",
        "        print(regraPorId[regra](doc, aspectos), \"regra\", regra)\n",
        "        aspectos = []\n",
        "    return"
      ]
    },
    {
      "cell_type": "markdown",
      "metadata": {
        "id": "rpklFhQMdmI9"
      },
      "source": [
        "# Regras Por ID\n",
        "\n",
        "identificar cada regra de acordo com seu ID"
      ]
    },
    {
      "cell_type": "code",
      "execution_count": null,
      "metadata": {
        "id": "JvPVojZLqw9J"
      },
      "outputs": [],
      "source": [
        "regraPorId = {\n",
        "    '1': regra1,\n",
        "    '2': regra2,\n",
        "    '3_4': regra3_4,\n",
        "    '5': regra5,\n",
        "    '6': regra6,\n",
        "    '7': regra7,\n",
        "    '8': regra8,\n",
        "    '9': regra9,\n",
        "    '10': regra10,\n",
        "    '11': regra11,\n",
        "    '12': regra12,\n",
        "    '13': regra13,\n",
        "    '14': regra14,\n",
        "    '15': regra15,\n",
        "    '16': regra16,\n",
        "    '17': regra17,\n",
        "    '18': regra18,\n",
        "    '19': regra19,\n",
        "    '20': regra20,\n",
        "    '21': regra21,\n",
        "    '22': regra22,\n",
        "    '23': regra23,\n",
        "    '24': regra24,\n",
        "    '25': regra25,\n",
        "    '26': regra26,\n",
        "    '27': regra27,\n",
        "    '28': regra28,\n",
        "    '29': regra29,\n",
        "    '30': regra30,\n",
        "    '31': regra31,\n",
        "    '32': regra32,\n",
        "    '33': regra33,\n",
        "    '34': regra34,\n",
        "    '35': regra35,\n",
        "    '36': regra36,\n",
        "    '37': regra37,\n",
        "    '38': regra38,\n",
        "    '39': regra39,\n",
        "    '40': regra40,\n",
        "    '41': regra41,\n",
        "    '42': regra42,\n",
        "    '43': regra43,\n",
        "    '44': regra44,\n",
        "    '45': regra45\n",
        "}"
      ]
    },
    {
      "cell_type": "markdown",
      "metadata": {
        "id": "LGZD8IO_C98g"
      },
      "source": [
        "# Funções para Gerar os Resultados\n"
      ]
    },
    {
      "cell_type": "code",
      "execution_count": null,
      "metadata": {
        "id": "CJH6pGVQuSKx"
      },
      "outputs": [],
      "source": [
        "class Metrica(Enum):\n",
        "    PRECISAO = 0\n",
        "    REVOCACAO = 1\n",
        "    F1 = 2\n",
        "\n",
        "def ordenaResultados(resultados, metrica1 = Metrica.PRECISAO, metrica2 = Metrica.REVOCACAO, metrica3 = Metrica.F1):\n",
        "    '''\n",
        "    Parâmetros:\n",
        "    resultados: \n",
        "        Dicionário contendo o índice da regra como chave e uma tupla de métricas\n",
        "        como valor\n",
        "    metrica: \n",
        "        Métrica por qual os resultados devem ser ordenados\n",
        "\n",
        "    Retorna:\n",
        "    Lista com os mesmos itens do dicionário recebido ordenada de forma\n",
        "    decrescente pela métrica escolhida\n",
        "    '''\n",
        "    return sorted(\n",
        "        resultados.items(),\n",
        "        key=lambda item: (item[1][metrica1.value], item[1][metrica2.value], item[1][metrica3.value]),\n",
        "        reverse=True)\n",
        "\n",
        "def geraResultados(file):\n",
        "    \"\"\"\n",
        "    Retorna:\n",
        "        Dicionário contendo o índice da regra como chave e uma tupla de métricas\n",
        "        como valor\n",
        "    \"\"\"\n",
        "    resultados = {}\n",
        "    for id in regraPorId:\n",
        "        resultados[id] = gerarMetricas(file, [regraPorId[id]])\n",
        "    return resultados\n"
      ]
    },
    {
      "cell_type": "markdown",
      "metadata": {
        "id": "bDWIHg51TGcL"
      },
      "source": [
        "#Algoritmo Guloso"
      ]
    },
    {
      "cell_type": "code",
      "execution_count": null,
      "metadata": {
        "id": "bYzNp7W7SSY8",
        "colab": {
          "base_uri": "https://localhost:8080/"
        },
        "outputId": "469a5498-5083-4c02-ec27-9d032280e63b"
      },
      "outputs": [
        {
          "output_type": "stream",
          "name": "stdout",
          "text": [
            "Combinação de 1 regras:\n",
            "\n",
            "Com a regra 17: \n",
            " P: 1.0 \n",
            " R: 0.1111111111111111 \n",
            " F1: 0.19999999999999998\n",
            "\n",
            "Com a regra 40: \n",
            " P: 1.0 \n",
            " R: 0.1111111111111111 \n",
            " F1: 0.19999999999999998\n",
            "\n",
            "Com a regra 6: \n",
            " P: 0.5 \n",
            " R: 0.2222222222222222 \n",
            " F1: 0.30769230769230765\n",
            "\n",
            "Com a regra 10: \n",
            " P: 0.42857142857142855 \n",
            " R: 0.3333333333333333 \n",
            " F1: 0.375\n",
            "\n",
            "Com a regra 39: \n",
            " P: 0.5 \n",
            " R: 0.3333333333333333 \n",
            " F1: 0.4\n",
            "\n",
            "Com a regra 25: \n",
            " P: 0.2857142857142857 \n",
            " R: 0.2222222222222222 \n",
            " F1: 0.25\n",
            "\n",
            "Com a regra 27: \n",
            " P: 0.2857142857142857 \n",
            " R: 0.2222222222222222 \n",
            " F1: 0.25\n",
            "\n",
            "Com a regra 41: \n",
            " P: 0.2857142857142857 \n",
            " R: 0.2222222222222222 \n",
            " F1: 0.25\n",
            "\n",
            "Com a regra 16: \n",
            " P: 0.25 \n",
            " R: 0.2222222222222222 \n",
            " F1: 0.23529411764705882\n",
            "\n",
            "Com a regra 20: \n",
            " P: 0.4 \n",
            " R: 0.2222222222222222 \n",
            " F1: 0.2857142857142857\n",
            "\n",
            "Com a regra 29: \n",
            " P: 0.4 \n",
            " R: 0.2222222222222222 \n",
            " F1: 0.2857142857142857\n",
            "\n",
            "Com a regra 30: \n",
            " P: 0.2 \n",
            " R: 0.1111111111111111 \n",
            " F1: 0.14285714285714285\n",
            "\n",
            "Com a regra 12: \n",
            " P: 0.16666666666666666 \n",
            " R: 0.1111111111111111 \n",
            " F1: 0.13333333333333333\n",
            "\n",
            "Com a regra 11: \n",
            " P: 0.13636363636363635 \n",
            " R: 0.3333333333333333 \n",
            " F1: 0.1935483870967742\n",
            "\n",
            "Com a regra 7: \n",
            " P: 0.1111111111111111 \n",
            " R: 0.1111111111111111 \n",
            " F1: 0.1111111111111111\n",
            "\n",
            "Com a regra 24: \n",
            " P: 0.1111111111111111 \n",
            " R: 0.1111111111111111 \n",
            " F1: 0.1111111111111111\n",
            "\n",
            "Com a regra 31: \n",
            " P: 0.2 \n",
            " R: 0.2222222222222222 \n",
            " F1: 0.2105263157894737\n",
            "\n",
            "Com a regra 8: \n",
            " P: 0.09090909090909091 \n",
            " R: 0.1111111111111111 \n",
            " F1: 0.09999999999999999\n",
            "\n",
            "Com a regra 1: \n",
            " P: 1.0 \n",
            " R: 0.1111111111111111 \n",
            " F1: 0.19999999999999998\n",
            "\n",
            "Com a regra 2: \n",
            " P: 1.0 \n",
            " R: 0.1111111111111111 \n",
            " F1: 0.19999999999999998\n",
            "\n",
            "Com a regra 3_4: \n",
            " P: 1.0 \n",
            " R: 0.1111111111111111 \n",
            " F1: 0.19999999999999998\n",
            "\n",
            "Com a regra 5: \n",
            " P: 1.0 \n",
            " R: 0.1111111111111111 \n",
            " F1: 0.19999999999999998\n",
            "\n",
            "Com a regra 9: \n",
            " P: 1.0 \n",
            " R: 0.1111111111111111 \n",
            " F1: 0.19999999999999998\n",
            "\n",
            "Com a regra 14: \n",
            " P: 0.2 \n",
            " R: 0.1111111111111111 \n",
            " F1: 0.14285714285714285\n",
            "\n",
            "Com a regra 15: \n",
            " P: 1.0 \n",
            " R: 0.1111111111111111 \n",
            " F1: 0.19999999999999998\n",
            "\n",
            "Com a regra 18: \n",
            " P: 1.0 \n",
            " R: 0.1111111111111111 \n",
            " F1: 0.19999999999999998\n",
            "\n",
            "Com a regra 19: \n",
            " P: 0.3333333333333333 \n",
            " R: 0.1111111111111111 \n",
            " F1: 0.16666666666666666\n",
            "\n",
            "Com a regra 21: \n",
            " P: 0.0625 \n",
            " R: 0.1111111111111111 \n",
            " F1: 0.08\n",
            "\n",
            "Com a regra 22: \n",
            " P: 0.25 \n",
            " R: 0.1111111111111111 \n",
            " F1: 0.15384615384615383\n",
            "\n",
            "Com a regra 23: \n",
            " P: 0.25 \n",
            " R: 0.1111111111111111 \n",
            " F1: 0.15384615384615383\n",
            "\n",
            "Com a regra 26: \n",
            " P: 0.25 \n",
            " R: 0.1111111111111111 \n",
            " F1: 0.15384615384615383\n",
            "\n",
            "Com a regra 28: \n",
            " P: 1.0 \n",
            " R: 0.1111111111111111 \n",
            " F1: 0.19999999999999998\n",
            "\n",
            "Com a regra 32: \n",
            " P: 0.1111111111111111 \n",
            " R: 0.1111111111111111 \n",
            " F1: 0.1111111111111111\n",
            "\n",
            "Com a regra 33: \n",
            " P: 0.1 \n",
            " R: 0.1111111111111111 \n",
            " F1: 0.10526315789473685\n",
            "\n",
            "Com a regra 34: \n",
            " P: 0.3333333333333333 \n",
            " R: 0.1111111111111111 \n",
            " F1: 0.16666666666666666\n",
            "\n",
            "Com a regra 35: \n",
            " P: 1.0 \n",
            " R: 0.1111111111111111 \n",
            " F1: 0.19999999999999998\n",
            "\n",
            "Com a regra 36: \n",
            " P: 0.14285714285714285 \n",
            " R: 0.1111111111111111 \n",
            " F1: 0.125\n",
            "\n",
            "Com a regra 37: \n",
            " P: 1.0 \n",
            " R: 0.1111111111111111 \n",
            " F1: 0.19999999999999998\n",
            "\n",
            "Com a regra 38: \n",
            " P: 1.0 \n",
            " R: 0.1111111111111111 \n",
            " F1: 0.19999999999999998\n",
            "\n",
            "Com a regra 42: \n",
            " P: 1.0 \n",
            " R: 0.1111111111111111 \n",
            " F1: 0.19999999999999998\n",
            "\n",
            "Com a regra 43: \n",
            " P: 1.0 \n",
            " R: 0.1111111111111111 \n",
            " F1: 0.19999999999999998\n",
            "\n",
            "Com a regra 44: \n",
            " P: 1.0 \n",
            " R: 0.1111111111111111 \n",
            " F1: 0.19999999999999998\n",
            "\n",
            "Com a regra 45: \n",
            " P: 0.09090909090909091 \n",
            " R: 0.1111111111111111 \n",
            " F1: 0.09999999999999999\n",
            "\n",
            "REGRA ADICIONADA: 39\n",
            "\n",
            "Combinação de 2 regras:\n",
            "\n",
            "Com a regra 17: \n",
            " P: 0.5 \n",
            " R: 0.3333333333333333 \n",
            " F1: 0.4\n",
            "\n",
            "Com a regra 40: \n",
            " P: 0.5 \n",
            " R: 0.3333333333333333 \n",
            " F1: 0.4\n",
            "\n",
            "Com a regra 6: \n",
            " P: 0.375 \n",
            " R: 0.3333333333333333 \n",
            " F1: 0.35294117647058826\n",
            "\n",
            "Com a regra 10: \n",
            " P: 0.3 \n",
            " R: 0.3333333333333333 \n",
            " F1: 0.3157894736842105\n",
            "\n",
            "Com a regra 25: \n",
            " P: 0.2727272727272727 \n",
            " R: 0.3333333333333333 \n",
            " F1: 0.3\n",
            "\n",
            "Com a regra 27: \n",
            " P: 0.2727272727272727 \n",
            " R: 0.3333333333333333 \n",
            " F1: 0.3\n",
            "\n",
            "Com a regra 41: \n",
            " P: 0.2727272727272727 \n",
            " R: 0.3333333333333333 \n",
            " F1: 0.3\n",
            "\n",
            "Com a regra 16: \n",
            " P: 0.3333333333333333 \n",
            " R: 0.4444444444444444 \n",
            " F1: 0.380952380952381\n",
            "\n",
            "Com a regra 20: \n",
            " P: 0.4 \n",
            " R: 0.4444444444444444 \n",
            " F1: 0.4210526315789474\n",
            "\n",
            "Com a regra 29: \n",
            " P: 0.4 \n",
            " R: 0.4444444444444444 \n",
            " F1: 0.4210526315789474\n",
            "\n",
            "Com a regra 30: \n",
            " P: 0.3333333333333333 \n",
            " R: 0.3333333333333333 \n",
            " F1: 0.3333333333333333\n",
            "\n",
            "Com a regra 12: \n",
            " P: 0.2727272727272727 \n",
            " R: 0.3333333333333333 \n",
            " F1: 0.3\n",
            "\n",
            "Com a regra 11: \n",
            " P: 0.12 \n",
            " R: 0.3333333333333333 \n",
            " F1: 0.1764705882352941\n",
            "\n",
            "Com a regra 7: \n",
            " P: 0.23076923076923078 \n",
            " R: 0.3333333333333333 \n",
            " F1: 0.27272727272727276\n",
            "\n",
            "Com a regra 24: \n",
            " P: 0.23076923076923078 \n",
            " R: 0.3333333333333333 \n",
            " F1: 0.27272727272727276\n",
            "\n",
            "Com a regra 31: \n",
            " P: 0.26666666666666666 \n",
            " R: 0.4444444444444444 \n",
            " F1: 0.33333333333333337\n",
            "\n",
            "Com a regra 8: \n",
            " P: 0.1875 \n",
            " R: 0.3333333333333333 \n",
            " F1: 0.24000000000000005\n",
            "\n",
            "Com a regra 1: \n",
            " P: 0.5 \n",
            " R: 0.3333333333333333 \n",
            " F1: 0.4\n",
            "\n",
            "Com a regra 2: \n",
            " P: 0.5 \n",
            " R: 0.3333333333333333 \n",
            " F1: 0.4\n",
            "\n",
            "Com a regra 3_4: \n",
            " P: 0.5 \n",
            " R: 0.3333333333333333 \n",
            " F1: 0.4\n",
            "\n",
            "Com a regra 5: \n",
            " P: 0.5 \n",
            " R: 0.3333333333333333 \n",
            " F1: 0.4\n",
            "\n",
            "Com a regra 9: \n",
            " P: 0.5 \n",
            " R: 0.3333333333333333 \n",
            " F1: 0.4\n",
            "\n",
            "Com a regra 14: \n",
            " P: 0.3333333333333333 \n",
            " R: 0.3333333333333333 \n",
            " F1: 0.3333333333333333\n",
            "\n",
            "Com a regra 15: \n",
            " P: 0.5 \n",
            " R: 0.3333333333333333 \n",
            " F1: 0.4\n",
            "\n",
            "Com a regra 18: \n",
            " P: 0.5 \n",
            " R: 0.3333333333333333 \n",
            " F1: 0.4\n",
            "\n",
            "Com a regra 19: \n",
            " P: 0.375 \n",
            " R: 0.3333333333333333 \n",
            " F1: 0.35294117647058826\n",
            "\n",
            "Com a regra 21: \n",
            " P: 0.15 \n",
            " R: 0.3333333333333333 \n",
            " F1: 0.20689655172413793\n",
            "\n",
            "Com a regra 22: \n",
            " P: 0.3333333333333333 \n",
            " R: 0.3333333333333333 \n",
            " F1: 0.3333333333333333\n",
            "\n",
            "Com a regra 23: \n",
            " P: 0.3333333333333333 \n",
            " R: 0.3333333333333333 \n",
            " F1: 0.3333333333333333\n",
            "\n",
            "Com a regra 26: \n",
            " P: 0.3333333333333333 \n",
            " R: 0.3333333333333333 \n",
            " F1: 0.3333333333333333\n",
            "\n",
            "Com a regra 28: \n",
            " P: 0.5 \n",
            " R: 0.3333333333333333 \n",
            " F1: 0.4\n",
            "\n",
            "Com a regra 32: \n",
            " P: 0.21428571428571427 \n",
            " R: 0.3333333333333333 \n",
            " F1: 0.2608695652173913\n",
            "\n",
            "Com a regra 33: \n",
            " P: 0.2 \n",
            " R: 0.3333333333333333 \n",
            " F1: 0.25\n",
            "\n",
            "Com a regra 34: \n",
            " P: 0.375 \n",
            " R: 0.3333333333333333 \n",
            " F1: 0.35294117647058826\n",
            "\n",
            "Com a regra 35: \n",
            " P: 0.5 \n",
            " R: 0.3333333333333333 \n",
            " F1: 0.4\n",
            "\n",
            "Com a regra 36: \n",
            " P: 0.25 \n",
            " R: 0.3333333333333333 \n",
            " F1: 0.28571428571428575\n",
            "\n",
            "Com a regra 37: \n",
            " P: 0.5 \n",
            " R: 0.3333333333333333 \n",
            " F1: 0.4\n",
            "\n",
            "Com a regra 38: \n",
            " P: 0.5 \n",
            " R: 0.3333333333333333 \n",
            " F1: 0.4\n",
            "\n",
            "Com a regra 42: \n",
            " P: 0.5 \n",
            " R: 0.3333333333333333 \n",
            " F1: 0.4\n",
            "\n",
            "Com a regra 43: \n",
            " P: 0.5 \n",
            " R: 0.3333333333333333 \n",
            " F1: 0.4\n",
            "\n",
            "Com a regra 44: \n",
            " P: 0.5 \n",
            " R: 0.3333333333333333 \n",
            " F1: 0.4\n",
            "\n",
            "Com a regra 45: \n",
            " P: 0.1875 \n",
            " R: 0.3333333333333333 \n",
            " F1: 0.24000000000000005\n",
            "\n",
            "REGRA ADICIONADA: 20\n",
            "\n",
            "Combinação de 3 regras:\n",
            "\n",
            "Com a regra 17: \n",
            " P: 0.4 \n",
            " R: 0.4444444444444444 \n",
            " F1: 0.4210526315789474\n",
            "\n",
            "Com a regra 40: \n",
            " P: 0.4 \n",
            " R: 0.4444444444444444 \n",
            " F1: 0.4210526315789474\n",
            "\n",
            "Com a regra 6: \n",
            " P: 0.3333333333333333 \n",
            " R: 0.4444444444444444 \n",
            " F1: 0.380952380952381\n",
            "\n",
            "Com a regra 10: \n",
            " P: 0.2857142857142857 \n",
            " R: 0.4444444444444444 \n",
            " F1: 0.34782608695652173\n",
            "\n",
            "Com a regra 25: \n",
            " P: 0.26666666666666666 \n",
            " R: 0.4444444444444444 \n",
            " F1: 0.33333333333333337\n",
            "\n",
            "Com a regra 27: \n",
            " P: 0.26666666666666666 \n",
            " R: 0.4444444444444444 \n",
            " F1: 0.33333333333333337\n",
            "\n",
            "Com a regra 41: \n",
            " P: 0.26666666666666666 \n",
            " R: 0.4444444444444444 \n",
            " F1: 0.33333333333333337\n",
            "\n",
            "Com a regra 16: \n",
            " P: 0.3125 \n",
            " R: 0.5555555555555556 \n",
            " F1: 0.39999999999999997\n",
            "\n",
            "Com a regra 29: \n",
            " P: 0.35714285714285715 \n",
            " R: 0.5555555555555556 \n",
            " F1: 0.43478260869565216\n",
            "\n",
            "Com a regra 30: \n",
            " P: 0.3076923076923077 \n",
            " R: 0.4444444444444444 \n",
            " F1: 0.3636363636363637\n",
            "\n",
            "Com a regra 12: \n",
            " P: 0.26666666666666666 \n",
            " R: 0.4444444444444444 \n",
            " F1: 0.33333333333333337\n",
            "\n",
            "Com a regra 11: \n",
            " P: 0.13793103448275862 \n",
            " R: 0.4444444444444444 \n",
            " F1: 0.21052631578947367\n",
            "\n",
            "Com a regra 7: \n",
            " P: 0.23529411764705882 \n",
            " R: 0.4444444444444444 \n",
            " F1: 0.30769230769230765\n",
            "\n",
            "Com a regra 24: \n",
            " P: 0.23529411764705882 \n",
            " R: 0.4444444444444444 \n",
            " F1: 0.30769230769230765\n",
            "\n",
            "Com a regra 31: \n",
            " P: 0.2631578947368421 \n",
            " R: 0.5555555555555556 \n",
            " F1: 0.35714285714285715\n",
            "\n",
            "Com a regra 8: \n",
            " P: 0.2 \n",
            " R: 0.4444444444444444 \n",
            " F1: 0.2758620689655173\n",
            "\n",
            "Com a regra 1: \n",
            " P: 0.4 \n",
            " R: 0.4444444444444444 \n",
            " F1: 0.4210526315789474\n",
            "\n",
            "Com a regra 2: \n",
            " P: 0.4 \n",
            " R: 0.4444444444444444 \n",
            " F1: 0.4210526315789474\n",
            "\n",
            "Com a regra 3_4: \n",
            " P: 0.4 \n",
            " R: 0.4444444444444444 \n",
            " F1: 0.4210526315789474\n",
            "\n",
            "Com a regra 5: \n",
            " P: 0.4 \n",
            " R: 0.4444444444444444 \n",
            " F1: 0.4210526315789474\n",
            "\n",
            "Com a regra 9: \n",
            " P: 0.4 \n",
            " R: 0.4444444444444444 \n",
            " F1: 0.4210526315789474\n",
            "\n",
            "Com a regra 14: \n",
            " P: 0.3076923076923077 \n",
            " R: 0.4444444444444444 \n",
            " F1: 0.3636363636363637\n",
            "\n",
            "Com a regra 15: \n",
            " P: 0.4 \n",
            " R: 0.4444444444444444 \n",
            " F1: 0.4210526315789474\n",
            "\n",
            "Com a regra 18: \n",
            " P: 0.4 \n",
            " R: 0.4444444444444444 \n",
            " F1: 0.4210526315789474\n",
            "\n",
            "Com a regra 19: \n",
            " P: 0.3333333333333333 \n",
            " R: 0.4444444444444444 \n",
            " F1: 0.380952380952381\n",
            "\n",
            "Com a regra 21: \n",
            " P: 0.16666666666666666 \n",
            " R: 0.4444444444444444 \n",
            " F1: 0.24242424242424243\n",
            "\n",
            "Com a regra 22: \n",
            " P: 0.3076923076923077 \n",
            " R: 0.4444444444444444 \n",
            " F1: 0.3636363636363637\n",
            "\n",
            "Com a regra 23: \n",
            " P: 0.3076923076923077 \n",
            " R: 0.4444444444444444 \n",
            " F1: 0.3636363636363637\n",
            "\n",
            "Com a regra 26: \n",
            " P: 0.3076923076923077 \n",
            " R: 0.4444444444444444 \n",
            " F1: 0.3636363636363637\n",
            "\n",
            "Com a regra 28: \n",
            " P: 0.4 \n",
            " R: 0.4444444444444444 \n",
            " F1: 0.4210526315789474\n",
            "\n",
            "Com a regra 32: \n",
            " P: 0.2222222222222222 \n",
            " R: 0.4444444444444444 \n",
            " F1: 0.2962962962962963\n",
            "\n",
            "Com a regra 33: \n",
            " P: 0.21052631578947367 \n",
            " R: 0.4444444444444444 \n",
            " F1: 0.2857142857142857\n",
            "\n",
            "Com a regra 34: \n",
            " P: 0.3333333333333333 \n",
            " R: 0.4444444444444444 \n",
            " F1: 0.380952380952381\n",
            "\n",
            "Com a regra 35: \n",
            " P: 0.4 \n",
            " R: 0.4444444444444444 \n",
            " F1: 0.4210526315789474\n",
            "\n",
            "Com a regra 36: \n",
            " P: 0.25 \n",
            " R: 0.4444444444444444 \n",
            " F1: 0.32\n",
            "\n",
            "Com a regra 37: \n",
            " P: 0.4 \n",
            " R: 0.4444444444444444 \n",
            " F1: 0.4210526315789474\n",
            "\n",
            "Com a regra 38: \n",
            " P: 0.4 \n",
            " R: 0.4444444444444444 \n",
            " F1: 0.4210526315789474\n",
            "\n",
            "Com a regra 42: \n",
            " P: 0.4 \n",
            " R: 0.4444444444444444 \n",
            " F1: 0.4210526315789474\n",
            "\n",
            "Com a regra 43: \n",
            " P: 0.4 \n",
            " R: 0.4444444444444444 \n",
            " F1: 0.4210526315789474\n",
            "\n",
            "Com a regra 44: \n",
            " P: 0.4 \n",
            " R: 0.4444444444444444 \n",
            " F1: 0.4210526315789474\n",
            "\n",
            "Com a regra 45: \n",
            " P: 0.2 \n",
            " R: 0.4444444444444444 \n",
            " F1: 0.2758620689655173\n",
            "\n",
            "REGRA ADICIONADA: 29\n",
            "\n",
            "Combinação de 4 regras:\n",
            "\n",
            "Com a regra 17: \n",
            " P: 0.35714285714285715 \n",
            " R: 0.5555555555555556 \n",
            " F1: 0.43478260869565216\n",
            "\n",
            "Com a regra 40: \n",
            " P: 0.35714285714285715 \n",
            " R: 0.5555555555555556 \n",
            " F1: 0.43478260869565216\n",
            "\n",
            "Com a regra 6: \n",
            " P: 0.3125 \n",
            " R: 0.5555555555555556 \n",
            " F1: 0.39999999999999997\n",
            "\n",
            "Com a regra 10: \n",
            " P: 0.2777777777777778 \n",
            " R: 0.5555555555555556 \n",
            " F1: 0.3703703703703704\n",
            "\n",
            "Com a regra 25: \n",
            " P: 0.2631578947368421 \n",
            " R: 0.5555555555555556 \n",
            " F1: 0.35714285714285715\n",
            "\n",
            "Com a regra 27: \n",
            " P: 0.2631578947368421 \n",
            " R: 0.5555555555555556 \n",
            " F1: 0.35714285714285715\n",
            "\n",
            "Com a regra 41: \n",
            " P: 0.2631578947368421 \n",
            " R: 0.5555555555555556 \n",
            " F1: 0.35714285714285715\n",
            "\n",
            "Com a regra 16: \n",
            " P: 0.3 \n",
            " R: 0.6666666666666666 \n",
            " F1: 0.41379310344827586\n",
            "\n",
            "Com a regra 30: \n",
            " P: 0.29411764705882354 \n",
            " R: 0.5555555555555556 \n",
            " F1: 0.3846153846153846\n",
            "\n",
            "Com a regra 12: \n",
            " P: 0.2631578947368421 \n",
            " R: 0.5555555555555556 \n",
            " F1: 0.35714285714285715\n",
            "\n",
            "Com a regra 11: \n",
            " P: 0.15151515151515152 \n",
            " R: 0.5555555555555556 \n",
            " F1: 0.2380952380952381\n",
            "\n",
            "Com a regra 7: \n",
            " P: 0.23809523809523808 \n",
            " R: 0.5555555555555556 \n",
            " F1: 0.33333333333333326\n",
            "\n",
            "Com a regra 24: \n",
            " P: 0.23809523809523808 \n",
            " R: 0.5555555555555556 \n",
            " F1: 0.33333333333333326\n",
            "\n",
            "Com a regra 31: \n",
            " P: 0.2727272727272727 \n",
            " R: 0.6666666666666666 \n",
            " F1: 0.3870967741935484\n",
            "\n",
            "Com a regra 8: \n",
            " P: 0.20833333333333334 \n",
            " R: 0.5555555555555556 \n",
            " F1: 0.30303030303030304\n",
            "\n",
            "Com a regra 1: \n",
            " P: 0.35714285714285715 \n",
            " R: 0.5555555555555556 \n",
            " F1: 0.43478260869565216\n",
            "\n",
            "Com a regra 2: \n",
            " P: 0.35714285714285715 \n",
            " R: 0.5555555555555556 \n",
            " F1: 0.43478260869565216\n",
            "\n",
            "Com a regra 3_4: \n",
            " P: 0.35714285714285715 \n",
            " R: 0.5555555555555556 \n",
            " F1: 0.43478260869565216\n",
            "\n",
            "Com a regra 5: \n",
            " P: 0.35714285714285715 \n",
            " R: 0.5555555555555556 \n",
            " F1: 0.43478260869565216\n",
            "\n",
            "Com a regra 9: \n",
            " P: 0.35714285714285715 \n",
            " R: 0.5555555555555556 \n",
            " F1: 0.43478260869565216\n",
            "\n",
            "Com a regra 14: \n",
            " P: 0.29411764705882354 \n",
            " R: 0.5555555555555556 \n",
            " F1: 0.3846153846153846\n",
            "\n",
            "Com a regra 15: \n",
            " P: 0.35714285714285715 \n",
            " R: 0.5555555555555556 \n",
            " F1: 0.43478260869565216\n",
            "\n",
            "Com a regra 18: \n",
            " P: 0.35714285714285715 \n",
            " R: 0.5555555555555556 \n",
            " F1: 0.43478260869565216\n",
            "\n",
            "Com a regra 19: \n",
            " P: 0.3125 \n",
            " R: 0.5555555555555556 \n",
            " F1: 0.39999999999999997\n",
            "\n",
            "Com a regra 21: \n",
            " P: 0.17857142857142858 \n",
            " R: 0.5555555555555556 \n",
            " F1: 0.2702702702702703\n",
            "\n",
            "Com a regra 22: \n",
            " P: 0.29411764705882354 \n",
            " R: 0.5555555555555556 \n",
            " F1: 0.3846153846153846\n",
            "\n",
            "Com a regra 23: \n",
            " P: 0.29411764705882354 \n",
            " R: 0.5555555555555556 \n",
            " F1: 0.3846153846153846\n",
            "\n",
            "Com a regra 26: \n",
            " P: 0.3125 \n",
            " R: 0.5555555555555556 \n",
            " F1: 0.39999999999999997\n",
            "\n",
            "Com a regra 28: \n",
            " P: 0.35714285714285715 \n",
            " R: 0.5555555555555556 \n",
            " F1: 0.43478260869565216\n",
            "\n",
            "Com a regra 32: \n",
            " P: 0.22727272727272727 \n",
            " R: 0.5555555555555556 \n",
            " F1: 0.3225806451612903\n",
            "\n",
            "Com a regra 33: \n",
            " P: 0.21739130434782608 \n",
            " R: 0.5555555555555556 \n",
            " F1: 0.3125\n",
            "\n",
            "Com a regra 34: \n",
            " P: 0.3125 \n",
            " R: 0.5555555555555556 \n",
            " F1: 0.39999999999999997\n",
            "\n",
            "Com a regra 35: \n",
            " P: 0.35714285714285715 \n",
            " R: 0.5555555555555556 \n",
            " F1: 0.43478260869565216\n",
            "\n",
            "Com a regra 36: \n",
            " P: 0.25 \n",
            " R: 0.5555555555555556 \n",
            " F1: 0.3448275862068966\n",
            "\n",
            "Com a regra 37: \n",
            " P: 0.35714285714285715 \n",
            " R: 0.5555555555555556 \n",
            " F1: 0.43478260869565216\n",
            "\n",
            "Com a regra 38: \n",
            " P: 0.35714285714285715 \n",
            " R: 0.5555555555555556 \n",
            " F1: 0.43478260869565216\n",
            "\n",
            "Com a regra 42: \n",
            " P: 0.35714285714285715 \n",
            " R: 0.5555555555555556 \n",
            " F1: 0.43478260869565216\n",
            "\n",
            "Com a regra 43: \n",
            " P: 0.35714285714285715 \n",
            " R: 0.5555555555555556 \n",
            " F1: 0.43478260869565216\n",
            "\n",
            "Com a regra 44: \n",
            " P: 0.35714285714285715 \n",
            " R: 0.5555555555555556 \n",
            " F1: 0.43478260869565216\n",
            "\n",
            "Com a regra 45: \n",
            " P: 0.20833333333333334 \n",
            " R: 0.5555555555555556 \n",
            " F1: 0.30303030303030304\n",
            "\n",
            "\n",
            "<function regra13 at 0x7feb82c063b0>\n",
            "<function regra39 at 0x7feb82bfed40>\n",
            "<function regra20 at 0x7feb82c89680>\n",
            "<function regra29 at 0x7feb82d97200>\n"
          ]
        }
      ],
      "source": [
        "def algoritmoGuloso():\n",
        "    # Definição de variáveis\n",
        "    if(glob.glob(\"*.xml\")): file = glob.glob(\"*.xml\")\n",
        "    if(glob.glob(\"*.json\")): file = glob.glob(\"*.json\")\n",
        "    if(glob.glob(\"*.csv\")): file = glob.glob(\"*.csv\")\n",
        "    gerar = geraResultados(file)\n",
        "    conjuntoRegras = []\n",
        "    melhorP = -1\n",
        "    melhorR = -1\n",
        "    melhorF1 = -1\n",
        "    # Ordenamos os resultados de acordo com a Precisão\n",
        "    resultados = ordenaResultados(gerar, Metrica.PRECISAO, Metrica.REVOCACAO, Metrica.F1)\n",
        "    \n",
        "    # Obtemos a regra com melhor precisão\n",
        "    melhorPrecisao = resultados[0]\n",
        "\n",
        "    # Adicionamos a função que contém a regra ao conjunto ótimo de regras\n",
        "    conjuntoRegras.append(regraPorId[melhorPrecisao[0]])\n",
        "    \n",
        "    # Removemos a tupla do conjunto a ser testado\n",
        "    del resultados[0]\n",
        "\n",
        "    while 1:\n",
        "        regraOtima = None\n",
        "        print(\"Combinação de {} regras:\".format(len(conjuntoRegras)))\n",
        "        for tupla in resultados:\n",
        "            regra = regraPorId[tupla[0]]\n",
        "            # Combino a regra ao conjunto ótimo\n",
        "            conjuntoRegras.append(regra) \n",
        "            # Geração do resultado dessa combinação\n",
        "            resultado = gerarMetricas(file, conjuntoRegras)\n",
        "            \n",
        "            print(\"\\nCom a regra {}: \\n P: {} \\n R: {} \\n F1: {}\"\n",
        "            .format( tupla[0], resultado[0], resultado[1], resultado[2]))\n",
        "            # P R F1\n",
        "            if resultado[2] > melhorF1 or (resultado[2] == melhorF1 and \n",
        "                                            (resultado[0] > melhorP or resultado[1] > melhorR)):\n",
        "                melhorP = resultado[0]\n",
        "                melhorR = resultado[1]\n",
        "                melhorF1 = resultado[2]\n",
        "                regraOtima = regra\n",
        "                tuplaOtima = tupla\n",
        "            \n",
        "            # Ele sempre remove todas as regras testadas do conjunto de regras ótimas\n",
        "            conjuntoRegras.remove(regra)\n",
        "        # Caso eu tenha encontrado uma regra satisfatória\n",
        "        if regraOtima != None:\n",
        "            print(\"\\nREGRA ADICIONADA: {}\\n\".format(tuplaOtima[0]))\n",
        "            conjuntoRegras.append(regraOtima)\n",
        "            del resultados[resultados.index(tuplaOtima)]\n",
        "        else: break\n",
        "    return conjuntoRegras\n",
        "    \n",
        "conjuntoRegras = algoritmoGuloso()\n",
        "print(\"\\n\")\n",
        "for i in conjuntoRegras:\n",
        "    print(i, end=\"\\n\")\n"
      ]
    },
    {
      "cell_type": "code",
      "execution_count": null,
      "metadata": {
        "id": "vSQNTJleI_p_",
        "colab": {
          "base_uri": "https://localhost:8080/"
        },
        "outputId": "b4479c18-3588-44d8-9dcd-b84e66fab30a"
      },
      "outputs": [
        {
          "output_type": "execute_result",
          "data": {
            "text/plain": [
              "(0.09090909090909091, 0.2222222222222222, 0.1290322580645161)"
            ]
          },
          "metadata": {},
          "execution_count": 126
        }
      ],
      "source": [
        "conjuntoRegras = [regra23, regra7, regra24, regra2, regra14, regra37, regra13, regra26, regra29]\n",
        "gerarMetricas(glob.glob(\"*.csv\"), conjuntoRegras)"
      ]
    },
    {
      "cell_type": "markdown",
      "metadata": {
        "id": "0DRx4S_i7RqP"
      },
      "source": [
        "# Exportação do Resultado para CSV\n",
        "\n",
        "Somente o individual, sem o resultado combinado por enquanto"
      ]
    },
    {
      "cell_type": "code",
      "execution_count": null,
      "metadata": {
        "id": "whgFTfbGPzTN",
        "colab": {
          "base_uri": "https://localhost:8080/",
          "height": 1000
        },
        "outputId": "e64f1f03-1ebd-4217-b12b-1a3e505724e1"
      },
      "outputs": [
        {
          "output_type": "execute_result",
          "data": {
            "text/plain": [
              "           Precisão  Revocação        F1\n",
              "Regra 1    0.000000   0.000000  0.000000\n",
              "Regra 2    0.000000   0.000000  0.000000\n",
              "Regra 3_4  0.000000   0.000000  0.000000\n",
              "Regra 5    0.000000   0.000000  0.000000\n",
              "Regra 6    0.500000   0.222222  0.307692\n",
              "Regra 7    0.111111   0.111111  0.111111\n",
              "Regra 8    0.090909   0.111111  0.100000\n",
              "Regra 9    0.000000   0.000000  0.000000\n",
              "Regra 10   0.428571   0.333333  0.375000\n",
              "Regra 11   0.136364   0.333333  0.193548\n",
              "Regra 12   0.166667   0.111111  0.133333\n",
              "Regra 13   1.000000   0.111111  0.200000\n",
              "Regra 14   0.000000   0.000000  0.000000\n",
              "Regra 15   0.000000   0.000000  0.000000\n",
              "Regra 16   0.250000   0.222222  0.235294\n",
              "Regra 17   1.000000   0.111111  0.200000\n",
              "Regra 18   0.000000   0.000000  0.000000\n",
              "Regra 19   0.000000   0.000000  0.000000\n",
              "Regra 20   0.250000   0.111111  0.153846\n",
              "Regra 21   0.000000   0.000000  0.000000\n",
              "Regra 22   0.000000   0.000000  0.000000\n",
              "Regra 23   0.000000   0.000000  0.000000\n",
              "Regra 24   0.111111   0.111111  0.111111\n",
              "Regra 25   0.285714   0.222222  0.250000\n",
              "Regra 26   0.000000   0.000000  0.000000\n",
              "Regra 27   0.285714   0.222222  0.250000\n",
              "Regra 28   0.000000   0.000000  0.000000\n",
              "Regra 29   0.250000   0.111111  0.153846\n",
              "Regra 30   0.200000   0.111111  0.142857\n",
              "Regra 31   0.111111   0.111111  0.111111\n",
              "Regra 32   0.000000   0.000000  0.000000\n",
              "Regra 33   0.000000   0.000000  0.000000\n",
              "Regra 34   0.000000   0.000000  0.000000\n",
              "Regra 35   0.000000   0.000000  0.000000\n",
              "Regra 36   0.000000   0.000000  0.000000\n",
              "Regra 37   0.000000   0.000000  0.000000\n",
              "Regra 38   0.000000   0.000000  0.000000\n",
              "Regra 39   0.400000   0.222222  0.285714\n",
              "Regra 40   1.000000   0.111111  0.200000\n",
              "Regra 41   0.285714   0.222222  0.250000\n",
              "Regra 42   0.000000   0.000000  0.000000\n",
              "Regra 43   0.000000   0.000000  0.000000\n",
              "Regra 44   0.000000   0.000000  0.000000\n",
              "Regra 45   0.000000   0.000000  0.000000"
            ],
            "text/html": [
              "\n",
              "  <div id=\"df-072bfb2f-439e-466e-86a4-3c0c0e576f72\">\n",
              "    <div class=\"colab-df-container\">\n",
              "      <div>\n",
              "<style scoped>\n",
              "    .dataframe tbody tr th:only-of-type {\n",
              "        vertical-align: middle;\n",
              "    }\n",
              "\n",
              "    .dataframe tbody tr th {\n",
              "        vertical-align: top;\n",
              "    }\n",
              "\n",
              "    .dataframe thead th {\n",
              "        text-align: right;\n",
              "    }\n",
              "</style>\n",
              "<table border=\"1\" class=\"dataframe\">\n",
              "  <thead>\n",
              "    <tr style=\"text-align: right;\">\n",
              "      <th></th>\n",
              "      <th>Precisão</th>\n",
              "      <th>Revocação</th>\n",
              "      <th>F1</th>\n",
              "    </tr>\n",
              "  </thead>\n",
              "  <tbody>\n",
              "    <tr>\n",
              "      <th>Regra 1</th>\n",
              "      <td>0.000000</td>\n",
              "      <td>0.000000</td>\n",
              "      <td>0.000000</td>\n",
              "    </tr>\n",
              "    <tr>\n",
              "      <th>Regra 2</th>\n",
              "      <td>0.000000</td>\n",
              "      <td>0.000000</td>\n",
              "      <td>0.000000</td>\n",
              "    </tr>\n",
              "    <tr>\n",
              "      <th>Regra 3_4</th>\n",
              "      <td>0.000000</td>\n",
              "      <td>0.000000</td>\n",
              "      <td>0.000000</td>\n",
              "    </tr>\n",
              "    <tr>\n",
              "      <th>Regra 5</th>\n",
              "      <td>0.000000</td>\n",
              "      <td>0.000000</td>\n",
              "      <td>0.000000</td>\n",
              "    </tr>\n",
              "    <tr>\n",
              "      <th>Regra 6</th>\n",
              "      <td>0.500000</td>\n",
              "      <td>0.222222</td>\n",
              "      <td>0.307692</td>\n",
              "    </tr>\n",
              "    <tr>\n",
              "      <th>Regra 7</th>\n",
              "      <td>0.111111</td>\n",
              "      <td>0.111111</td>\n",
              "      <td>0.111111</td>\n",
              "    </tr>\n",
              "    <tr>\n",
              "      <th>Regra 8</th>\n",
              "      <td>0.090909</td>\n",
              "      <td>0.111111</td>\n",
              "      <td>0.100000</td>\n",
              "    </tr>\n",
              "    <tr>\n",
              "      <th>Regra 9</th>\n",
              "      <td>0.000000</td>\n",
              "      <td>0.000000</td>\n",
              "      <td>0.000000</td>\n",
              "    </tr>\n",
              "    <tr>\n",
              "      <th>Regra 10</th>\n",
              "      <td>0.428571</td>\n",
              "      <td>0.333333</td>\n",
              "      <td>0.375000</td>\n",
              "    </tr>\n",
              "    <tr>\n",
              "      <th>Regra 11</th>\n",
              "      <td>0.136364</td>\n",
              "      <td>0.333333</td>\n",
              "      <td>0.193548</td>\n",
              "    </tr>\n",
              "    <tr>\n",
              "      <th>Regra 12</th>\n",
              "      <td>0.166667</td>\n",
              "      <td>0.111111</td>\n",
              "      <td>0.133333</td>\n",
              "    </tr>\n",
              "    <tr>\n",
              "      <th>Regra 13</th>\n",
              "      <td>1.000000</td>\n",
              "      <td>0.111111</td>\n",
              "      <td>0.200000</td>\n",
              "    </tr>\n",
              "    <tr>\n",
              "      <th>Regra 14</th>\n",
              "      <td>0.000000</td>\n",
              "      <td>0.000000</td>\n",
              "      <td>0.000000</td>\n",
              "    </tr>\n",
              "    <tr>\n",
              "      <th>Regra 15</th>\n",
              "      <td>0.000000</td>\n",
              "      <td>0.000000</td>\n",
              "      <td>0.000000</td>\n",
              "    </tr>\n",
              "    <tr>\n",
              "      <th>Regra 16</th>\n",
              "      <td>0.250000</td>\n",
              "      <td>0.222222</td>\n",
              "      <td>0.235294</td>\n",
              "    </tr>\n",
              "    <tr>\n",
              "      <th>Regra 17</th>\n",
              "      <td>1.000000</td>\n",
              "      <td>0.111111</td>\n",
              "      <td>0.200000</td>\n",
              "    </tr>\n",
              "    <tr>\n",
              "      <th>Regra 18</th>\n",
              "      <td>0.000000</td>\n",
              "      <td>0.000000</td>\n",
              "      <td>0.000000</td>\n",
              "    </tr>\n",
              "    <tr>\n",
              "      <th>Regra 19</th>\n",
              "      <td>0.000000</td>\n",
              "      <td>0.000000</td>\n",
              "      <td>0.000000</td>\n",
              "    </tr>\n",
              "    <tr>\n",
              "      <th>Regra 20</th>\n",
              "      <td>0.250000</td>\n",
              "      <td>0.111111</td>\n",
              "      <td>0.153846</td>\n",
              "    </tr>\n",
              "    <tr>\n",
              "      <th>Regra 21</th>\n",
              "      <td>0.000000</td>\n",
              "      <td>0.000000</td>\n",
              "      <td>0.000000</td>\n",
              "    </tr>\n",
              "    <tr>\n",
              "      <th>Regra 22</th>\n",
              "      <td>0.000000</td>\n",
              "      <td>0.000000</td>\n",
              "      <td>0.000000</td>\n",
              "    </tr>\n",
              "    <tr>\n",
              "      <th>Regra 23</th>\n",
              "      <td>0.000000</td>\n",
              "      <td>0.000000</td>\n",
              "      <td>0.000000</td>\n",
              "    </tr>\n",
              "    <tr>\n",
              "      <th>Regra 24</th>\n",
              "      <td>0.111111</td>\n",
              "      <td>0.111111</td>\n",
              "      <td>0.111111</td>\n",
              "    </tr>\n",
              "    <tr>\n",
              "      <th>Regra 25</th>\n",
              "      <td>0.285714</td>\n",
              "      <td>0.222222</td>\n",
              "      <td>0.250000</td>\n",
              "    </tr>\n",
              "    <tr>\n",
              "      <th>Regra 26</th>\n",
              "      <td>0.000000</td>\n",
              "      <td>0.000000</td>\n",
              "      <td>0.000000</td>\n",
              "    </tr>\n",
              "    <tr>\n",
              "      <th>Regra 27</th>\n",
              "      <td>0.285714</td>\n",
              "      <td>0.222222</td>\n",
              "      <td>0.250000</td>\n",
              "    </tr>\n",
              "    <tr>\n",
              "      <th>Regra 28</th>\n",
              "      <td>0.000000</td>\n",
              "      <td>0.000000</td>\n",
              "      <td>0.000000</td>\n",
              "    </tr>\n",
              "    <tr>\n",
              "      <th>Regra 29</th>\n",
              "      <td>0.250000</td>\n",
              "      <td>0.111111</td>\n",
              "      <td>0.153846</td>\n",
              "    </tr>\n",
              "    <tr>\n",
              "      <th>Regra 30</th>\n",
              "      <td>0.200000</td>\n",
              "      <td>0.111111</td>\n",
              "      <td>0.142857</td>\n",
              "    </tr>\n",
              "    <tr>\n",
              "      <th>Regra 31</th>\n",
              "      <td>0.111111</td>\n",
              "      <td>0.111111</td>\n",
              "      <td>0.111111</td>\n",
              "    </tr>\n",
              "    <tr>\n",
              "      <th>Regra 32</th>\n",
              "      <td>0.000000</td>\n",
              "      <td>0.000000</td>\n",
              "      <td>0.000000</td>\n",
              "    </tr>\n",
              "    <tr>\n",
              "      <th>Regra 33</th>\n",
              "      <td>0.000000</td>\n",
              "      <td>0.000000</td>\n",
              "      <td>0.000000</td>\n",
              "    </tr>\n",
              "    <tr>\n",
              "      <th>Regra 34</th>\n",
              "      <td>0.000000</td>\n",
              "      <td>0.000000</td>\n",
              "      <td>0.000000</td>\n",
              "    </tr>\n",
              "    <tr>\n",
              "      <th>Regra 35</th>\n",
              "      <td>0.000000</td>\n",
              "      <td>0.000000</td>\n",
              "      <td>0.000000</td>\n",
              "    </tr>\n",
              "    <tr>\n",
              "      <th>Regra 36</th>\n",
              "      <td>0.000000</td>\n",
              "      <td>0.000000</td>\n",
              "      <td>0.000000</td>\n",
              "    </tr>\n",
              "    <tr>\n",
              "      <th>Regra 37</th>\n",
              "      <td>0.000000</td>\n",
              "      <td>0.000000</td>\n",
              "      <td>0.000000</td>\n",
              "    </tr>\n",
              "    <tr>\n",
              "      <th>Regra 38</th>\n",
              "      <td>0.000000</td>\n",
              "      <td>0.000000</td>\n",
              "      <td>0.000000</td>\n",
              "    </tr>\n",
              "    <tr>\n",
              "      <th>Regra 39</th>\n",
              "      <td>0.400000</td>\n",
              "      <td>0.222222</td>\n",
              "      <td>0.285714</td>\n",
              "    </tr>\n",
              "    <tr>\n",
              "      <th>Regra 40</th>\n",
              "      <td>1.000000</td>\n",
              "      <td>0.111111</td>\n",
              "      <td>0.200000</td>\n",
              "    </tr>\n",
              "    <tr>\n",
              "      <th>Regra 41</th>\n",
              "      <td>0.285714</td>\n",
              "      <td>0.222222</td>\n",
              "      <td>0.250000</td>\n",
              "    </tr>\n",
              "    <tr>\n",
              "      <th>Regra 42</th>\n",
              "      <td>0.000000</td>\n",
              "      <td>0.000000</td>\n",
              "      <td>0.000000</td>\n",
              "    </tr>\n",
              "    <tr>\n",
              "      <th>Regra 43</th>\n",
              "      <td>0.000000</td>\n",
              "      <td>0.000000</td>\n",
              "      <td>0.000000</td>\n",
              "    </tr>\n",
              "    <tr>\n",
              "      <th>Regra 44</th>\n",
              "      <td>0.000000</td>\n",
              "      <td>0.000000</td>\n",
              "      <td>0.000000</td>\n",
              "    </tr>\n",
              "    <tr>\n",
              "      <th>Regra 45</th>\n",
              "      <td>0.000000</td>\n",
              "      <td>0.000000</td>\n",
              "      <td>0.000000</td>\n",
              "    </tr>\n",
              "  </tbody>\n",
              "</table>\n",
              "</div>\n",
              "      <button class=\"colab-df-convert\" onclick=\"convertToInteractive('df-072bfb2f-439e-466e-86a4-3c0c0e576f72')\"\n",
              "              title=\"Convert this dataframe to an interactive table.\"\n",
              "              style=\"display:none;\">\n",
              "        \n",
              "  <svg xmlns=\"http://www.w3.org/2000/svg\" height=\"24px\"viewBox=\"0 0 24 24\"\n",
              "       width=\"24px\">\n",
              "    <path d=\"M0 0h24v24H0V0z\" fill=\"none\"/>\n",
              "    <path d=\"M18.56 5.44l.94 2.06.94-2.06 2.06-.94-2.06-.94-.94-2.06-.94 2.06-2.06.94zm-11 1L8.5 8.5l.94-2.06 2.06-.94-2.06-.94L8.5 2.5l-.94 2.06-2.06.94zm10 10l.94 2.06.94-2.06 2.06-.94-2.06-.94-.94-2.06-.94 2.06-2.06.94z\"/><path d=\"M17.41 7.96l-1.37-1.37c-.4-.4-.92-.59-1.43-.59-.52 0-1.04.2-1.43.59L10.3 9.45l-7.72 7.72c-.78.78-.78 2.05 0 2.83L4 21.41c.39.39.9.59 1.41.59.51 0 1.02-.2 1.41-.59l7.78-7.78 2.81-2.81c.8-.78.8-2.07 0-2.86zM5.41 20L4 18.59l7.72-7.72 1.47 1.35L5.41 20z\"/>\n",
              "  </svg>\n",
              "      </button>\n",
              "      \n",
              "  <style>\n",
              "    .colab-df-container {\n",
              "      display:flex;\n",
              "      flex-wrap:wrap;\n",
              "      gap: 12px;\n",
              "    }\n",
              "\n",
              "    .colab-df-convert {\n",
              "      background-color: #E8F0FE;\n",
              "      border: none;\n",
              "      border-radius: 50%;\n",
              "      cursor: pointer;\n",
              "      display: none;\n",
              "      fill: #1967D2;\n",
              "      height: 32px;\n",
              "      padding: 0 0 0 0;\n",
              "      width: 32px;\n",
              "    }\n",
              "\n",
              "    .colab-df-convert:hover {\n",
              "      background-color: #E2EBFA;\n",
              "      box-shadow: 0px 1px 2px rgba(60, 64, 67, 0.3), 0px 1px 3px 1px rgba(60, 64, 67, 0.15);\n",
              "      fill: #174EA6;\n",
              "    }\n",
              "\n",
              "    [theme=dark] .colab-df-convert {\n",
              "      background-color: #3B4455;\n",
              "      fill: #D2E3FC;\n",
              "    }\n",
              "\n",
              "    [theme=dark] .colab-df-convert:hover {\n",
              "      background-color: #434B5C;\n",
              "      box-shadow: 0px 1px 3px 1px rgba(0, 0, 0, 0.15);\n",
              "      filter: drop-shadow(0px 1px 2px rgba(0, 0, 0, 0.3));\n",
              "      fill: #FFFFFF;\n",
              "    }\n",
              "  </style>\n",
              "\n",
              "      <script>\n",
              "        const buttonEl =\n",
              "          document.querySelector('#df-072bfb2f-439e-466e-86a4-3c0c0e576f72 button.colab-df-convert');\n",
              "        buttonEl.style.display =\n",
              "          google.colab.kernel.accessAllowed ? 'block' : 'none';\n",
              "\n",
              "        async function convertToInteractive(key) {\n",
              "          const element = document.querySelector('#df-072bfb2f-439e-466e-86a4-3c0c0e576f72');\n",
              "          const dataTable =\n",
              "            await google.colab.kernel.invokeFunction('convertToInteractive',\n",
              "                                                     [key], {});\n",
              "          if (!dataTable) return;\n",
              "\n",
              "          const docLinkHtml = 'Like what you see? Visit the ' +\n",
              "            '<a target=\"_blank\" href=https://colab.research.google.com/notebooks/data_table.ipynb>data table notebook</a>'\n",
              "            + ' to learn more about interactive tables.';\n",
              "          element.innerHTML = '';\n",
              "          dataTable['output_type'] = 'display_data';\n",
              "          await google.colab.output.renderOutput(dataTable, element);\n",
              "          const docLink = document.createElement('div');\n",
              "          docLink.innerHTML = docLinkHtml;\n",
              "          element.appendChild(docLink);\n",
              "        }\n",
              "      </script>\n",
              "    </div>\n",
              "  </div>\n",
              "  "
            ]
          },
          "metadata": {},
          "execution_count": 127
        }
      ],
      "source": [
        "resultados = geraResultados(glob.glob('*.csv'))\n",
        "ordenaResultados(resultados, Metrica.PRECISAO)\n",
        "df = pd.DataFrame(data=resultados)\n",
        "df = (df.T)\n",
        "df = df.rename(index=lambda id: f'Regra {id}')\n",
        "df.columns = ['Precisão', 'Revocação', 'F1']\n",
        "df.to_csv('resultados.csv', decimal=',', float_format='%.4f')\n",
        "df\n",
        "# conjuntoRegras = [regra45]\n",
        "# gerarMetricas(glob.glob(\"*.csv\"), conjuntoRegras)"
      ]
    },
    {
      "cell_type": "code",
      "execution_count": null,
      "metadata": {
        "id": "llih2LrsM-m9",
        "colab": {
          "base_uri": "https://localhost:8080/"
        },
        "outputId": "7c5f05cb-c3c0-4d72-c7af-6100417167a6"
      },
      "outputs": [
        {
          "output_type": "execute_result",
          "data": {
            "text/plain": [
              "[('10', (0.42857142857142855, 0.3333333333333333, 0.375)),\n",
              " ('6', (0.5, 0.2222222222222222, 0.30769230769230765)),\n",
              " ('39', (0.4, 0.2222222222222222, 0.2857142857142857)),\n",
              " ('25', (0.2857142857142857, 0.2222222222222222, 0.25)),\n",
              " ('27', (0.2857142857142857, 0.2222222222222222, 0.25)),\n",
              " ('41', (0.2857142857142857, 0.2222222222222222, 0.25)),\n",
              " ('16', (0.25, 0.2222222222222222, 0.23529411764705882)),\n",
              " ('13', (1.0, 0.1111111111111111, 0.19999999999999998)),\n",
              " ('17', (1.0, 0.1111111111111111, 0.19999999999999998)),\n",
              " ('40', (1.0, 0.1111111111111111, 0.19999999999999998)),\n",
              " ('11', (0.13636363636363635, 0.3333333333333333, 0.1935483870967742)),\n",
              " ('20', (0.25, 0.1111111111111111, 0.15384615384615383)),\n",
              " ('29', (0.25, 0.1111111111111111, 0.15384615384615383)),\n",
              " ('30', (0.2, 0.1111111111111111, 0.14285714285714285)),\n",
              " ('12', (0.16666666666666666, 0.1111111111111111, 0.13333333333333333)),\n",
              " ('7', (0.1111111111111111, 0.1111111111111111, 0.1111111111111111)),\n",
              " ('24', (0.1111111111111111, 0.1111111111111111, 0.1111111111111111)),\n",
              " ('31', (0.1111111111111111, 0.1111111111111111, 0.1111111111111111)),\n",
              " ('8', (0.09090909090909091, 0.1111111111111111, 0.09999999999999999)),\n",
              " ('1', (0, 0.0, 0)),\n",
              " ('2', (0, 0.0, 0)),\n",
              " ('3_4', (0, 0.0, 0)),\n",
              " ('5', (0, 0.0, 0)),\n",
              " ('9', (0, 0.0, 0)),\n",
              " ('14', (0.0, 0.0, 0)),\n",
              " ('15', (0, 0.0, 0)),\n",
              " ('18', (0, 0.0, 0)),\n",
              " ('19', (0.0, 0.0, 0)),\n",
              " ('21', (0.0, 0.0, 0)),\n",
              " ('22', (0.0, 0.0, 0)),\n",
              " ('23', (0.0, 0.0, 0)),\n",
              " ('26', (0.0, 0.0, 0)),\n",
              " ('28', (0, 0.0, 0)),\n",
              " ('32', (0.0, 0.0, 0)),\n",
              " ('33', (0.0, 0.0, 0)),\n",
              " ('34', (0.0, 0.0, 0)),\n",
              " ('35', (0, 0.0, 0)),\n",
              " ('36', (0.0, 0.0, 0)),\n",
              " ('37', (0, 0.0, 0)),\n",
              " ('38', (0, 0.0, 0)),\n",
              " ('42', (0, 0.0, 0)),\n",
              " ('43', (0, 0.0, 0)),\n",
              " ('44', (0, 0.0, 0)),\n",
              " ('45', (0.0, 0.0, 0))]"
            ]
          },
          "metadata": {},
          "execution_count": 128
        }
      ],
      "source": [
        "ordenaResultados(resultados, Metrica.F1)"
      ]
    },
    {
      "cell_type": "markdown",
      "source": [
        "# Quantidade de Aspectos no Dataset"
      ],
      "metadata": {
        "id": "Nt29368pAJG3"
      }
    },
    {
      "cell_type": "code",
      "source": [
        "import pandas as pd\n",
        "import glob\n",
        "file = glob.glob(\"rehol.csv\")\n",
        "conj = gerarConjuntoPares(file)\n",
        "aspectos = []\n",
        "for i in conj:\n",
        "    print(i)\n",
        "# for sentenca, aspecto in conj:\n",
        "#     aspectos.append(aspecto)\n",
        "# # aspectos = set(aspectos)\n",
        "# print(len(aspectos))"
      ],
      "metadata": {
        "id": "yvT6rj2OAVWA",
        "colab": {
          "base_uri": "https://localhost:8080/",
          "height": 371
        },
        "outputId": "b663d84b-d6d9-437b-f713-9d419a4f3b97"
      },
      "execution_count": null,
      "outputs": [
        {
          "output_type": "error",
          "ename": "IndexError",
          "evalue": "ignored",
          "traceback": [
            "\u001b[0;31m---------------------------------------------------------------------------\u001b[0m",
            "\u001b[0;31mIndexError\u001b[0m                                Traceback (most recent call last)",
            "\u001b[0;32m<ipython-input-129-9374cfefac71>\u001b[0m in \u001b[0;36m<module>\u001b[0;34m()\u001b[0m\n\u001b[1;32m      2\u001b[0m \u001b[0;32mimport\u001b[0m \u001b[0mglob\u001b[0m\u001b[0;34m\u001b[0m\u001b[0;34m\u001b[0m\u001b[0m\n\u001b[1;32m      3\u001b[0m \u001b[0mfile\u001b[0m \u001b[0;34m=\u001b[0m \u001b[0mglob\u001b[0m\u001b[0;34m.\u001b[0m\u001b[0mglob\u001b[0m\u001b[0;34m(\u001b[0m\u001b[0;34m\"rehol.csv\"\u001b[0m\u001b[0;34m)\u001b[0m\u001b[0;34m\u001b[0m\u001b[0;34m\u001b[0m\u001b[0m\n\u001b[0;32m----> 4\u001b[0;31m \u001b[0mconj\u001b[0m \u001b[0;34m=\u001b[0m \u001b[0mgerarConjuntoPares\u001b[0m\u001b[0;34m(\u001b[0m\u001b[0mfile\u001b[0m\u001b[0;34m)\u001b[0m\u001b[0;34m\u001b[0m\u001b[0;34m\u001b[0m\u001b[0m\n\u001b[0m\u001b[1;32m      5\u001b[0m \u001b[0maspectos\u001b[0m \u001b[0;34m=\u001b[0m \u001b[0;34m[\u001b[0m\u001b[0;34m]\u001b[0m\u001b[0;34m\u001b[0m\u001b[0;34m\u001b[0m\u001b[0m\n\u001b[1;32m      6\u001b[0m \u001b[0;32mfor\u001b[0m \u001b[0mi\u001b[0m \u001b[0;32min\u001b[0m \u001b[0mconj\u001b[0m\u001b[0;34m:\u001b[0m\u001b[0;34m\u001b[0m\u001b[0;34m\u001b[0m\u001b[0m\n",
            "\u001b[0;32m<ipython-input-118-3addaae97193>\u001b[0m in \u001b[0;36mgerarConjuntoPares\u001b[0;34m(file)\u001b[0m\n\u001b[1;32m      1\u001b[0m \u001b[0;32mdef\u001b[0m \u001b[0mgerarConjuntoPares\u001b[0m\u001b[0;34m(\u001b[0m\u001b[0mfile\u001b[0m\u001b[0;34m)\u001b[0m\u001b[0;34m:\u001b[0m\u001b[0;34m\u001b[0m\u001b[0;34m\u001b[0m\u001b[0m\n\u001b[1;32m      2\u001b[0m     \u001b[0;32mif\u001b[0m \u001b[0mfile\u001b[0m \u001b[0;34m==\u001b[0m \u001b[0mglob\u001b[0m\u001b[0;34m.\u001b[0m\u001b[0mglob\u001b[0m\u001b[0;34m(\u001b[0m\u001b[0;34m'*.xml'\u001b[0m\u001b[0;34m)\u001b[0m\u001b[0;34m:\u001b[0m\u001b[0;34m\u001b[0m\u001b[0;34m\u001b[0m\u001b[0m\n\u001b[0;32m----> 3\u001b[0;31m         \u001b[0mtree\u001b[0m \u001b[0;34m=\u001b[0m \u001b[0mET\u001b[0m\u001b[0;34m.\u001b[0m\u001b[0mparse\u001b[0m\u001b[0;34m(\u001b[0m\u001b[0mfile\u001b[0m\u001b[0;34m[\u001b[0m\u001b[0;36m0\u001b[0m\u001b[0;34m]\u001b[0m\u001b[0;34m)\u001b[0m\u001b[0;34m\u001b[0m\u001b[0;34m\u001b[0m\u001b[0m\n\u001b[0m\u001b[1;32m      4\u001b[0m         \u001b[0mroot\u001b[0m \u001b[0;34m=\u001b[0m \u001b[0mtree\u001b[0m\u001b[0;34m.\u001b[0m\u001b[0mgetroot\u001b[0m\u001b[0;34m(\u001b[0m\u001b[0;34m)\u001b[0m\u001b[0;34m\u001b[0m\u001b[0;34m\u001b[0m\u001b[0m\n\u001b[1;32m      5\u001b[0m         \u001b[0mpar\u001b[0m \u001b[0;34m=\u001b[0m \u001b[0;34m(\u001b[0m\u001b[0;34m\"\"\u001b[0m\u001b[0;34m,\u001b[0m\u001b[0;34m\"\"\u001b[0m\u001b[0;34m)\u001b[0m\u001b[0;34m\u001b[0m\u001b[0;34m\u001b[0m\u001b[0m\n",
            "\u001b[0;31mIndexError\u001b[0m: list index out of range"
          ]
        }
      ]
    },
    {
      "cell_type": "markdown",
      "metadata": {
        "id": "fywRKr_HLLhf"
      },
      "source": [
        "# Últimas atualizações\n",
        "\n",
        "- Dicionário com cada regra mapeada pelo seu ID\n",
        "- Função para gerar resultados\n",
        "- Função que ordena resultados\n",
        "- Atualização da regra 9 (porém continua com bug)\n",
        "- AlgoritmoGuloso recebe metricas geradas automaticamente\n",
        "- Corrigido bug na hora de gerar as métricas\n",
        "    - Precisão é baseado em lista de aspecto e conjunto de gabarito\n",
        "    - Revocação é baseado em conjunto de aspecto e lista de gabarito\n",
        "    - Antes tava sendo tudo tratado como conjunto\n",
        "- Adição do pacote Pandas para exportar resultados em CSV\n",
        "- Adição do pacote TQDM"
      ]
    },
    {
      "cell_type": "markdown",
      "metadata": {
        "id": "Dxl6KP9kZdNk"
      },
      "source": [
        "# REFERENCES\n",
        "\n",
        "[1] PORIA, Soujanya et al. A rule-based approach to aspect extraction from product reviews. In: Proceedings of the second workshop on natural language processing for social media (SocialNLP). 2014. p. 28-37.\n",
        "\n",
        "[2] M. Tubishat, N. Idris, and M. Abushariah, ‘‘Explicit aspects extraction in sentiment analysis using optimal rules combination,’’ Future Gener. Comput. Syst., vol. 114, pp. 448–480, Jan. 2021\n",
        "\n",
        "[3] Minqing Hu and Bing Liu. \"Mining and Summarizing Customer Reviews.\" \n",
        ";       Proceedings of the ACM SIGKDD International Conference on Knowledge \n",
        ";       Discovery and Data Mining (KDD-2004), Aug 22-25, 2004, Seattle, \n",
        ";       Washington, USA"
      ]
    }
  ],
  "metadata": {
    "colab": {
      "collapsed_sections": [
        "Dxl6KP9kZdNk"
      ],
      "name": "extrator-de-aspectos.ipynb",
      "provenance": [],
      "toc_visible": true,
      "include_colab_link": true
    },
    "kernelspec": {
      "display_name": "Python 3",
      "name": "python3"
    }
  },
  "nbformat": 4,
  "nbformat_minor": 0
}