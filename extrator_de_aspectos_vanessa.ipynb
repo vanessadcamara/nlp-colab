{
  "cells": [
    {
      "cell_type": "markdown",
      "metadata": {
        "id": "view-in-github",
        "colab_type": "text"
      },
      "source": [
        "<a href=\"https://colab.research.google.com/github/vanessadcamara/nlp-colab/blob/main/extrator_de_aspectos_vanessa.ipynb\" target=\"_parent\"><img src=\"https://colab.research.google.com/assets/colab-badge.svg\" alt=\"Open In Colab\"/></a>"
      ]
    },
    {
      "cell_type": "markdown",
      "metadata": {
        "id": "aMXIsHrzcrYy"
      },
      "source": [
        "## Carregando Pacotes"
      ]
    },
    {
      "cell_type": "code",
      "execution_count": 59,
      "metadata": {
        "colab": {
          "base_uri": "https://localhost:8080/"
        },
        "id": "hMW1VkGh7POz",
        "outputId": "ccf399ad-d8b2-4607-c02e-b2287174cd24"
      },
      "outputs": [
        {
          "output_type": "stream",
          "name": "stdout",
          "text": [
            "Drive already mounted at /content/drive; to attempt to forcibly remount, call drive.mount(\"/content/drive\", force_remount=True).\n"
          ]
        }
      ],
      "source": [
        "from google.colab import drive\n",
        "drive.mount('/content/drive')"
      ]
    },
    {
      "cell_type": "code",
      "execution_count": 60,
      "metadata": {
        "id": "58QRqABEeQ3t",
        "colab": {
          "base_uri": "https://localhost:8080/"
        },
        "outputId": "f215219e-5bd1-4356-ae01-27e6e8ef6ec4"
      },
      "outputs": [
        {
          "output_type": "stream",
          "name": "stdout",
          "text": [
            "Requirement already satisfied: spacy in /usr/local/lib/python3.7/dist-packages (3.3.0)\n",
            "Requirement already satisfied: pathy>=0.3.5 in /usr/local/lib/python3.7/dist-packages (from spacy) (0.6.1)\n",
            "Requirement already satisfied: jinja2 in /usr/local/lib/python3.7/dist-packages (from spacy) (2.11.3)\n",
            "Requirement already satisfied: tqdm<5.0.0,>=4.38.0 in /usr/local/lib/python3.7/dist-packages (from spacy) (4.64.0)\n",
            "Requirement already satisfied: spacy-legacy<3.1.0,>=3.0.9 in /usr/local/lib/python3.7/dist-packages (from spacy) (3.0.9)\n",
            "Requirement already satisfied: blis<0.8.0,>=0.4.0 in /usr/local/lib/python3.7/dist-packages (from spacy) (0.4.1)\n",
            "Requirement already satisfied: spacy-loggers<2.0.0,>=1.0.0 in /usr/local/lib/python3.7/dist-packages (from spacy) (1.0.2)\n",
            "Requirement already satisfied: pydantic!=1.8,!=1.8.1,<1.9.0,>=1.7.4 in /usr/local/lib/python3.7/dist-packages (from spacy) (1.8.2)\n",
            "Requirement already satisfied: typer<0.5.0,>=0.3.0 in /usr/local/lib/python3.7/dist-packages (from spacy) (0.4.1)\n",
            "Requirement already satisfied: numpy>=1.15.0 in /usr/local/lib/python3.7/dist-packages (from spacy) (1.21.6)\n",
            "Requirement already satisfied: thinc<8.1.0,>=8.0.14 in /usr/local/lib/python3.7/dist-packages (from spacy) (8.0.15)\n",
            "Requirement already satisfied: typing-extensions<4.0.0.0,>=3.7.4 in /usr/local/lib/python3.7/dist-packages (from spacy) (3.10.0.2)\n",
            "Requirement already satisfied: wasabi<1.1.0,>=0.9.1 in /usr/local/lib/python3.7/dist-packages (from spacy) (0.9.1)\n",
            "Requirement already satisfied: murmurhash<1.1.0,>=0.28.0 in /usr/local/lib/python3.7/dist-packages (from spacy) (1.0.7)\n",
            "Requirement already satisfied: requests<3.0.0,>=2.13.0 in /usr/local/lib/python3.7/dist-packages (from spacy) (2.23.0)\n",
            "Requirement already satisfied: setuptools in /usr/local/lib/python3.7/dist-packages (from spacy) (57.4.0)\n",
            "Requirement already satisfied: srsly<3.0.0,>=2.4.3 in /usr/local/lib/python3.7/dist-packages (from spacy) (2.4.3)\n",
            "Requirement already satisfied: catalogue<2.1.0,>=2.0.6 in /usr/local/lib/python3.7/dist-packages (from spacy) (2.0.7)\n",
            "Requirement already satisfied: langcodes<4.0.0,>=3.2.0 in /usr/local/lib/python3.7/dist-packages (from spacy) (3.3.0)\n",
            "Requirement already satisfied: packaging>=20.0 in /usr/local/lib/python3.7/dist-packages (from spacy) (21.3)\n",
            "Requirement already satisfied: preshed<3.1.0,>=3.0.2 in /usr/local/lib/python3.7/dist-packages (from spacy) (3.0.6)\n",
            "Requirement already satisfied: cymem<2.1.0,>=2.0.2 in /usr/local/lib/python3.7/dist-packages (from spacy) (2.0.6)\n",
            "Requirement already satisfied: zipp>=0.5 in /usr/local/lib/python3.7/dist-packages (from catalogue<2.1.0,>=2.0.6->spacy) (3.8.0)\n",
            "Requirement already satisfied: pyparsing!=3.0.5,>=2.0.2 in /usr/local/lib/python3.7/dist-packages (from packaging>=20.0->spacy) (3.0.8)\n",
            "Requirement already satisfied: smart-open<6.0.0,>=5.0.0 in /usr/local/lib/python3.7/dist-packages (from pathy>=0.3.5->spacy) (5.2.1)\n",
            "Requirement already satisfied: idna<3,>=2.5 in /usr/local/lib/python3.7/dist-packages (from requests<3.0.0,>=2.13.0->spacy) (2.10)\n",
            "Requirement already satisfied: certifi>=2017.4.17 in /usr/local/lib/python3.7/dist-packages (from requests<3.0.0,>=2.13.0->spacy) (2021.10.8)\n",
            "Requirement already satisfied: urllib3!=1.25.0,!=1.25.1,<1.26,>=1.21.1 in /usr/local/lib/python3.7/dist-packages (from requests<3.0.0,>=2.13.0->spacy) (1.24.3)\n",
            "Requirement already satisfied: chardet<4,>=3.0.2 in /usr/local/lib/python3.7/dist-packages (from requests<3.0.0,>=2.13.0->spacy) (3.0.4)\n",
            "Requirement already satisfied: click<9.0.0,>=7.1.1 in /usr/local/lib/python3.7/dist-packages (from typer<0.5.0,>=0.3.0->spacy) (7.1.2)\n",
            "Requirement already satisfied: MarkupSafe>=0.23 in /usr/local/lib/python3.7/dist-packages (from jinja2->spacy) (2.0.1)\n",
            "Usage: python -m spacy [OPTIONS] COMMAND [ARGS]...\n",
            "Try 'python -m spacy --help' for help.\n",
            "\n",
            "Error: Missing command.\n",
            "Collecting pt-core-news-lg==3.3.0\n",
            "  Downloading https://github.com/explosion/spacy-models/releases/download/pt_core_news_lg-3.3.0/pt_core_news_lg-3.3.0-py3-none-any.whl (568.2 MB)\n",
            "\u001b[K     |████████████████████████████████| 568.2 MB 7.0 kB/s \n",
            "\u001b[?25hRequirement already satisfied: spacy<3.4.0,>=3.3.0.dev0 in /usr/local/lib/python3.7/dist-packages (from pt-core-news-lg==3.3.0) (3.3.0)\n",
            "Requirement already satisfied: requests<3.0.0,>=2.13.0 in /usr/local/lib/python3.7/dist-packages (from spacy<3.4.0,>=3.3.0.dev0->pt-core-news-lg==3.3.0) (2.23.0)\n",
            "Requirement already satisfied: packaging>=20.0 in /usr/local/lib/python3.7/dist-packages (from spacy<3.4.0,>=3.3.0.dev0->pt-core-news-lg==3.3.0) (21.3)\n",
            "Requirement already satisfied: jinja2 in /usr/local/lib/python3.7/dist-packages (from spacy<3.4.0,>=3.3.0.dev0->pt-core-news-lg==3.3.0) (2.11.3)\n",
            "Requirement already satisfied: blis<0.8.0,>=0.4.0 in /usr/local/lib/python3.7/dist-packages (from spacy<3.4.0,>=3.3.0.dev0->pt-core-news-lg==3.3.0) (0.4.1)\n",
            "Requirement already satisfied: typer<0.5.0,>=0.3.0 in /usr/local/lib/python3.7/dist-packages (from spacy<3.4.0,>=3.3.0.dev0->pt-core-news-lg==3.3.0) (0.4.1)\n",
            "Requirement already satisfied: setuptools in /usr/local/lib/python3.7/dist-packages (from spacy<3.4.0,>=3.3.0.dev0->pt-core-news-lg==3.3.0) (57.4.0)\n",
            "Requirement already satisfied: catalogue<2.1.0,>=2.0.6 in /usr/local/lib/python3.7/dist-packages (from spacy<3.4.0,>=3.3.0.dev0->pt-core-news-lg==3.3.0) (2.0.7)\n",
            "Requirement already satisfied: murmurhash<1.1.0,>=0.28.0 in /usr/local/lib/python3.7/dist-packages (from spacy<3.4.0,>=3.3.0.dev0->pt-core-news-lg==3.3.0) (1.0.7)\n",
            "Requirement already satisfied: thinc<8.1.0,>=8.0.14 in /usr/local/lib/python3.7/dist-packages (from spacy<3.4.0,>=3.3.0.dev0->pt-core-news-lg==3.3.0) (8.0.15)\n",
            "Requirement already satisfied: spacy-loggers<2.0.0,>=1.0.0 in /usr/local/lib/python3.7/dist-packages (from spacy<3.4.0,>=3.3.0.dev0->pt-core-news-lg==3.3.0) (1.0.2)\n",
            "Requirement already satisfied: pydantic!=1.8,!=1.8.1,<1.9.0,>=1.7.4 in /usr/local/lib/python3.7/dist-packages (from spacy<3.4.0,>=3.3.0.dev0->pt-core-news-lg==3.3.0) (1.8.2)\n",
            "Requirement already satisfied: langcodes<4.0.0,>=3.2.0 in /usr/local/lib/python3.7/dist-packages (from spacy<3.4.0,>=3.3.0.dev0->pt-core-news-lg==3.3.0) (3.3.0)\n",
            "Requirement already satisfied: wasabi<1.1.0,>=0.9.1 in /usr/local/lib/python3.7/dist-packages (from spacy<3.4.0,>=3.3.0.dev0->pt-core-news-lg==3.3.0) (0.9.1)\n",
            "Requirement already satisfied: preshed<3.1.0,>=3.0.2 in /usr/local/lib/python3.7/dist-packages (from spacy<3.4.0,>=3.3.0.dev0->pt-core-news-lg==3.3.0) (3.0.6)\n",
            "Requirement already satisfied: tqdm<5.0.0,>=4.38.0 in /usr/local/lib/python3.7/dist-packages (from spacy<3.4.0,>=3.3.0.dev0->pt-core-news-lg==3.3.0) (4.64.0)\n",
            "Requirement already satisfied: typing-extensions<4.0.0.0,>=3.7.4 in /usr/local/lib/python3.7/dist-packages (from spacy<3.4.0,>=3.3.0.dev0->pt-core-news-lg==3.3.0) (3.10.0.2)\n",
            "Requirement already satisfied: spacy-legacy<3.1.0,>=3.0.9 in /usr/local/lib/python3.7/dist-packages (from spacy<3.4.0,>=3.3.0.dev0->pt-core-news-lg==3.3.0) (3.0.9)\n",
            "Requirement already satisfied: numpy>=1.15.0 in /usr/local/lib/python3.7/dist-packages (from spacy<3.4.0,>=3.3.0.dev0->pt-core-news-lg==3.3.0) (1.21.6)\n",
            "Requirement already satisfied: srsly<3.0.0,>=2.4.3 in /usr/local/lib/python3.7/dist-packages (from spacy<3.4.0,>=3.3.0.dev0->pt-core-news-lg==3.3.0) (2.4.3)\n",
            "Requirement already satisfied: cymem<2.1.0,>=2.0.2 in /usr/local/lib/python3.7/dist-packages (from spacy<3.4.0,>=3.3.0.dev0->pt-core-news-lg==3.3.0) (2.0.6)\n",
            "Requirement already satisfied: pathy>=0.3.5 in /usr/local/lib/python3.7/dist-packages (from spacy<3.4.0,>=3.3.0.dev0->pt-core-news-lg==3.3.0) (0.6.1)\n",
            "Requirement already satisfied: zipp>=0.5 in /usr/local/lib/python3.7/dist-packages (from catalogue<2.1.0,>=2.0.6->spacy<3.4.0,>=3.3.0.dev0->pt-core-news-lg==3.3.0) (3.8.0)\n",
            "Requirement already satisfied: pyparsing!=3.0.5,>=2.0.2 in /usr/local/lib/python3.7/dist-packages (from packaging>=20.0->spacy<3.4.0,>=3.3.0.dev0->pt-core-news-lg==3.3.0) (3.0.8)\n",
            "Requirement already satisfied: smart-open<6.0.0,>=5.0.0 in /usr/local/lib/python3.7/dist-packages (from pathy>=0.3.5->spacy<3.4.0,>=3.3.0.dev0->pt-core-news-lg==3.3.0) (5.2.1)\n",
            "Requirement already satisfied: urllib3!=1.25.0,!=1.25.1,<1.26,>=1.21.1 in /usr/local/lib/python3.7/dist-packages (from requests<3.0.0,>=2.13.0->spacy<3.4.0,>=3.3.0.dev0->pt-core-news-lg==3.3.0) (1.24.3)\n",
            "Requirement already satisfied: chardet<4,>=3.0.2 in /usr/local/lib/python3.7/dist-packages (from requests<3.0.0,>=2.13.0->spacy<3.4.0,>=3.3.0.dev0->pt-core-news-lg==3.3.0) (3.0.4)\n",
            "Requirement already satisfied: idna<3,>=2.5 in /usr/local/lib/python3.7/dist-packages (from requests<3.0.0,>=2.13.0->spacy<3.4.0,>=3.3.0.dev0->pt-core-news-lg==3.3.0) (2.10)\n",
            "Requirement already satisfied: certifi>=2017.4.17 in /usr/local/lib/python3.7/dist-packages (from requests<3.0.0,>=2.13.0->spacy<3.4.0,>=3.3.0.dev0->pt-core-news-lg==3.3.0) (2021.10.8)\n",
            "Requirement already satisfied: click<9.0.0,>=7.1.1 in /usr/local/lib/python3.7/dist-packages (from typer<0.5.0,>=0.3.0->spacy<3.4.0,>=3.3.0.dev0->pt-core-news-lg==3.3.0) (7.1.2)\n",
            "Requirement already satisfied: MarkupSafe>=0.23 in /usr/local/lib/python3.7/dist-packages (from jinja2->spacy<3.4.0,>=3.3.0.dev0->pt-core-news-lg==3.3.0) (2.0.1)\n",
            "\u001b[38;5;2m✔ Download and installation successful\u001b[0m\n",
            "You can now load the package via spacy.load('pt_core_news_lg')\n",
            "Requirement already satisfied: senticnet in /usr/local/lib/python3.7/dist-packages (1.6)\n",
            "Requirement already satisfied: tqdm in /usr/local/lib/python3.7/dist-packages (4.64.0)\n",
            "Requirement already satisfied: pandas in /usr/local/lib/python3.7/dist-packages (1.3.5)\n",
            "Requirement already satisfied: python-dateutil>=2.7.3 in /usr/local/lib/python3.7/dist-packages (from pandas) (2.8.2)\n",
            "Requirement already satisfied: numpy>=1.17.3 in /usr/local/lib/python3.7/dist-packages (from pandas) (1.21.6)\n",
            "Requirement already satisfied: pytz>=2017.3 in /usr/local/lib/python3.7/dist-packages (from pandas) (2022.1)\n",
            "Requirement already satisfied: six>=1.5 in /usr/local/lib/python3.7/dist-packages (from python-dateutil>=2.7.3->pandas) (1.15.0)\n",
            "python3: can't open file 'setup.py': [Errno 2] No such file or directory\n",
            "Collecting en-core-web-lg==3.3.0\n",
            "  Downloading https://github.com/explosion/spacy-models/releases/download/en_core_web_lg-3.3.0/en_core_web_lg-3.3.0-py3-none-any.whl (400.7 MB)\n",
            "\u001b[K     |████████████████████████████████| 400.7 MB 6.2 kB/s \n",
            "\u001b[?25hRequirement already satisfied: spacy<3.4.0,>=3.3.0.dev0 in /usr/local/lib/python3.7/dist-packages (from en-core-web-lg==3.3.0) (3.3.0)\n",
            "Requirement already satisfied: srsly<3.0.0,>=2.4.3 in /usr/local/lib/python3.7/dist-packages (from spacy<3.4.0,>=3.3.0.dev0->en-core-web-lg==3.3.0) (2.4.3)\n",
            "Requirement already satisfied: jinja2 in /usr/local/lib/python3.7/dist-packages (from spacy<3.4.0,>=3.3.0.dev0->en-core-web-lg==3.3.0) (2.11.3)\n",
            "Requirement already satisfied: tqdm<5.0.0,>=4.38.0 in /usr/local/lib/python3.7/dist-packages (from spacy<3.4.0,>=3.3.0.dev0->en-core-web-lg==3.3.0) (4.64.0)\n",
            "Requirement already satisfied: pathy>=0.3.5 in /usr/local/lib/python3.7/dist-packages (from spacy<3.4.0,>=3.3.0.dev0->en-core-web-lg==3.3.0) (0.6.1)\n",
            "Requirement already satisfied: numpy>=1.15.0 in /usr/local/lib/python3.7/dist-packages (from spacy<3.4.0,>=3.3.0.dev0->en-core-web-lg==3.3.0) (1.21.6)\n",
            "Requirement already satisfied: murmurhash<1.1.0,>=0.28.0 in /usr/local/lib/python3.7/dist-packages (from spacy<3.4.0,>=3.3.0.dev0->en-core-web-lg==3.3.0) (1.0.7)\n",
            "Requirement already satisfied: spacy-loggers<2.0.0,>=1.0.0 in /usr/local/lib/python3.7/dist-packages (from spacy<3.4.0,>=3.3.0.dev0->en-core-web-lg==3.3.0) (1.0.2)\n",
            "Requirement already satisfied: thinc<8.1.0,>=8.0.14 in /usr/local/lib/python3.7/dist-packages (from spacy<3.4.0,>=3.3.0.dev0->en-core-web-lg==3.3.0) (8.0.15)\n",
            "Requirement already satisfied: preshed<3.1.0,>=3.0.2 in /usr/local/lib/python3.7/dist-packages (from spacy<3.4.0,>=3.3.0.dev0->en-core-web-lg==3.3.0) (3.0.6)\n",
            "Requirement already satisfied: spacy-legacy<3.1.0,>=3.0.9 in /usr/local/lib/python3.7/dist-packages (from spacy<3.4.0,>=3.3.0.dev0->en-core-web-lg==3.3.0) (3.0.9)\n",
            "Requirement already satisfied: blis<0.8.0,>=0.4.0 in /usr/local/lib/python3.7/dist-packages (from spacy<3.4.0,>=3.3.0.dev0->en-core-web-lg==3.3.0) (0.4.1)\n",
            "Requirement already satisfied: typer<0.5.0,>=0.3.0 in /usr/local/lib/python3.7/dist-packages (from spacy<3.4.0,>=3.3.0.dev0->en-core-web-lg==3.3.0) (0.4.1)\n",
            "Requirement already satisfied: packaging>=20.0 in /usr/local/lib/python3.7/dist-packages (from spacy<3.4.0,>=3.3.0.dev0->en-core-web-lg==3.3.0) (21.3)\n",
            "Requirement already satisfied: langcodes<4.0.0,>=3.2.0 in /usr/local/lib/python3.7/dist-packages (from spacy<3.4.0,>=3.3.0.dev0->en-core-web-lg==3.3.0) (3.3.0)\n",
            "Requirement already satisfied: setuptools in /usr/local/lib/python3.7/dist-packages (from spacy<3.4.0,>=3.3.0.dev0->en-core-web-lg==3.3.0) (57.4.0)\n",
            "Requirement already satisfied: requests<3.0.0,>=2.13.0 in /usr/local/lib/python3.7/dist-packages (from spacy<3.4.0,>=3.3.0.dev0->en-core-web-lg==3.3.0) (2.23.0)\n",
            "Requirement already satisfied: cymem<2.1.0,>=2.0.2 in /usr/local/lib/python3.7/dist-packages (from spacy<3.4.0,>=3.3.0.dev0->en-core-web-lg==3.3.0) (2.0.6)\n",
            "Requirement already satisfied: wasabi<1.1.0,>=0.9.1 in /usr/local/lib/python3.7/dist-packages (from spacy<3.4.0,>=3.3.0.dev0->en-core-web-lg==3.3.0) (0.9.1)\n",
            "Requirement already satisfied: typing-extensions<4.0.0.0,>=3.7.4 in /usr/local/lib/python3.7/dist-packages (from spacy<3.4.0,>=3.3.0.dev0->en-core-web-lg==3.3.0) (3.10.0.2)\n",
            "Requirement already satisfied: catalogue<2.1.0,>=2.0.6 in /usr/local/lib/python3.7/dist-packages (from spacy<3.4.0,>=3.3.0.dev0->en-core-web-lg==3.3.0) (2.0.7)\n",
            "Requirement already satisfied: pydantic!=1.8,!=1.8.1,<1.9.0,>=1.7.4 in /usr/local/lib/python3.7/dist-packages (from spacy<3.4.0,>=3.3.0.dev0->en-core-web-lg==3.3.0) (1.8.2)\n",
            "Requirement already satisfied: zipp>=0.5 in /usr/local/lib/python3.7/dist-packages (from catalogue<2.1.0,>=2.0.6->spacy<3.4.0,>=3.3.0.dev0->en-core-web-lg==3.3.0) (3.8.0)\n",
            "Requirement already satisfied: pyparsing!=3.0.5,>=2.0.2 in /usr/local/lib/python3.7/dist-packages (from packaging>=20.0->spacy<3.4.0,>=3.3.0.dev0->en-core-web-lg==3.3.0) (3.0.8)\n",
            "Requirement already satisfied: smart-open<6.0.0,>=5.0.0 in /usr/local/lib/python3.7/dist-packages (from pathy>=0.3.5->spacy<3.4.0,>=3.3.0.dev0->en-core-web-lg==3.3.0) (5.2.1)\n",
            "Requirement already satisfied: certifi>=2017.4.17 in /usr/local/lib/python3.7/dist-packages (from requests<3.0.0,>=2.13.0->spacy<3.4.0,>=3.3.0.dev0->en-core-web-lg==3.3.0) (2021.10.8)\n",
            "Requirement already satisfied: idna<3,>=2.5 in /usr/local/lib/python3.7/dist-packages (from requests<3.0.0,>=2.13.0->spacy<3.4.0,>=3.3.0.dev0->en-core-web-lg==3.3.0) (2.10)\n",
            "Requirement already satisfied: urllib3!=1.25.0,!=1.25.1,<1.26,>=1.21.1 in /usr/local/lib/python3.7/dist-packages (from requests<3.0.0,>=2.13.0->spacy<3.4.0,>=3.3.0.dev0->en-core-web-lg==3.3.0) (1.24.3)\n",
            "Requirement already satisfied: chardet<4,>=3.0.2 in /usr/local/lib/python3.7/dist-packages (from requests<3.0.0,>=2.13.0->spacy<3.4.0,>=3.3.0.dev0->en-core-web-lg==3.3.0) (3.0.4)\n",
            "Requirement already satisfied: click<9.0.0,>=7.1.1 in /usr/local/lib/python3.7/dist-packages (from typer<0.5.0,>=0.3.0->spacy<3.4.0,>=3.3.0.dev0->en-core-web-lg==3.3.0) (7.1.2)\n",
            "Requirement already satisfied: MarkupSafe>=0.23 in /usr/local/lib/python3.7/dist-packages (from jinja2->spacy<3.4.0,>=3.3.0.dev0->en-core-web-lg==3.3.0) (2.0.1)\n",
            "\u001b[38;5;2m✔ Download and installation successful\u001b[0m\n",
            "You can now load the package via spacy.load('en_core_web_lg')\n",
            "Collecting pt-core-news-sm==3.3.0\n",
            "  Downloading https://github.com/explosion/spacy-models/releases/download/pt_core_news_sm-3.3.0/pt_core_news_sm-3.3.0-py3-none-any.whl (13.0 MB)\n",
            "\u001b[K     |████████████████████████████████| 13.0 MB 25.8 MB/s \n",
            "\u001b[?25hRequirement already satisfied: spacy<3.4.0,>=3.3.0.dev0 in /usr/local/lib/python3.7/dist-packages (from pt-core-news-sm==3.3.0) (3.3.0)\n",
            "Requirement already satisfied: setuptools in /usr/local/lib/python3.7/dist-packages (from spacy<3.4.0,>=3.3.0.dev0->pt-core-news-sm==3.3.0) (57.4.0)\n",
            "Requirement already satisfied: tqdm<5.0.0,>=4.38.0 in /usr/local/lib/python3.7/dist-packages (from spacy<3.4.0,>=3.3.0.dev0->pt-core-news-sm==3.3.0) (4.64.0)\n",
            "Requirement already satisfied: spacy-loggers<2.0.0,>=1.0.0 in /usr/local/lib/python3.7/dist-packages (from spacy<3.4.0,>=3.3.0.dev0->pt-core-news-sm==3.3.0) (1.0.2)\n",
            "Requirement already satisfied: blis<0.8.0,>=0.4.0 in /usr/local/lib/python3.7/dist-packages (from spacy<3.4.0,>=3.3.0.dev0->pt-core-news-sm==3.3.0) (0.4.1)\n",
            "Requirement already satisfied: langcodes<4.0.0,>=3.2.0 in /usr/local/lib/python3.7/dist-packages (from spacy<3.4.0,>=3.3.0.dev0->pt-core-news-sm==3.3.0) (3.3.0)\n",
            "Requirement already satisfied: pathy>=0.3.5 in /usr/local/lib/python3.7/dist-packages (from spacy<3.4.0,>=3.3.0.dev0->pt-core-news-sm==3.3.0) (0.6.1)\n",
            "Requirement already satisfied: catalogue<2.1.0,>=2.0.6 in /usr/local/lib/python3.7/dist-packages (from spacy<3.4.0,>=3.3.0.dev0->pt-core-news-sm==3.3.0) (2.0.7)\n",
            "Requirement already satisfied: srsly<3.0.0,>=2.4.3 in /usr/local/lib/python3.7/dist-packages (from spacy<3.4.0,>=3.3.0.dev0->pt-core-news-sm==3.3.0) (2.4.3)\n",
            "Requirement already satisfied: preshed<3.1.0,>=3.0.2 in /usr/local/lib/python3.7/dist-packages (from spacy<3.4.0,>=3.3.0.dev0->pt-core-news-sm==3.3.0) (3.0.6)\n",
            "Requirement already satisfied: cymem<2.1.0,>=2.0.2 in /usr/local/lib/python3.7/dist-packages (from spacy<3.4.0,>=3.3.0.dev0->pt-core-news-sm==3.3.0) (2.0.6)\n",
            "Requirement already satisfied: wasabi<1.1.0,>=0.9.1 in /usr/local/lib/python3.7/dist-packages (from spacy<3.4.0,>=3.3.0.dev0->pt-core-news-sm==3.3.0) (0.9.1)\n",
            "Requirement already satisfied: jinja2 in /usr/local/lib/python3.7/dist-packages (from spacy<3.4.0,>=3.3.0.dev0->pt-core-news-sm==3.3.0) (2.11.3)\n",
            "Requirement already satisfied: thinc<8.1.0,>=8.0.14 in /usr/local/lib/python3.7/dist-packages (from spacy<3.4.0,>=3.3.0.dev0->pt-core-news-sm==3.3.0) (8.0.15)\n",
            "Requirement already satisfied: spacy-legacy<3.1.0,>=3.0.9 in /usr/local/lib/python3.7/dist-packages (from spacy<3.4.0,>=3.3.0.dev0->pt-core-news-sm==3.3.0) (3.0.9)\n",
            "Requirement already satisfied: pydantic!=1.8,!=1.8.1,<1.9.0,>=1.7.4 in /usr/local/lib/python3.7/dist-packages (from spacy<3.4.0,>=3.3.0.dev0->pt-core-news-sm==3.3.0) (1.8.2)\n",
            "Requirement already satisfied: murmurhash<1.1.0,>=0.28.0 in /usr/local/lib/python3.7/dist-packages (from spacy<3.4.0,>=3.3.0.dev0->pt-core-news-sm==3.3.0) (1.0.7)\n",
            "Requirement already satisfied: typing-extensions<4.0.0.0,>=3.7.4 in /usr/local/lib/python3.7/dist-packages (from spacy<3.4.0,>=3.3.0.dev0->pt-core-news-sm==3.3.0) (3.10.0.2)\n",
            "Requirement already satisfied: numpy>=1.15.0 in /usr/local/lib/python3.7/dist-packages (from spacy<3.4.0,>=3.3.0.dev0->pt-core-news-sm==3.3.0) (1.21.6)\n",
            "Requirement already satisfied: packaging>=20.0 in /usr/local/lib/python3.7/dist-packages (from spacy<3.4.0,>=3.3.0.dev0->pt-core-news-sm==3.3.0) (21.3)\n",
            "Requirement already satisfied: requests<3.0.0,>=2.13.0 in /usr/local/lib/python3.7/dist-packages (from spacy<3.4.0,>=3.3.0.dev0->pt-core-news-sm==3.3.0) (2.23.0)\n",
            "Requirement already satisfied: typer<0.5.0,>=0.3.0 in /usr/local/lib/python3.7/dist-packages (from spacy<3.4.0,>=3.3.0.dev0->pt-core-news-sm==3.3.0) (0.4.1)\n",
            "Requirement already satisfied: zipp>=0.5 in /usr/local/lib/python3.7/dist-packages (from catalogue<2.1.0,>=2.0.6->spacy<3.4.0,>=3.3.0.dev0->pt-core-news-sm==3.3.0) (3.8.0)\n",
            "Requirement already satisfied: pyparsing!=3.0.5,>=2.0.2 in /usr/local/lib/python3.7/dist-packages (from packaging>=20.0->spacy<3.4.0,>=3.3.0.dev0->pt-core-news-sm==3.3.0) (3.0.8)\n",
            "Requirement already satisfied: smart-open<6.0.0,>=5.0.0 in /usr/local/lib/python3.7/dist-packages (from pathy>=0.3.5->spacy<3.4.0,>=3.3.0.dev0->pt-core-news-sm==3.3.0) (5.2.1)\n",
            "Requirement already satisfied: idna<3,>=2.5 in /usr/local/lib/python3.7/dist-packages (from requests<3.0.0,>=2.13.0->spacy<3.4.0,>=3.3.0.dev0->pt-core-news-sm==3.3.0) (2.10)\n",
            "Requirement already satisfied: chardet<4,>=3.0.2 in /usr/local/lib/python3.7/dist-packages (from requests<3.0.0,>=2.13.0->spacy<3.4.0,>=3.3.0.dev0->pt-core-news-sm==3.3.0) (3.0.4)\n",
            "Requirement already satisfied: certifi>=2017.4.17 in /usr/local/lib/python3.7/dist-packages (from requests<3.0.0,>=2.13.0->spacy<3.4.0,>=3.3.0.dev0->pt-core-news-sm==3.3.0) (2021.10.8)\n",
            "Requirement already satisfied: urllib3!=1.25.0,!=1.25.1,<1.26,>=1.21.1 in /usr/local/lib/python3.7/dist-packages (from requests<3.0.0,>=2.13.0->spacy<3.4.0,>=3.3.0.dev0->pt-core-news-sm==3.3.0) (1.24.3)\n",
            "Requirement already satisfied: click<9.0.0,>=7.1.1 in /usr/local/lib/python3.7/dist-packages (from typer<0.5.0,>=0.3.0->spacy<3.4.0,>=3.3.0.dev0->pt-core-news-sm==3.3.0) (7.1.2)\n",
            "Requirement already satisfied: MarkupSafe>=0.23 in /usr/local/lib/python3.7/dist-packages (from jinja2->spacy<3.4.0,>=3.3.0.dev0->pt-core-news-sm==3.3.0) (2.0.1)\n",
            "\u001b[38;5;2m✔ Download and installation successful\u001b[0m\n",
            "You can now load the package via spacy.load('pt_core_news_sm')\n"
          ]
        }
      ],
      "source": [
        "!pip install --upgrade spacy\n",
        "!python -m spacy\n",
        "!python -m spacy download pt_core_news_lg\n",
        "!pip install senticnet\n",
        "!pip install tqdm\n",
        "!pip install pandas\n",
        "!python setup.py install\n",
        "!python -m spacy download en_core_web_lg\n",
        "!python -m spacy download pt_core_news_sm"
      ]
    },
    {
      "cell_type": "markdown",
      "metadata": {
        "id": "IzPuXWFOvLqL"
      },
      "source": [
        "## Importando Bibliotecas"
      ]
    },
    {
      "cell_type": "code",
      "execution_count": 61,
      "metadata": {
        "colab": {
          "base_uri": "https://localhost:8080/"
        },
        "id": "FhAMKk6te68j",
        "outputId": "0b7c8c42-9bef-4c15-ad5c-f3ccaf102d91"
      },
      "outputs": [
        {
          "output_type": "stream",
          "name": "stdout",
          "text": [
            "\n",
            "Usage:   \n",
            "  pip3 <command> [options]\n",
            "\n",
            "no such option: -m\n"
          ]
        }
      ],
      "source": [
        "!pip -m spacy download pt_core_news_lg\n",
        "import pt_core_news_sm\n",
        "import spacy\n",
        "from spacy import displacy\n",
        "from senticnet.senticnet import SenticNet\n",
        "from senticnet.babelsenticnet import BabelSenticNet\n",
        "import xml.etree.ElementTree as ET\n",
        "import pandas as pd\n",
        "import pathlib\n",
        "import re\n",
        "import glob\n",
        "import pandas as pd\n",
        "import numpy as np\n",
        "from tqdm import tqdm\n",
        "from enum import Enum\n",
        "import pandas as pd"
      ]
    },
    {
      "cell_type": "markdown",
      "metadata": {
        "id": "7DO0HQgdgXz2"
      },
      "source": [
        "## Exemplo de Analisador de Dependências"
      ]
    },
    {
      "cell_type": "code",
      "execution_count": 62,
      "metadata": {
        "colab": {
          "base_uri": "https://localhost:8080/",
          "height": 514
        },
        "id": "WZkiG7kPe_xW",
        "outputId": "24e64626-b76b-41c4-a0b5-24837d4f98f7"
      },
      "outputs": [
        {
          "output_type": "stream",
          "name": "stdout",
          "text": [
            "o DET livro det DET\n",
            "livro NOUN estranho nsubj NOUN\n",
            "é AUX estranho cop AUX\n",
            "muito ADV estranho advmod ADV\n",
            "estranho ADJ estranho ROOT ADJ\n"
          ]
        },
        {
          "output_type": "display_data",
          "data": {
            "text/plain": [
              "<IPython.core.display.HTML object>"
            ],
            "text/html": [
              "<span class=\"tex2jax_ignore\"><svg xmlns=\"http://www.w3.org/2000/svg\" xmlns:xlink=\"http://www.w3.org/1999/xlink\" xml:lang=\"pt\" id=\"a55ea7e297334993bc76b6aa9713101a-0\" class=\"displacy\" width=\"925\" height=\"399.5\" direction=\"ltr\" style=\"max-width: none; height: 399.5px; color: #000000; background: #ffffff; font-family: Arial; direction: ltr\">\n",
              "<text class=\"displacy-token\" fill=\"currentColor\" text-anchor=\"middle\" y=\"309.5\">\n",
              "    <tspan class=\"displacy-word\" fill=\"currentColor\" x=\"50\">o</tspan>\n",
              "    <tspan class=\"displacy-tag\" dy=\"2em\" fill=\"currentColor\" x=\"50\">DET</tspan>\n",
              "</text>\n",
              "\n",
              "<text class=\"displacy-token\" fill=\"currentColor\" text-anchor=\"middle\" y=\"309.5\">\n",
              "    <tspan class=\"displacy-word\" fill=\"currentColor\" x=\"225\">livro</tspan>\n",
              "    <tspan class=\"displacy-tag\" dy=\"2em\" fill=\"currentColor\" x=\"225\">NOUN</tspan>\n",
              "</text>\n",
              "\n",
              "<text class=\"displacy-token\" fill=\"currentColor\" text-anchor=\"middle\" y=\"309.5\">\n",
              "    <tspan class=\"displacy-word\" fill=\"currentColor\" x=\"400\">é</tspan>\n",
              "    <tspan class=\"displacy-tag\" dy=\"2em\" fill=\"currentColor\" x=\"400\">AUX</tspan>\n",
              "</text>\n",
              "\n",
              "<text class=\"displacy-token\" fill=\"currentColor\" text-anchor=\"middle\" y=\"309.5\">\n",
              "    <tspan class=\"displacy-word\" fill=\"currentColor\" x=\"575\">muito</tspan>\n",
              "    <tspan class=\"displacy-tag\" dy=\"2em\" fill=\"currentColor\" x=\"575\">ADV</tspan>\n",
              "</text>\n",
              "\n",
              "<text class=\"displacy-token\" fill=\"currentColor\" text-anchor=\"middle\" y=\"309.5\">\n",
              "    <tspan class=\"displacy-word\" fill=\"currentColor\" x=\"750\">estranho</tspan>\n",
              "    <tspan class=\"displacy-tag\" dy=\"2em\" fill=\"currentColor\" x=\"750\">ADJ</tspan>\n",
              "</text>\n",
              "\n",
              "<g class=\"displacy-arrow\">\n",
              "    <path class=\"displacy-arc\" id=\"arrow-a55ea7e297334993bc76b6aa9713101a-0-0\" stroke-width=\"2px\" d=\"M70,264.5 C70,177.0 215.0,177.0 215.0,264.5\" fill=\"none\" stroke=\"currentColor\"/>\n",
              "    <text dy=\"1.25em\" style=\"font-size: 0.8em; letter-spacing: 1px\">\n",
              "        <textPath xlink:href=\"#arrow-a55ea7e297334993bc76b6aa9713101a-0-0\" class=\"displacy-label\" startOffset=\"50%\" side=\"left\" fill=\"currentColor\" text-anchor=\"middle\">det</textPath>\n",
              "    </text>\n",
              "    <path class=\"displacy-arrowhead\" d=\"M70,266.5 L62,254.5 78,254.5\" fill=\"currentColor\"/>\n",
              "</g>\n",
              "\n",
              "<g class=\"displacy-arrow\">\n",
              "    <path class=\"displacy-arc\" id=\"arrow-a55ea7e297334993bc76b6aa9713101a-0-1\" stroke-width=\"2px\" d=\"M245,264.5 C245,2.0 750.0,2.0 750.0,264.5\" fill=\"none\" stroke=\"currentColor\"/>\n",
              "    <text dy=\"1.25em\" style=\"font-size: 0.8em; letter-spacing: 1px\">\n",
              "        <textPath xlink:href=\"#arrow-a55ea7e297334993bc76b6aa9713101a-0-1\" class=\"displacy-label\" startOffset=\"50%\" side=\"left\" fill=\"currentColor\" text-anchor=\"middle\">nsubj</textPath>\n",
              "    </text>\n",
              "    <path class=\"displacy-arrowhead\" d=\"M245,266.5 L237,254.5 253,254.5\" fill=\"currentColor\"/>\n",
              "</g>\n",
              "\n",
              "<g class=\"displacy-arrow\">\n",
              "    <path class=\"displacy-arc\" id=\"arrow-a55ea7e297334993bc76b6aa9713101a-0-2\" stroke-width=\"2px\" d=\"M420,264.5 C420,89.5 745.0,89.5 745.0,264.5\" fill=\"none\" stroke=\"currentColor\"/>\n",
              "    <text dy=\"1.25em\" style=\"font-size: 0.8em; letter-spacing: 1px\">\n",
              "        <textPath xlink:href=\"#arrow-a55ea7e297334993bc76b6aa9713101a-0-2\" class=\"displacy-label\" startOffset=\"50%\" side=\"left\" fill=\"currentColor\" text-anchor=\"middle\">cop</textPath>\n",
              "    </text>\n",
              "    <path class=\"displacy-arrowhead\" d=\"M420,266.5 L412,254.5 428,254.5\" fill=\"currentColor\"/>\n",
              "</g>\n",
              "\n",
              "<g class=\"displacy-arrow\">\n",
              "    <path class=\"displacy-arc\" id=\"arrow-a55ea7e297334993bc76b6aa9713101a-0-3\" stroke-width=\"2px\" d=\"M595,264.5 C595,177.0 740.0,177.0 740.0,264.5\" fill=\"none\" stroke=\"currentColor\"/>\n",
              "    <text dy=\"1.25em\" style=\"font-size: 0.8em; letter-spacing: 1px\">\n",
              "        <textPath xlink:href=\"#arrow-a55ea7e297334993bc76b6aa9713101a-0-3\" class=\"displacy-label\" startOffset=\"50%\" side=\"left\" fill=\"currentColor\" text-anchor=\"middle\">advmod</textPath>\n",
              "    </text>\n",
              "    <path class=\"displacy-arrowhead\" d=\"M595,266.5 L587,254.5 603,254.5\" fill=\"currentColor\"/>\n",
              "</g>\n",
              "</svg></span>"
            ]
          },
          "metadata": {}
        }
      ],
      "source": [
        "nlp = pt_core_news_sm.load()\n",
        "sentence = \"o livro é muito estranho\"\n",
        "doc = nlp(sentence)\n",
        "aspectos = []\n",
        "bsn = BabelSenticNet('pt') \n",
        "for token in doc:\n",
        "    print(token.text, token.tag_, token.head.text, token.dep_, token.pos_)\n",
        "display = displacy.render(doc, style='dep', jupyter=True)\n",
        "display"
      ]
    },
    {
      "cell_type": "markdown",
      "metadata": {
        "id": "u7Cc929ReV8r"
      },
      "source": [
        "## Funções Auxiliares \n",
        "\n",
        "Referências: [3].\n",
        "\n",
        "* essas funções modularizam a implementação de trechos de código comuns para algumas regras\n",
        "* a função OP foi implementada para extrair palavras de opinião de um arquivo [3].\n"
      ]
    },
    {
      "cell_type": "code",
      "execution_count": 63,
      "metadata": {
        "id": "th1YBd0ueStu"
      },
      "outputs": [],
      "source": [
        "def relation_nsubj(doc):\n",
        "    aux1 = \" \"\n",
        "    aux2 = \" \"\n",
        "    for i in doc:\n",
        "        if i.dep_ == \"nsubj\":\n",
        "            aux1 = i.text\n",
        "            aux2 = i.head.text\n",
        "            break;\n",
        "    return aux1, aux2\n",
        "\n",
        "def is_auxiliar(doc):\n",
        "    auxiliar = 0    \n",
        "    for i in doc:\n",
        "        if i.pos_ == \"AUX\":\n",
        "            auxiliar = 1\n",
        "            break\n",
        "    return auxiliar\n",
        "\n",
        "def OP():\n",
        "    arq = open(\"/content/drive/MyDrive/Vanessa/datasets/palavras.txt\")\n",
        "    op = set(line.strip() for line in arq)\n",
        "    arq.close()\n",
        "    return op\n",
        "op = OP()"
      ]
    },
    {
      "cell_type": "markdown",
      "metadata": {
        "id": "01mVOyynZqUc"
      },
      "source": [
        "## Regra 1\n",
        "\n",
        "References: [1].\n",
        "\n",
        "0, exemplo: O **livro** é *muito estranho*.\n",
        "\n",
        "> Trigger: quando o token ativo é considerado o sujeito sintático de um token.\n",
        "Comportamento: se um token ativo h está em uma relação de substantivo com uma palavra t, então:\n",
        "1. se t tem qualquer modificador adverbial ou adjetivo e o modificador existe no SenticNet, então t é extraído\n",
        "como um aspecto."
      ]
    },
    {
      "cell_type": "code",
      "execution_count": 64,
      "metadata": {
        "id": "jXDIPgdUEx9_"
      },
      "outputs": [],
      "source": [
        "def regra1(doc,aspectos):   \n",
        "    token_h = \"\"\n",
        "    token_t = \"\"\n",
        "    for i in doc:\n",
        "        if i.dep_ == \"nsubj\" or i.dep_ == \"nsubj:pass\":\n",
        "            token_h = i\n",
        "            token_t = i.head.text\n",
        "            break; \n",
        "    for i in doc:\n",
        "        if i.head.text == token_t:\n",
        "            if i.dep_ == \"advmod\" or i.dep_ == \"adjmod\":\n",
        "                try:\n",
        "                    concept = bsn.concept(i.text)\n",
        "                except Exception as e:\n",
        "                    return \n",
        "                finally:\n",
        "                    aspectos.append(token_t)\n",
        "    return aspectos"
      ]
    },
    {
      "cell_type": "markdown",
      "metadata": {
        "id": "WQP6j8hEac0j"
      },
      "source": [
        "## Regra 2\n",
        "Referências: [1].\n",
        "\n",
        "1, exemplo: A **bateria** *dura pouco*.\n",
        "\n",
        "> se a frase não tem verbo auxiliar, ou seja, é, foi, iria, deveria, poderia, então: • se o verbo t é modificado por um adjetivo ou advérbio ou está em relação modificadora de oração adverbial com outro token, então ambos he t são extraídos como aspectos. Em (1), bateria está em uma relação de sujeito com dura e dura é pouco modificada pelo adjetivo modificador, portanto tanto os aspectos último quanto bateria são extraídos. \n",
        " (1) A bateria dura pouco."
      ]
    },
    {
      "cell_type": "code",
      "execution_count": 65,
      "metadata": {
        "id": "4Z2CTeVcVBeH"
      },
      "outputs": [],
      "source": [
        "def regra2(doc, aspectos):\n",
        "    token_h = relation_nsubj(doc)[0]\n",
        "    token_t = relation_nsubj(doc)[1]\n",
        "    if not is_auxiliar(doc):\n",
        "        for i in doc:\n",
        "            if ((i.dep_ == \"advmod\" and i.head.text == token_t) or \n",
        "               (i.dep_ == \"adjmod\" and i.head.text == token_t)  or \n",
        "               (i.dep_ == \"advcl\" and i.head.text == token_t) or \n",
        "                (i.dep_ == \"amod\" and i.head.text == token_t)):\n",
        "                aspectos.append(token_h)\n",
        "    return aspectos"
      ]
    },
    {
      "cell_type": "markdown",
      "metadata": {
        "id": "Clh5eL5kO3i4"
      },
      "source": [
        "## Regras 3 e 4\n",
        "\n",
        "Referências: [1].\n",
        "\n",
        "2 e 3, exemplos: Eu gosto das **lentes** da câmera, eu gosto da **beleza** da tela.\n",
        "\n",
        "> Se t tem qualquer relação direta de objeto com um token n e o POS do token é Noun e n não está\n",
        "no SenticNet, então n é extraído como um aspecto. Em (2), como está em relação direta de objeto com a lente\n",
        "então a lente de aspecto é extraída.\n",
        "(2)\n",
        "Eu gosto da lente desta câmera.\n",
        "\n",
        "\n",
        "> Se t tem qualquer relação direta de objeto com um token n e o POS do token n é Noun e n existe\n",
        "no SenticNet, o token n é extraído como termo de aspecto. Na árvore de análise de dependência do\n",
        "sentença, se outro token n 1 estiver conectado an usando qualquer relação de dependência e o POS de\n",
        "n 1 é o substantivo, então n 1 é extraído como um aspecto. Em (3), como está em relação direta de objeto com a beleza\n",
        "que está conectado à tela por meio de uma relação de preposição. Portanto, os aspectos da tela e da beleza são\n",
        "extraído.\n",
        "(3)\n",
        "Gosto da beleza da tela."
      ]
    },
    {
      "cell_type": "code",
      "execution_count": 66,
      "metadata": {
        "id": "Q3_GGdOdPBtp"
      },
      "outputs": [],
      "source": [
        "def regra3_4(doc, aspectos):\n",
        "    token_h = relation_nsubj(doc)[0]\n",
        "    token_t = relation_nsubj(doc)[1]\n",
        "    token_n = \"\"\n",
        "    token_n1 = \"\"\n",
        "    auxiliar = 0\n",
        "    flag = 0\n",
        "    pair = (\"\",\"\")\n",
        "    if not is_auxiliar(doc):\n",
        "        for i in doc:\n",
        "            if ((i.dep_ == \"obj\" or i.dep_ == \"obj:pass\") and \n",
        "                i.head.text == token_t):\n",
        "                if i.pos_ == \"NOUN\":\n",
        "                    token_n = i.text\n",
        "                    try:\n",
        "                        concept = bsn.concept(token_n)\n",
        "                    except Exception as e: \n",
        "                        flag = 1\n",
        "                        aspectos.append(token_n) \n",
        "                    if flag != 1:\n",
        "                        sentiment = token_n \n",
        "                        pair = (\"\", sentiment)\n",
        "        if not flag:\n",
        "            for i in doc:\n",
        "                if i.dep_ and i.head.text == token_n and i.pos_ == \"NOUN\":\n",
        "                    flag = 1\n",
        "                    token_n1 = i.text\n",
        "                    aspect = token_n1\n",
        "                    pair = (token_n1, sentiment)\n",
        "                    aspectos.append(pair)                \n",
        "                    break;\n",
        "            if not flag:\n",
        "                aspectos.append(pair)\n",
        "    return aspectos"
      ]
    },
    {
      "cell_type": "markdown",
      "metadata": {
        "id": "c28Q6vH_TVhC"
      },
      "source": [
        "## Regra 5\n",
        "Referências: [1].\n",
        "\n",
        "4, exemplo: Eu gostaria de comentar sobre a **câmera** do celular.\n",
        "\n",
        "> Se t está em relação de complemento de oração aberta com um token t1, então o aspecto t-t1 é extraído se t-t1\n",
        "existe no léxico de opinião. Se t1 estiver conectado com um\n",
        "token t2 cujo POS é Noun, então t2 é\n",
        "extraído como um aspecto. Em (4), gosto e comentário estão na relação de complemento oracional e comentário\n",
        "é conectado à câmera usando uma relação de preposição. Aqui, o POS da câmera é o substantivo e,\n",
        "portanto, a câmera é extraída como um aspecto.\n",
        "(4)\n",
        "Eu gostaria de comentar sobre a câmera deste telefone."
      ]
    },
    {
      "cell_type": "code",
      "execution_count": 67,
      "metadata": {
        "id": "3-1eU0fSTiag"
      },
      "outputs": [],
      "source": [
        "def regra5(doc, aspectos):\n",
        "    token_h = relation_nsubj(doc)[0]\n",
        "    token_t = relation_nsubj(doc)[1]\n",
        "    if not is_auxiliar(doc):\n",
        "        for i in doc:\n",
        "            if i.dep_ == \"xcomp\" and i.head.text == token_t:\n",
        "                flag = 0\n",
        "                token_t1 = i.text;\n",
        "                try:\n",
        "                    concept = bsn.concept(token_t1)\n",
        "                except Exception as e:\n",
        "                    flag = 0 \n",
        "                finally:\n",
        "                    flag = 1\n",
        "                flag = 0\n",
        "                try:\n",
        "                    concept = bsn.concept(token_t1)\n",
        "                except Exception as e:\n",
        "                    flag = 0 \n",
        "                finally:\n",
        "                    flag = 1\n",
        "                if flag:\n",
        "                    ok = 0\n",
        "                    for i in doc:\n",
        "                        if i.head.text == token_t1:\n",
        "                            token_h = i\n",
        "                            ok = 1\n",
        "                    if ok and token_h.pos_ == \"NOUN\":\n",
        "                        aspectos.append(token_h)\n",
        "                    elif (ok and token_h.pos_ != \"NOUN\"):\n",
        "                        aspect = ' '.join([token_t, token_t1])\n",
        "                        aspectos.append(aspect)\n",
        "        return aspectos"
      ]
    },
    {
      "cell_type": "markdown",
      "metadata": {
        "id": "WZZR3FBp66wK"
      },
      "source": [
        "## Regra 6\n",
        "\n",
        "Referências: [1].\n",
        "\n",
        "6, exemplo: A **câmera** é *boa*.\n",
        "\n",
        "> Se o token t está em relação de cópula com um verbo copular e o POS de h é substantivo, então h é extraído\n",
        "como um aspecto explícito. Em (6), a câmera é extraída como um aspecto.\n",
        "(6) A câmera é boa."
      ]
    },
    {
      "cell_type": "code",
      "execution_count": 68,
      "metadata": {
        "id": "PIxgfQyL7RkU"
      },
      "outputs": [],
      "source": [
        "def regra6(doc, aspectos):\n",
        "    token_h, token_t = relation_nsubj(doc)\n",
        "    for i in doc:\n",
        "        if i.dep_ == \"cop\":\n",
        "            for j in doc:\n",
        "                if j.text == token_h:\n",
        "                    if j.pos_ == \"NOUN\" or j.pos_ == \"PROPN\":\n",
        "                        aspectos.append(token_h)\n",
        "    return aspectos"
      ]
    },
    {
      "cell_type": "markdown",
      "metadata": {
        "id": "W7yvp7YWY8NM"
      },
      "source": [
        "##Regra 7\n",
        "Referências: [1].\n",
        "\n",
        "9, exemplo: Amo a **suavidade do jogador**.\n",
        "\n",
        "\n",
        "> se um token h é conectado a um substantivo t usando uma relação preposicional, então h e t são extraídos como aspectos. Em (9) a suavidade é extraída como um aspecto. (9) Amo a suavidade do jogador.\n",
        ">\n",
        "> Regras Adicionais\n",
        ">\n",
        "> Um substantivo modificador composto de um NP é qualquer substantivo que serve para modificar o substantivo principal. Se t é extraído como um aspecto e t tem um modificador composto substantivo h, então o aspecto h-t é extraído e t é removido da lista de aspectos. Em (12), como frango e caçarola estão em uma relação de modificador composto substantivo, apenas a caçarola de frango é extraída como um aspecto. (12) Pedimos a caçarola de frango, mas o que encontramos foram alguns pedacinhos de frango, todo de carne escura e com osso.\n"
      ]
    },
    {
      "cell_type": "code",
      "execution_count": 69,
      "metadata": {
        "id": "keJ_QvjUY5Zz"
      },
      "outputs": [],
      "source": [
        "def regra7(doc, aspectos):\n",
        "    for i in doc:\n",
        "        if (i.head.pos_ == \"NOUN\" or i.head.pos_ == \"PROPN\"):\n",
        "            if (i.dep_ == \"nmod\" or i.dep_ == \"amod\" or i.dep_ == \"acl\" or i.dep_ == \"acl:relcl\"):\n",
        "                token_h = i.text\n",
        "                token_t = i.head.text\n",
        "                if (i.dep_ == \"nmod\" and (i.head.pos_ == \"NOUN\" or i.head.pos_ == \"PROPN\")):\n",
        "                    f = 0\n",
        "                    for j in doc:\n",
        "                        if (j.dep_ == \"case\" and j.head.text == token_h):\n",
        "                            f = 1\n",
        "                            aspect = ' '.join([token_t, j.text, token_h])\n",
        "                            aspectos.append(aspect)\n",
        "                            break\n",
        "                    if not f:\n",
        "                        aspect = ' '.join([token_t, token_h])\n",
        "                        aspectos.append(aspect)\n",
        "                else:\n",
        "                    aspectos.append(token_t)\n",
        "                break;\n",
        "    return aspectos"
      ]
    },
    {
      "cell_type": "markdown",
      "metadata": {
        "id": "olBTrIkseaW3"
      },
      "source": [
        "## Regra 8\n",
        "Referências: [1].\n",
        "\n",
        "10, exemplo: Ana achou o **livro** *maravilhoso*.\n",
        "\n",
        "\n",
        "> Se um token h está em uma relação direta de objeto com um token t, t é extraído como aspecto. Em (10), a menção está em\n",
        "uma relação objetiva direta com o preço; portanto, o preço é extraído como um aspecto.\n",
        "(10)\n",
        "Sem falar no preço do telefone."
      ]
    },
    {
      "cell_type": "code",
      "execution_count": 70,
      "metadata": {
        "id": "YhRfNwhZeoOe"
      },
      "outputs": [],
      "source": [
        "def regra8(doc, aspectos):\n",
        "    token_t = \"\"\n",
        "    token_h = \"\"\n",
        "    for i in doc:\n",
        "        if i.dep_ == \"obj\":\n",
        "            token_t = i.text\n",
        "            token_h = i.head.text\n",
        "            aspectos.append(token_t)\n",
        "            break;\n",
        "    return aspectos"
      ]
    },
    {
      "cell_type": "markdown",
      "metadata": {
        "id": "AitAc59EkZvG"
      },
      "source": [
        "##Regra 9\n",
        "\n",
        "Referências: [1].\n",
        "\n",
        "11, exemplo: A **câmera** é *incrível* e *fácil de usar*.\n",
        "\n",
        "\n",
        "> Para cada termo de aspecto extraído acima, se um termo de aspecto h estiver em coordenação ou relação conjunta\n",
        "com outro token t, então t também é extraído como um aspecto. Em (11), surpreendente é primeiramente extraído como um\n",
        "termo de aspecto. Como o incrível está em relação com o fácil, então o uso também é extraído como um aspecto.\n",
        "(11)\n",
        "A câmera é incrível e fácil de usar."
      ]
    },
    {
      "cell_type": "code",
      "execution_count": 71,
      "metadata": {
        "id": "lc-TLBvokqjP"
      },
      "outputs": [],
      "source": [
        "def regra9(doc, aspectos):\n",
        "    token_h = relation_nsubj(doc)[0]\n",
        "    token_t = relation_nsubj(doc)[1]\n",
        "    sentiment1 = sentiment2 = \"\"\n",
        "    for i in doc:\n",
        "        if i.text == token_t:\n",
        "            token_t1 = i.head.text\n",
        "            if i.pos_ == \"ADJ\":\n",
        "                sentiment1 = token_t1\n",
        "    for i in doc:\n",
        "        if i.dep_ == \"conj\" and i.head.text == sentiment1:\n",
        "            sentiment2 = i.text\n",
        "    for i in doc:\n",
        "        if i.dep_ == \"conj\" and i.head.text == sentiment2:\n",
        "            aspectos.append(i.text)\n",
        "    return aspectos"
      ]
    },
    {
      "cell_type": "markdown",
      "metadata": {
        "id": "JVNRYU3Wc0LG"
      },
      "source": [
        "# Regra 10\n",
        "References: [2].\n",
        "\n",
        "1, example: **vídeo** era *ruim*\n",
        "\n",
        "> nsubj(JJ/OP,NN) "
      ]
    },
    {
      "cell_type": "code",
      "execution_count": 72,
      "metadata": {
        "id": "udfk2mLFdGX1"
      },
      "outputs": [],
      "source": [
        "def regra10(doc, aspectos):\n",
        "    for NN in doc:\n",
        "        if NN.dep_ == 'nsubj' and NN.head.pos_ == 'ADJ':\n",
        "            aspectos.append(NN.text)\n",
        "            break \n",
        "    return aspectos"
      ]
    },
    {
      "cell_type": "markdown",
      "metadata": {
        "id": "XUN3gGtufhel"
      },
      "source": [
        "#Regra 11\n",
        "Referências: [2].\n",
        "\n",
        "2, exemplo: a **qualidade** e a **lente** da câmera estão *aprovadas*.\n",
        "\n",
        "\n",
        ">ReL1(H1,NN1) e ReL2(H1,NN2)\n",
        "tal que ReL1 e ReL2 são quaisquer relações de dependência de\n",
        "[‘nsubj’, ‘amod’, ‘prep’, ‘csubj’, ‘xsubj’, ‘dobj’, ‘iobj’]\n"
      ]
    },
    {
      "cell_type": "code",
      "execution_count": 73,
      "metadata": {
        "id": "NFV272qCf1oo"
      },
      "outputs": [],
      "source": [
        "def regra11(doc, aspectos):\n",
        "    rel = [\"nsubj\", \"amod\", \"prep\", \"csubj\", \"xsubj\", \"xsubj\", \"dobj\", \"iobj\", \"obj\"]\n",
        "    for i in doc:\n",
        "        if i.dep_ == \"conj\" and i.head.dep_ in rel:\n",
        "            if i.pos_ == \"NOUN\" and i.head.pos_ == \"NOUN\":\n",
        "                aspectos.append(i.text)\n",
        "                aspectos.append(i.head.text)\n",
        "                return aspectos\n",
        "    d = {}\n",
        "    for i in doc:\n",
        "        token_children = list(i.children)\n",
        "        for j in token_children:\n",
        "            if (j.dep_ in rel and (j.pos_ == \"NOUN\" or j.pos_ == \"PROPN\")):\n",
        "                d[j.dep_] = (j.text, j.pos_)\n",
        "    for i in d:\n",
        "        aspectos.append(d[i][0])\n",
        "    return aspectos"
      ]
    },
    {
      "cell_type": "markdown",
      "metadata": {
        "id": "7ep2THgCkFRy"
      },
      "source": [
        "#Regra 12\n",
        "\n",
        "Referências: [2].\n",
        "\n",
        "3, exemplo: Honestamente, eu amo esse **jogador**.\n",
        "\n",
        "> nsubj(VB1,H1) e dobj(VB1,NN)"
      ]
    },
    {
      "cell_type": "code",
      "execution_count": 74,
      "metadata": {
        "id": "tc5iijo6kN6N"
      },
      "outputs": [],
      "source": [
        "def regra12(doc, aspectos):\n",
        "    VB1 = relation_nsubj(doc)[1]\n",
        "    for i in doc:\n",
        "        if i.text == VB1 and i.pos_ == \"VERB\":\n",
        "            for j in doc:\n",
        "                if (j.dep_ == \"obj\" or j.dep == \"dobj\") and j.pos_ == \"NOUN\":\n",
        "                    aspectos.append(j.text)\n",
        "                    return aspectos"
      ]
    },
    {
      "cell_type": "markdown",
      "metadata": {
        "id": "HO_mtvXdoMqq"
      },
      "source": [
        "#Regra 13\n",
        "\n",
        "Referências: [2].\n",
        "\n",
        "4, exemplo: seu **tamanho** também faz dele *ideal* para viajar\n",
        "\n",
        "> nsubj(H1, NN) e obj(H1, JJ/OP)\n",
        "> nsubj(H1, NN) e ccomp(H1, JJ/OP)"
      ]
    },
    {
      "cell_type": "code",
      "execution_count": 75,
      "metadata": {
        "id": "fcpAzclius2Z"
      },
      "outputs": [],
      "source": [
        "def regra13(doc, aspectos):\n",
        "    for i in doc:\n",
        "        token_children = list(i.children)\n",
        "        d = {} \n",
        "        for token in token_children:\n",
        "            d[token.dep_] = (token.text, token.pos_) \n",
        "        if \"nsubj\" in d and \"obj\" in d:\n",
        "            if d[\"nsubj\"][1] == \"NOUN\":\n",
        "                if d[\"obj\"][1] == \"ADJ\":\n",
        "                    aspectos.append(d[\"nsubj\"][0])\n",
        "                    return aspectos\n",
        "                else:\n",
        "                    if d[\"obj\"][0] in op:\n",
        "                        aspectos.append(d[\"nsubj\"][0])\n",
        "                        return aspectos"
      ]
    },
    {
      "cell_type": "markdown",
      "metadata": {
        "id": "Y8c389dUs-Wr"
      },
      "source": [
        "#Regra 14\n",
        "\n",
        "Referências: [2].\n",
        "\n",
        "5, exemplo: toca **dvds** e **cds** *originais*.\n",
        "\n",
        "> amod(NN1,OP/JJ) e conj(NN1,NN2)\n"
      ]
    },
    {
      "cell_type": "code",
      "execution_count": 76,
      "metadata": {
        "id": "n59OTbWl0fLW"
      },
      "outputs": [],
      "source": [
        "def regra14(doc, aspectos):\n",
        "    for i in doc:\n",
        "        if i.dep_ == \"amod\" and (i.pos_ == \"ADJ\" or i.text in op):\n",
        "            j = i.head\n",
        "            if j.pos_ == \"NOUN\" and j.dep_ == \"conj\" and j.head.pos_ == \"NOUN\":\n",
        "                aspectos.append(j.text)\n",
        "                aspectos.append(j.head.text)\n",
        "                return aspectos "
      ]
    },
    {
      "cell_type": "markdown",
      "metadata": {
        "id": "ZPnNOcPXGnfW"
      },
      "source": [
        "#Regra 15\n",
        "\n",
        "Referências: [2].\n",
        "\n",
        "6, exemplo: acho a falta de **jogos** de entretenimento nesse celular um pouco *incômoda*\n",
        "\n",
        "> nmod(OP/JJ,NNS)"
      ]
    },
    {
      "cell_type": "code",
      "execution_count": 77,
      "metadata": {
        "id": "TUuzea_MG002"
      },
      "outputs": [],
      "source": [
        "def regra15(doc, aspectos):\n",
        "    for i in doc:\n",
        "        token = i.text\n",
        "        if (i.dep_ == \"nmod\" and i.lemma_ != i.text and i.pos_ == \"NOUN\" \n",
        "            and token[len(token)-1].lower() == 's'):\n",
        "            if (i.head.pos_ == \"ADJ\" or i.head.text in op):\n",
        "                aspectos.append(i.text)\n",
        "                return aspectos"
      ]
    },
    {
      "cell_type": "markdown",
      "metadata": {
        "id": "dSlTq1eKStf6"
      },
      "source": [
        "#Regra 16\n",
        "\n",
        "Referências: [2].\n",
        "\n",
        "7, exemplo: o **manual** *escasso*\n",
        "\n",
        "> amod(**NN**,OP)"
      ]
    },
    {
      "cell_type": "code",
      "execution_count": 78,
      "metadata": {
        "id": "k8FbRyZVStvT"
      },
      "outputs": [],
      "source": [
        "def regra16(doc, aspectos):\n",
        "    for i in doc:\n",
        "        if (i.dep_ == \"amod\" and i.head.pos_ == \"NOUN\" and i.text in op):\n",
        "            aspectos.append(i.head.text)\n",
        "            return aspectos"
      ]
    },
    {
      "cell_type": "markdown",
      "metadata": {
        "id": "R1giqpzRTFO2"
      },
      "source": [
        "#Regra 17\n",
        "\n",
        "Referências: [2].\n",
        "\n",
        "8, exemplo: esta **câmera** tem uma grande falha de design\n",
        "\n",
        "\n",
        "> Rel1(H1,NN) e Rel2(H1, OP/JJ)\n",
        "tal que ReL1 e ReL2 são quaisquer relações de dependência de\n",
        "[‘nsubj’, ‘csubj’, ‘xsubj’, ‘dobj’, ‘iobj’]"
      ]
    },
    {
      "cell_type": "code",
      "execution_count": 79,
      "metadata": {
        "id": "xYvR1OzHTUSE"
      },
      "outputs": [],
      "source": [
        "def regra17(doc, aspectos):\n",
        "    for i in doc:\n",
        "        children_list = list(i.children)\n",
        "        dep_set = [\"nsubj\", \"csubj\", \"xsubj\", \"dobj\", \"iobj\", \"obj\"]\n",
        "        d = {}\n",
        "        for token in children_list:\n",
        "            if token.dep_ in dep_set:\n",
        "                d[token.dep_] = (token.text, token.pos_)\n",
        "        if len(d) >= 2:\n",
        "            REL2 = 0\n",
        "            for i in d:\n",
        "                if d[i][1] == \"ADJ\" or d[i][0] in op:\n",
        "                    REL2 = 1\n",
        "            if REL2:\n",
        "                for i in d:\n",
        "                    if d[i][1] == \"NOUN\":\n",
        "                        aspectos.append(d[i][0])\n",
        "                        return aspectos"
      ]
    },
    {
      "cell_type": "markdown",
      "metadata": {
        "id": "FJfPqkVWfwyC"
      },
      "source": [
        "#Regra 18\n",
        "Referências: [2].\n",
        "\n",
        "9, exemplo: minha única reclamação sobre o hardware são os **botões**\n",
        "\n",
        "\n",
        "> nsubj(NN,OP/JJ)"
      ]
    },
    {
      "cell_type": "code",
      "execution_count": 80,
      "metadata": {
        "id": "obD5vBUCf7_x"
      },
      "outputs": [],
      "source": [
        "def regra18(doc, aspectos):\n",
        "    for i in doc:\n",
        "        if i.dep_ == \"nsubj\" and i.head.pos_ == \"NOUN\":\n",
        "            if (i.pos_ == \"ADJ\" or i.text in op):\n",
        "                aspectos.append(i.head.text)\n",
        "                return aspectos"
      ]
    },
    {
      "cell_type": "markdown",
      "metadata": {
        "id": "JX9Bp26zkkeP"
      },
      "source": [
        "#Regra 19\n",
        "\n",
        "Referências: [2].\n",
        "\n",
        "10, exemplo: Eu gostei especialmente dos **botões** mais comumente usados\n",
        "\n",
        "> dobj(OP/JJ,NN) \n",
        "> \n",
        "> O POS de \"gosto de\" não está com sua tag correta"
      ]
    },
    {
      "cell_type": "code",
      "execution_count": 81,
      "metadata": {
        "id": "TN76BfTclGAm"
      },
      "outputs": [],
      "source": [
        "def regra19(doc, aspectos):\n",
        "    for i in doc:\n",
        "        if i.pos_ == \"NOUN\" and (i.dep_ == \"obj\" or i.dep_ == \"dobj\" or i.dep_ == \"iobj\"):\n",
        "            if (i.head.text in op or i.head.pos_ == \"ADJ\"):\n",
        "                aspectos.append(i.text)\n",
        "                return aspectos\n",
        "        elif i.pos_ == \"NOUN\" and i.dep_ == \"nmod\":\n",
        "            if i.head.text in op:\n",
        "                aspectos.append(i.text)\n",
        "                return aspectos"
      ]
    },
    {
      "cell_type": "markdown",
      "metadata": {
        "id": "HP38CUWvoK0B"
      },
      "source": [
        "#Regra 20\n",
        "\n",
        "Referências: [2].\n",
        "\n",
        "11, exemplo: eu acho **exibições na tela** *irritantes*\n",
        "> obj(OP/JJ,NN1) e nmod(NN1,NN2)\n"
      ]
    },
    {
      "cell_type": "code",
      "execution_count": 82,
      "metadata": {
        "id": "05inoSkHQ3Uq"
      },
      "outputs": [],
      "source": [
        "def regra20(doc, aspectos):\n",
        "    for i in doc:\n",
        "        if i.dep_ == \"nmod\" and i.pos_ == \"NOUN\":\n",
        "            if i.head.dep_ == \"obj\" and i.head.pos_ == \"NOUN\":\n",
        "                if i.head.nbor().pos_ == \"ADP\":\n",
        "                    aspectos.append(i.head.text+' '+i.head.nbor().text+' '+i.text)\n",
        "                    return aspectos"
      ]
    },
    {
      "cell_type": "markdown",
      "metadata": {
        "id": "kliTZKKO8aHH"
      },
      "source": [
        "#Regra 21\n",
        "\n",
        "References: [2].\n",
        "\n",
        "12, example: **qualidade** e **lentes** da câmera *comprovadas*\n",
        "\n",
        "> conj(NN1,NN2) \n"
      ]
    },
    {
      "cell_type": "code",
      "execution_count": 83,
      "metadata": {
        "id": "rPOK0NIT8h3K"
      },
      "outputs": [],
      "source": [
        "def regra21(doc, aspectos):\n",
        "    for i in doc: \n",
        "        if i.dep_ == \"conj\" and i.pos_ == \"NOUN\" and i.head.pos_ == \"NOUN\":\n",
        "            j = i.head\n",
        "            aspectos.append(j.text)\n",
        "            aspectos.append(i.text)\n",
        "            return aspectos"
      ]
    },
    {
      "cell_type": "markdown",
      "metadata": {
        "id": "CKNvznsV-m3L"
      },
      "source": [
        "# Regra 22\n",
        "\n",
        "Referências: [2].\n",
        "\n",
        "13, exemplo: No geral, o g3 entrega o que deve ser considerado a *melhor* **qualidade de imagem**.\n",
        "\n",
        "> amod(NN1,OP/JJ) e nmod(NN1,NN2)\n"
      ]
    },
    {
      "cell_type": "code",
      "execution_count": 84,
      "metadata": {
        "id": "0g4BAcTsiQKA"
      },
      "outputs": [],
      "source": [
        "def regra22(doc, aspectos):\n",
        "    for i in doc:\n",
        "        if i.dep_ == \"case\":\n",
        "            j = i.head\n",
        "            if j.dep_ == \"nmod\" and j.pos_ == \"NOUN\":\n",
        "                k = j.head\n",
        "                token_children = list(k.children)\n",
        "                for l in token_children:\n",
        "                    if l.dep_ == \"amod\":\n",
        "                        aspectos.append(k.text+\" \"+i.text+\" \"+j.text)\n",
        "                        return aspectos"
      ]
    },
    {
      "cell_type": "markdown",
      "metadata": {
        "id": "Lfmx4Yk_EHdA"
      },
      "source": [
        "#Regra 23\n",
        "\n",
        "Referências: [2].\n",
        "\n",
        "14, exemplo: As *cores* na tela não são tão *nítidas* quanto eu gostaria que fossem.\n",
        "\n",
        "> neg(OP/JJ, H1) e nsubj(OP/JJ,NN)\n"
      ]
    },
    {
      "cell_type": "code",
      "execution_count": 85,
      "metadata": {
        "id": "G3ZqiSIkERzw"
      },
      "outputs": [],
      "source": [
        "def regra23(doc, aspectos):\n",
        "    for i in doc: \n",
        "        token_children = list(i.children)\n",
        "        dep_children = []\n",
        "        for j in token_children:\n",
        "            dep_children.append(j.dep_)\n",
        "        if (\"advmod\" in dep_children or \"neg\" in dep_children) and (\"nsubj\" in \n",
        "            dep_children or \"nsubj:pass\" in dep_children) and (i.pos_ == \"ADJ\" or i.text in op):\n",
        "            for k in token_children:\n",
        "                if k.pos_ == \"NOUN\" and k.dep_ == \"nsubj\":\n",
        "                    aspectos.append(k.text)\n",
        "                    return aspectos "
      ]
    },
    {
      "cell_type": "markdown",
      "metadata": {
        "id": "Fz_AbbtCF2M4"
      },
      "source": [
        "#Regra 24\n",
        "\n",
        "Referências: [2].\n",
        "\n",
        "15, exemplo: definitivamente, uma *boa* **câmera**\n",
        "\n",
        "> ReL(NN, OP/JJ)\n",
        "tal que ReL é qualquer relação de dependência de\n",
        "[‘nsubj’, ‘amod’, ‘prep’, ‘csubj’, ‘xsubj’, ‘dobj’, ‘iobj’]\n"
      ]
    },
    {
      "cell_type": "code",
      "execution_count": 86,
      "metadata": {
        "id": "8TMzXblZGSHG"
      },
      "outputs": [],
      "source": [
        "def regra24(doc, aspectos):\n",
        "    for i in doc:\n",
        "        rel = [\"nsubj\", \"amod\", \"prep\", \"csubj\", \"xsubj\", \"dobj\", \"iobj\", \"obj\"]\n",
        "        if i.dep_ in rel:\n",
        "            if (i.head.text in op or i.head.pos_ == \"ADJ\") and i.pos_ == \"NOUN\":\n",
        "                aspectos.append(i.text)\n",
        "                return aspectos\n",
        "            elif (i.pos_ == \"ADJ\" or i.text in op) and i.head.pos_ == \"NOUN\":\n",
        "                aspectos.append(i.head.text)\n",
        "                return aspectos"
      ]
    },
    {
      "cell_type": "markdown",
      "metadata": {
        "id": "nTt3qhrszXo2"
      },
      "source": [
        "#Regra 25\n",
        "\n",
        "References: [2].\n",
        "\n",
        "17, exemplo: Os **cardápios** são *fáceis* de navegar.\n",
        "\n",
        "\n",
        "> nsubj(OP1/JJ1,NN) e cop (OP1/JJ1,H1) \n"
      ]
    },
    {
      "cell_type": "code",
      "execution_count": 87,
      "metadata": {
        "id": "Uvg0_t8szo2i"
      },
      "outputs": [],
      "source": [
        "def regra25(doc, aspectos):\n",
        "    for i in doc: \n",
        "        token_children = list(i.children)\n",
        "        dep_children = []\n",
        "        for j in token_children:\n",
        "            dep_children.append(j.dep_)\n",
        "        if \"nsubj\" in dep_children and \"cop\" in dep_children:\n",
        "            for k in token_children:\n",
        "                if k.pos_ == \"NOUN\" or k.pos_ == \"PROPN\":\n",
        "                    aspectos.append(k.text)\n",
        "                    return aspectos"
      ]
    },
    {
      "cell_type": "markdown",
      "metadata": {
        "id": "4xSPd0oh-eY1"
      },
      "source": [
        "#Regra 26\n",
        "\n",
        "References: [2], tabela 4.\n",
        "\n",
        "18, exemplo: Os **controles** são *feios*\n",
        "\n",
        "\n",
        "> **NNS** VBP OP/JJ "
      ]
    },
    {
      "cell_type": "code",
      "execution_count": 88,
      "metadata": {
        "id": "HgMnz4F40Rmu"
      },
      "outputs": [],
      "source": [
        "def regra26(doc, aspectos):\n",
        "    val = 0\n",
        "    aspecto = \"\"\n",
        "    for i in doc:\n",
        "        if i.text[len(i.text)-1] == 's' and i.pos_ == \"NOUN\" and val == 0:\n",
        "            if val <= 1: aspecto = i.text\n",
        "            val = max(val, 1)\n",
        "        elif (i.pos_ == \"AUX\" or i.pos_ == \"VERB\") and val == 1:\n",
        "            val = max(val, 2)\n",
        "        elif (i.pos_ == \"ADJ\" or i.text in op) and val == 2:\n",
        "            val = max(val, 3)\n",
        "            break\n",
        "        else: val = 0\n",
        "    if val == 3 and aspecto != \"\":\n",
        "        aspectos.append(aspecto)\n",
        "    return aspectos"
      ]
    },
    {
      "cell_type": "markdown",
      "metadata": {
        "id": "u46pOnEr0Aib"
      },
      "source": [
        "#Regra 27\n",
        "\n",
        "References: [2], tabela 4.\n",
        "\n",
        "19, exemplo: O **áudio** é *excelente*\n",
        "\n",
        "\n",
        "> **NN** VBZ JJ/OP"
      ]
    },
    {
      "cell_type": "code",
      "execution_count": 89,
      "metadata": {
        "id": "A7ApcM3C0OJL"
      },
      "outputs": [],
      "source": [
        "def regra27(doc, aspectos):\n",
        "    val = 0\n",
        "    aspecto = \"\"\n",
        "    for i in doc:\n",
        "        if i.pos_ == \"NOUN\" and val == 0:\n",
        "            if val <= 1: aspecto = i.text\n",
        "            val = max(val, 1)\n",
        "        elif (i.pos_ == \"AUX\" or i.pos_ == \"VERB\") and val == 1:\n",
        "            val = max(val, 2)\n",
        "        elif (i.pos_ == \"ADJ\" or i.text in op) and val == 2:\n",
        "            val = max(val, 3)\n",
        "            break\n",
        "        else: val = 0\n",
        "    if val == 3 and aspecto != \"\":\n",
        "        aspectos.append(aspecto)\n",
        "    return aspectos"
      ]
    },
    {
      "cell_type": "markdown",
      "metadata": {
        "id": "UtuxCx_A1sZ8"
      },
      "source": [
        "\n",
        "#Regra 28 -> 7\n",
        "\n",
        "References: [2], tabela 4.\n",
        "\n",
        "20, exemplo: É um **tocador de dvd** muito *bom*\n",
        "\n",
        "\n",
        "> **NN** **NN** JJ/OP"
      ]
    },
    {
      "cell_type": "code",
      "execution_count": 90,
      "metadata": {
        "id": "k0DKCk1x1ve-"
      },
      "outputs": [],
      "source": [
        "def regra28(doc, aspectos):  \n",
        "    return"
      ]
    },
    {
      "cell_type": "markdown",
      "metadata": {
        "id": "fmtwqI8r70zy"
      },
      "source": [
        "REGRA ADAPTADA\n",
        "#Regra 29\n",
        "\n",
        "References: [2], tabela 4.\n",
        "\n",
        "21, exemplo: é um **produto** muito *incrível*\n",
        "\n",
        "> **NN** RB JJ/OP"
      ]
    },
    {
      "cell_type": "code",
      "execution_count": 91,
      "metadata": {
        "id": "88OyEh-Y7zaf"
      },
      "outputs": [],
      "source": [
        "def regra29(doc, aspectos):\n",
        "    val = 0\n",
        "    aspecto = \"\"\n",
        "    for i in doc:\n",
        "        if i.pos_ == \"NOUN\" and val == 0:\n",
        "            val = max(val, 1)\n",
        "            aspecto = i.text\n",
        "        elif i.pos_ == \"ADV\" and val == 1:\n",
        "            val = max(val, 2)\n",
        "        elif (i.pos_ == \"ADJ\" or i.text in op) and val == 2:\n",
        "            val = max(val, 3)\n",
        "            break\n",
        "        else: val = 0\n",
        "    if val == 3 and aspecto != \"\":\n",
        "        aspectos.append(aspecto)\n",
        "    return aspectos"
      ]
    },
    {
      "cell_type": "markdown",
      "metadata": {
        "id": "425CNPAT9Rfj"
      },
      "source": [
        "#Regra 30\n",
        "\n",
        "References: [2], tabela 4.\n",
        "\n",
        "22, exemplo: *baixa* **confiabilidade**\n",
        "> JJ/OP **NN**"
      ]
    },
    {
      "cell_type": "code",
      "execution_count": 92,
      "metadata": {
        "id": "bZTlTRyh9gH7"
      },
      "outputs": [],
      "source": [
        "def regra30(doc, aspectos):\n",
        "    val = 0\n",
        "    aspecto = \"\"\n",
        "    for i in doc:\n",
        "        if (i.pos_ == \"ADJ\" or i.text in op) and val == 0:\n",
        "            val = max(val, 1)\n",
        "        elif i.pos_ == \"NOUN\" and val == 1:\n",
        "            # if val <= 1: aspecto = i.text\n",
        "            aspecto = i.text\n",
        "            val = max(val, 2)\n",
        "            break\n",
        "        else: val = 0\n",
        "    if(val == 2 and aspecto != \"\"):\n",
        "        aspectos.append(aspecto)\n",
        "    return aspectos"
      ]
    },
    {
      "cell_type": "markdown",
      "metadata": {
        "id": "c3eIfKtv_vaZ"
      },
      "source": [
        "#Regra 31\n",
        "\n",
        "References: [2], tabela 4.\n",
        "\n",
        "23, exemplo: **software** criativo *complexo*\n",
        "> **NN** JJ/OP"
      ]
    },
    {
      "cell_type": "code",
      "execution_count": 93,
      "metadata": {
        "id": "OcSxBBFzAEve"
      },
      "outputs": [],
      "source": [
        "def regra31(doc, aspectos):\n",
        "    val = 0\n",
        "    aspecto = \"\"\n",
        "    for i in doc:\n",
        "        if(i.pos_ == \"NOUN\") and val == 0:\n",
        "            if val <= 1: aspecto = i.text\n",
        "            val = max(val, 1)\n",
        "        elif (i.pos_ == \"ADJ\" or i.text in op) and val == 1:\n",
        "            val = max(val, 2)\n",
        "            break\n",
        "        else: val = 0\n",
        "    if(val == 2 and aspecto != \"\"):\n",
        "        aspectos.append(aspecto)\n",
        "    return aspectos"
      ]
    },
    {
      "cell_type": "markdown",
      "metadata": {
        "id": "zYpbWC8WAlY2"
      },
      "source": [
        "#Regra 32\n",
        "\n",
        "References: [2], tabela 4.\n",
        "\n",
        "24, exemplo: **áudio** no vídeo também faltando\n",
        "> **NN** IN NN"
      ]
    },
    {
      "cell_type": "code",
      "execution_count": 94,
      "metadata": {
        "id": "DABhMkO2Ax45"
      },
      "outputs": [],
      "source": [
        "def regra32(doc, aspectos):\n",
        "    val = 0\n",
        "    aspecto = \"\"\n",
        "    for i in doc:\n",
        "        if (i.pos_ == \"NOUN\" or i.pos_ == \"PROPN\") and val == 0:\n",
        "            val = max(val, 1)\n",
        "            aspecto = i.text\n",
        "        elif i.pos_ == \"ADP\" and val == 1:\n",
        "            val = max(val, 2)\n",
        "        elif i.pos_ == \"NOUN\" and val == 2:\n",
        "            val = max(val, 3)\n",
        "            break\n",
        "        else: val = 0\n",
        "    if val == 3 and aspecto != \"\":\n",
        "        aspectos.append(aspecto)\n",
        "    return aspectos"
      ]
    },
    {
      "cell_type": "markdown",
      "metadata": {
        "id": "-XXWJyEiCmDk"
      },
      "source": [
        "#Regra 33\n",
        "\n",
        "References: [2], tabela 4.\n",
        "\n",
        "25, exemplo: a **construção** do player é a mais *cafona* que eu já vi\n",
        "\n",
        "> **NN** IN DT NN"
      ]
    },
    {
      "cell_type": "code",
      "execution_count": 95,
      "metadata": {
        "id": "qRK1awDDClvf"
      },
      "outputs": [],
      "source": [
        "def regra33(doc, aspectos):\n",
        "    val = 0\n",
        "    aspecto = \"\"\n",
        "    for i in doc:\n",
        "        if i.pos_ == \"NOUN\" and val == 0:\n",
        "            if val <= 1: aspecto = i.text\n",
        "            val = max(val, 1)\n",
        "        elif i.pos_ == \"ADP\" and val == 1:\n",
        "            val = max(val, 2)\n",
        "        elif (i.pos_ == \"PROPN\" or i.pos_ == \"NOUN\") and val == 2:\n",
        "            val = max(val, 3)\n",
        "            break\n",
        "        else: val = 0\n",
        "    if val == 3 and aspecto != \"\":\n",
        "        aspectos.append(aspecto)\n",
        "    return aspectos"
      ]
    },
    {
      "cell_type": "markdown",
      "metadata": {
        "id": "GQJ-zTqhJChK"
      },
      "source": [
        "#Regra 34\n",
        "\n",
        "References: [2], tabela 4.\n",
        "\n",
        "26, exemplo: no geral, uma *boa* compra para o **preço**\n",
        "\n",
        "> NN IN DT **NN**"
      ]
    },
    {
      "cell_type": "code",
      "execution_count": 96,
      "metadata": {
        "id": "dMrmwKJlJTCO"
      },
      "outputs": [],
      "source": [
        "def regra34(doc, aspectos):\n",
        "    val = 0\n",
        "    aspecto = \"\"\n",
        "    for i in doc:\n",
        "        if i.pos_ == \"NOUN\" and val == 0:\n",
        "            val = max(val, 1)\n",
        "        elif i.pos_ == \"ADP\" and val == 1:\n",
        "            val = max(val, 2)\n",
        "        elif i.pos_ == \"DET\" and val == 2:\n",
        "            val = max(val, 3)\n",
        "        elif i.pos_ == \"NOUN\" and val == 3:\n",
        "            val = max(val, 4)\n",
        "            if(val == 4): \n",
        "                aspecto = i.text\n",
        "                break\n",
        "        else: val = 0\n",
        "    if val == 4 and aspecto != \"\":\n",
        "        aspectos.append(aspecto)\n",
        "    return aspectos"
      ]
    },
    {
      "cell_type": "markdown",
      "metadata": {
        "id": "hM4WrAk_J3Mv"
      },
      "source": [
        "#Regra 35\n",
        "\n",
        "References: [2], tabela 4.\n",
        "\n",
        "27, exemplo: ele recusou a **ler** discos secundários\n",
        "\n",
        "> OP + preposição \"a\" + **VB**"
      ]
    },
    {
      "cell_type": "code",
      "execution_count": 97,
      "metadata": {
        "id": "yNuLcmeAKIB8"
      },
      "outputs": [],
      "source": [
        "def regra35(doc, aspectos):\n",
        "    val = 0\n",
        "    aspecto = \"\"\n",
        "    for i in doc:\n",
        "        if i.text in op and val == 0:\n",
        "            val = max(val, 1)\n",
        "        elif (i.pos_ == \"SCONJ\" or i.pos_ == \"PREP\") and val == 1:\n",
        "            val = max(val, 2)\n",
        "        elif i.pos_ == \"VERB\" and val == 2:\n",
        "            if val <= 3: aspecto = i.text\n",
        "            val = max(val, 3)\n",
        "            break\n",
        "        else: val = 0\n",
        "    if val == 3 and aspecto != \"\":\n",
        "        aspectos.append(aspecto)\n",
        "    return aspectos"
      ]
    },
    {
      "cell_type": "markdown",
      "metadata": {
        "id": "b5nMA8Y8Mf4A"
      },
      "source": [
        "#Regra 36\n",
        "\n",
        "References: [2], tabela 4.\n",
        "\n",
        "28, exemplo: é extremamente *simples* de **navegar**\n",
        "> JJ + preposição \"para\" + **VB** tal que JJ não está em OP"
      ]
    },
    {
      "cell_type": "code",
      "execution_count": 98,
      "metadata": {
        "id": "zZYN_7VLMxYI"
      },
      "outputs": [],
      "source": [
        "def regra36(doc, aspectos):\n",
        "    val = 0\n",
        "    aspecto = \"\"\n",
        "    for i in doc:\n",
        "        if (i.pos_ == \"ADJ\" and i.text not in op) and val == 0:\n",
        "            val = max(val, 1)\n",
        "        elif i.pos_ == \"SCONJ\" or i.pos_ == \"PREP\":\n",
        "            val = max(val, 2)\n",
        "        elif i.pos_ == \"VERB\" and val == 2:\n",
        "            if val <= 3: aspecto = i.text\n",
        "            val = max(val, 3)\n",
        "            break\n",
        "        else: val = 0\n",
        "    if val == 3 and aspecto != \"\":\n",
        "        aspectos.append(aspecto)\n",
        "    return aspectos"
      ]
    },
    {
      "cell_type": "markdown",
      "metadata": {
        "id": "aG2EW7SFOQuK"
      },
      "source": [
        "#Regra 37\n",
        "\n",
        "References: [2], tabela 4.\n",
        "\n",
        "29, exemplo: o g3 tem **deslocamentos brancos** muito mais *nítidos*\n",
        "> **NN JJ1** JJ2, tal que JJ2 não está em op"
      ]
    },
    {
      "cell_type": "code",
      "execution_count": 99,
      "metadata": {
        "id": "-Bz8LiJHOrwQ"
      },
      "outputs": [],
      "source": [
        "def regra37(doc, aspectos):\n",
        "    val = 0\n",
        "    aspecto = \"\"\n",
        "    for i in doc:\n",
        "        if i.pos_ == \"NOUN\" and val == 0:\n",
        "            if val <= 1: aspecto = i.text\n",
        "            val = max(val, 1)\n",
        "        elif i.pos_ == \"ADJ\" and val == 1 and (i.text not in op):\n",
        "            if val <= 2: aspecto += ' ' + (i.text)\n",
        "            val = max(val, 2)\n",
        "        elif i.pos_ == \"ADJ\" and val == 2:\n",
        "            val = max(val, 3)\n",
        "            break\n",
        "        else: val = 0\n",
        "    if val == 3 and aspecto != \"\":\n",
        "        aspectos.append(aspecto)\n",
        "    return aspectos"
      ]
    },
    {
      "cell_type": "markdown",
      "metadata": {
        "id": "zcoSz1brIFyU"
      },
      "source": [
        "#Regra 38\n",
        "\n",
        "References: [2], tabela 4.\n",
        "\n",
        "30, exemplo: o **manual** faz um *bom* trabalho\n",
        "\n",
        "> **NN** VBZ/VBP DT OP/JJ NN"
      ]
    },
    {
      "cell_type": "code",
      "execution_count": 100,
      "metadata": {
        "id": "WO8iIhscIZ3i"
      },
      "outputs": [],
      "source": [
        "def regra38(doc, aspectos):\n",
        "    val = 0\n",
        "    aspecto = \"\"\n",
        "    for i in doc:\n",
        "        if i.pos_ == \"NOUN\" and val == 0:\n",
        "            if val <= 1: aspecto = i.text\n",
        "            val = max(val, 1)\n",
        "        elif i.pos_ == \"VERB\" and val == 1:\n",
        "            val = max(val, 2)\n",
        "        elif i.pos_ == \"DET\" and val == 2:\n",
        "            val = max(val, 3)\n",
        "        elif (i.pos_ == \"ADJ\" or i.text in op) and val == 3:\n",
        "            val = max(val, 4)\n",
        "        elif i.pos_ == \"NOUN\" and val == 4:\n",
        "            val = max(val, 5)\n",
        "            break\n",
        "        else: val = 0\n",
        "    if val == 5 and aspecto != \"\":\n",
        "        aspectos.append(aspecto)\n",
        "    return aspectos"
      ]
    },
    {
      "cell_type": "markdown",
      "metadata": {
        "id": "OXPdo1MsLmbL"
      },
      "source": [
        "#Regra 39\n",
        "\n",
        "References: [2], tabela 4.\n",
        "\n",
        "31, exemplo: **apex** é a *melhor* marca de qualidade barata para leitores de DVD\n",
        "\n",
        "> **NN** * PRP/DT OP, tal que * é qualquer padrão encontrado que não seja NN"
      ]
    },
    {
      "cell_type": "code",
      "execution_count": 101,
      "metadata": {
        "id": "N7fplALmL_TA"
      },
      "outputs": [],
      "source": [
        "def regra39(doc, aspectos):\n",
        "    val = 0\n",
        "    aspecto = \"\"\n",
        "    for i in doc:\n",
        "        if i.pos_ == \"NOUN\" or i.pos_ == \"PROPN\":\n",
        "            if val <= 1: aspecto = i.text\n",
        "            val = max(val, 1)\n",
        "        elif i.pos_ != \"NOUN\" and val == 1:\n",
        "            val = max(val, 2)\n",
        "        elif (i.pos_ == \"DET\" or i.tag == \"PRP\") and val == 2:\n",
        "            val = max(val, 3)\n",
        "        elif (i.pos_ == \"ADJ\" or i.text in op) and val == 3:\n",
        "            val = max(val, 4)\n",
        "            break\n",
        "        else: val = 0\n",
        "    if val == 4 and aspecto != \"\":\n",
        "        aspectos.append(aspecto)\n",
        "    return aspectos"
      ]
    },
    {
      "cell_type": "markdown",
      "metadata": {
        "id": "4wFy8GPGUw2k"
      },
      "source": [
        "#Regra 40\n",
        "\n",
        "References: [2], tabela 4.\n",
        "\n",
        "32, exemplo: tem ótima recepção\n",
        "\n",
        "> VB OP/JJ **NN**"
      ]
    },
    {
      "cell_type": "code",
      "execution_count": 102,
      "metadata": {
        "id": "cVn1PWl_U-ap"
      },
      "outputs": [],
      "source": [
        "def regra40(doc, aspectos):\n",
        "    val = 0\n",
        "    aspecto = \"\"\n",
        "    for i in doc:\n",
        "        if i.pos_ == \"VERB\" and val == 0:\n",
        "            val = max(val, 1)\n",
        "        elif (i.pos_ == \"ADJ\" or i.text in op) and val == 1:\n",
        "            val = max(val, 2)\n",
        "        elif i.pos_ == \"NOUN\" and val == 2:\n",
        "            if val <= 3: aspecto = i.text\n",
        "            val = max(val, 3)\n",
        "            break\n",
        "        else: val = 0\n",
        "    if val == 3 and aspecto != \"\":\n",
        "        aspectos.append(aspecto)\n",
        "    return aspectos"
      ]
    },
    {
      "cell_type": "markdown",
      "metadata": {
        "id": "wAGQ4QuPV6ci"
      },
      "source": [
        "#Regra 41 -> 27\n",
        "\n",
        "References: [2], tabela 4.\n",
        "\n",
        "33, exemplo: áudio é excelente\n",
        "\n",
        "> **NN** VB OP/JJ "
      ]
    },
    {
      "cell_type": "code",
      "execution_count": 103,
      "metadata": {
        "id": "Kjz8_gipWIys"
      },
      "outputs": [],
      "source": [
        "def regra41(doc, aspectos):\n",
        "    val = 0\n",
        "    aspecto = \"\"\n",
        "    for i in doc:\n",
        "        if i.pos_ == \"NOUN\" and val == 0:\n",
        "            if val <= 1: aspecto = i.text\n",
        "            val = max(val, 1)\n",
        "        elif (i.pos_ == \"VERB\" or i.pos_ == \"AUX\") and val == 1:\n",
        "            val = max(val, 2)\n",
        "        elif (i.pos_ == \"ADJ\" or i.text in op) and val == 2:\n",
        "            val = max(val, 3)\n",
        "            break\n",
        "        else: val = 0\n",
        "    if val == 3 and aspecto != \"\":\n",
        "        aspectos.append(aspecto)\n",
        "    return aspectos"
      ]
    },
    {
      "cell_type": "markdown",
      "metadata": {
        "id": "QQcTtp-mwqjx"
      },
      "source": [
        "# Regra 42\n",
        "\n",
        "References: [2], tabela 5.\n",
        "\n",
        "regra 51, exemplo: a tecnologia **mms** é muito bem integrada.\n",
        "\n",
        "> **NN** NN VBZ/VBP RB RB"
      ]
    },
    {
      "cell_type": "code",
      "execution_count": 104,
      "metadata": {
        "id": "KNRNhzNGw-l2"
      },
      "outputs": [],
      "source": [
        "def regra42(doc, aspectos):\n",
        "    val = 0\n",
        "    aspecto = \"\"\n",
        "    for i in doc:\n",
        "        if (i.pos_ == \"PROPN\" or i.pos_ == \"NOUN\") and val == 0:\n",
        "            val = max(val, 1)\n",
        "        elif (i.pos_ == \"PROPN\" or i.pos_ == \"NOUN\") and i.dep_ == \"flat:name\"  and val == 1:\n",
        "            val = max(val, 2)\n",
        "            aspecto = i.text\n",
        "        elif (i.pos_ == \"VERB\" or i.pos_ == \"AUX\")and val == 2:\n",
        "            val = max(val, 3)\n",
        "        elif i.pos_ == \"ADV\" and val == 3:\n",
        "            val = max(val, 4)\n",
        "        elif i.pos_ == \"ADV\" and val == 4:\n",
        "            val = max(val, 5)\n",
        "            break\n",
        "        else: val = 0\n",
        "    if val == 5 and aspecto != \"\":\n",
        "        aspectos.append(aspecto)\n",
        "    return aspectos"
      ]
    },
    {
      "cell_type": "markdown",
      "metadata": {
        "id": "nYG_f94Fbbw9"
      },
      "source": [
        "#Regra 43\n",
        "References: [2], tabela 5.\n",
        "\n",
        "regra 80, exemplo: **controles** e **opções** são fáceis\n",
        "\n",
        "> **NN** CC **NN** VBP JJ/OP"
      ]
    },
    {
      "cell_type": "code",
      "execution_count": 105,
      "metadata": {
        "id": "eR8SWX9KbxQo"
      },
      "outputs": [],
      "source": [
        "def regra43(doc, aspectos):\n",
        "    val = 0\n",
        "    aspecto1 = \"\"\n",
        "    aspecto2 = \"\"\n",
        "    for i in doc:\n",
        "        if (i.pos_ == \"NOUN\" or i.pos_ == \"PROPN\")and val == 0:\n",
        "            val = max(val, 1)\n",
        "            aspecto1 = i.text\n",
        "        elif i.pos_ == \"CCONJ\" and val == 1:\n",
        "            val = max(val, 2)\n",
        "        elif (i.pos_ == \"NOUN\" or i.pos_ == \"PROPN\") and val == 2:\n",
        "            val = max(val, 3)\n",
        "            aspecto2 = i.text\n",
        "        elif (i.pos_ == \"VERB\" or i.pos_ == \"AUX\") and val == 3:\n",
        "            val = max(val, 4)\n",
        "        elif i.pos_ == \"ADJ\" or i.pos_ in op:\n",
        "            val = max(val, 5)\n",
        "            break\n",
        "        else:\n",
        "            val = 0\n",
        "    if val == 5 and aspecto1 != \"\" and aspecto2 != \"\":\n",
        "        aspectos.append(aspecto1)\n",
        "        aspectos.append(aspecto2)\n",
        "\n",
        "    return aspectos"
      ]
    },
    {
      "cell_type": "markdown",
      "metadata": {
        "id": "o-6oVNP5iXpO"
      },
      "source": [
        "#Regra 44\n",
        "References: [2], tabela 5.\n",
        "\n",
        "regra 103, exemplo: **recurso sunset **bate fotos incríveis\n",
        "\n",
        "> **NN** **NN** * JJ/OP NN"
      ]
    },
    {
      "cell_type": "code",
      "execution_count": 106,
      "metadata": {
        "id": "PGYWCzouijqB"
      },
      "outputs": [],
      "source": [
        "def regra44(doc, aspectos):\n",
        "    val = 0\n",
        "    aspecto = \"\"\n",
        "    for i in doc:\n",
        "        if (i.pos_ == \"NOUN\" or i.pos_ == \"PROPN\") and val == 0:\n",
        "            val = max(val, 1)\n",
        "            aspecto = i.text\n",
        "        elif (i.pos_ == \"NOUN\" or i.pos_ == \"PROPN\") and val == 1:\n",
        "            val = max(val, 2)\n",
        "            aspecto+= ' '+i.text\n",
        "        elif i.pos_ != \"NOUN\" and val == 2:\n",
        "            val = max(val, 3)\n",
        "        elif i.pos_ == \"NOUN\" and val == 3:\n",
        "            val = max(val, 4)\n",
        "        elif (i.pos_ == \"ADJ\" or i.pos_ in op) and val == 4:\n",
        "            val = max(val, 5)\n",
        "            break\n",
        "        else: val = 0\n",
        "    if val == 5 and aspecto:\n",
        "        aspectos.append(aspecto)\n",
        "    return aspectos"
      ]
    },
    {
      "cell_type": "markdown",
      "metadata": {
        "id": "rsSnLkktf1Nl"
      },
      "source": [
        "#Regra 45\n",
        "References: [2], tabela 5.\n",
        "\n",
        "regra 120, exemplo: a canon g3 é a melhor **câmera digital**\n",
        "> amod(NN1,JJ/OP) and amod(**NN1**,**JJ**) [such that JJ not in OP]"
      ]
    },
    {
      "cell_type": "code",
      "execution_count": 107,
      "metadata": {
        "id": "UbndofpGf0rm"
      },
      "outputs": [],
      "source": [
        "def regra45(doc, aspectos):\n",
        "    f = 0\n",
        "    cont = 0\n",
        "    aspecto = \"\"\n",
        "    for i in doc:\n",
        "        if i.dep_ == \"amod\":\n",
        "            cont+=1\n",
        "        \n",
        "        if i.dep_ == \"amod\" and cont > 1:\n",
        "            if (i.text not in op):\n",
        "                aspecto = i.head.text+' '+i.text\n",
        "    aspectos.append(aspecto)\n",
        "    return aspectos"
      ]
    },
    {
      "cell_type": "markdown",
      "metadata": {
        "id": "MyF_u1LEQVU5"
      },
      "source": [
        "#Conjunto de pares <sentença-aspecto>\n",
        "* gera todos os pares de sentença-aspecto do dataset\n"
      ]
    },
    {
      "cell_type": "code",
      "execution_count": 108,
      "metadata": {
        "id": "KjyLiIrcQUuR"
      },
      "outputs": [],
      "source": [
        "def gerarConjuntoPares(file):\n",
        "    if(glob.glob(\"restaurantes.xml\")):\n",
        "        tree = ET.parse(file[0])\n",
        "        print(tree)\n",
        "        root = tree.getroot()\n",
        "        par = (\"\",\"\")\n",
        "        conjunto_de_pares = set()\n",
        "        f = 0\n",
        "        for review in root.iter('review'):\n",
        "            for x in review.iter():\n",
        "                if x.tag == 'sentence':\n",
        "                    if f == 1:\n",
        "                        par = (frase, \"\")\n",
        "                    frase = x.text\n",
        "                    f = 1\n",
        "                if x.tag == 'opinion':\n",
        "                    f = 0\n",
        "                    par = (frase, x.attrib['aspect'])\n",
        "                    conjunto_de_pares.add(par)\n",
        "    if file == glob.glob('reli.csv') or file == glob.glob('rehol.csv'):\n",
        "        df = pd.read_csv('reli.csv')\n",
        "        conjunto_de_pares = set()\n",
        "        for key in df.itertuples():\n",
        "            par = (\"\", \"\")\n",
        "            # transformando em lista de tuplas\n",
        "            lista = eval( \"[%s]\" % key[3])\n",
        "            for tupla in lista:\n",
        "                # a sentença está nessa posição\n",
        "                sentenca = key[2]\n",
        "                # split nas sentenças da string\n",
        "                sent = sentenca.split()\n",
        "                for j in tupla:\n",
        "                    # caso haja apenas um aspecto\n",
        "                    if(len(j[0]) == 1): \n",
        "                        index = j[0][0]\n",
        "                        aspecto = sent[index]\n",
        "                        par = (sentenca, aspecto)\n",
        "                    # caso haja mais de um aspecto na sentenca\n",
        "                    else:\n",
        "                        aux = []\n",
        "                        aspecto = \"\"\n",
        "                        for k in j[0]:\n",
        "                            index = k \n",
        "                            aux.append(sent[index])\n",
        "                            aspecto = ' '.join(aux)\n",
        "                        par = (sentenca, aspecto)\n",
        "                    conjunto_de_pares.add(par)\n",
        "    if(glob.glob(\"train.csv\")):\n",
        "        df = pd.read_csv('train.csv', on_bad_lines='skip', sep=\";\" )\n",
        "        reviews = list(df['review'])\n",
        "        aspects = list(df['aspect'])\n",
        "        conjunto_de_pares = set()\n",
        "        for r, a in zip(reviews, aspects):\n",
        "            par = (r, a)\n",
        "            conjunto_de_pares.add(par)\n",
        "    return conjunto_de_pares"
      ]
    },
    {
      "cell_type": "markdown",
      "metadata": {
        "id": "lZ5co3LBWyTo"
      },
      "source": [
        "# Extração de Aspectos\n",
        "* extração por meio das regras implementadas\n",
        "\n",
        "* retorna um set de aspectos"
      ]
    },
    {
      "cell_type": "code",
      "execution_count": 109,
      "metadata": {
        "id": "agHdKWhaW8vM"
      },
      "outputs": [],
      "source": [
        "def extrairAspectos(sentencas, regra):\n",
        "    aspectos = []\n",
        "    for sentenca in sentencas:\n",
        "        doc = nlp(sentenca[0])\n",
        "        regra(doc, aspectos)\n",
        "    return aspectos"
      ]
    },
    {
      "cell_type": "markdown",
      "metadata": {
        "id": "mh2bgpr4R5eQ"
      },
      "source": [
        "# Métricas de Avaliação\n",
        "\n",
        "* aplicando as métricas de avaliação "
      ]
    },
    {
      "cell_type": "code",
      "execution_count": 110,
      "metadata": {
        "id": "EIouWCNOO89h"
      },
      "outputs": [],
      "source": [
        "def gerarMetricas(aspectos_extraidos, sentencas):\n",
        "\n",
        "    # Precisao: \n",
        "    elementos = 0\n",
        "    for a in aspectos_extraidos:\n",
        "        for g in sentencas:\n",
        "            if str(a) == g[1]:\n",
        "                elementos+=1\n",
        "                break\n",
        "    # print(len(aspectos_extraidos))\n",
        "    if len(aspectos_extraidos) == 0:\n",
        "        precisao = 0\n",
        "    else: precisao = elementos/len(aspectos_extraidos)\n",
        "    # print(f\"Precisão: {precisao} = {elementos} / {len(aspectos)}\")\n",
        "\n",
        "    # Revocacao\n",
        "    elementos = 0\n",
        "    for g in sentencas:\n",
        "        for a in aspectos_extraidos:\n",
        "            if str(a) == g[1]:\n",
        "                elementos+=1\n",
        "                break\n",
        "    if len(sentencas) == 0: \n",
        "        revocacao = 0\n",
        "    else: \n",
        "        revocacao = elementos/len(sentencas)\n",
        "    \n",
        "    # print(f\"Revocação: {revocacao} = {elementos} / {len(aspectosGabarito)}\\n\")\n",
        "\n",
        "    # F1-score\n",
        "    if precisao * revocacao == 0: \n",
        "        f1 = 0\n",
        "    else: \n",
        "        f1 = 2 * precisao * revocacao / (precisao + revocacao)\n",
        "    \n",
        "    return (precisao, revocacao, f1)"
      ]
    },
    {
      "cell_type": "markdown",
      "metadata": {
        "id": "rpklFhQMdmI9"
      },
      "source": [
        "# Regras Por ID\n",
        "\n",
        "identificar cada regra de acordo com seu ID"
      ]
    },
    {
      "cell_type": "code",
      "execution_count": 111,
      "metadata": {
        "id": "JvPVojZLqw9J"
      },
      "outputs": [],
      "source": [
        "regraPorId = {\n",
        "    '1': regra1,\n",
        "    '2': regra2,\n",
        "    '3_4': regra3_4,\n",
        "    '5': regra5,\n",
        "    '6': regra6,\n",
        "    '7': regra7,\n",
        "    '8': regra8,\n",
        "    '9': regra9,\n",
        "    '10': regra10,\n",
        "    '11': regra11,\n",
        "    '12': regra12,\n",
        "    '13': regra13,\n",
        "    '14': regra14,\n",
        "    '15': regra15,\n",
        "    '16': regra16,\n",
        "    '17': regra17,\n",
        "    '18': regra18,\n",
        "    '19': regra19,\n",
        "    '20': regra20,\n",
        "    '21': regra21,\n",
        "    '22': regra22,\n",
        "    '23': regra23,\n",
        "    '24': regra24,\n",
        "    '25': regra25,\n",
        "    '26': regra26,\n",
        "    '27': regra27,\n",
        "    '28': regra28,\n",
        "    '29': regra29,\n",
        "    '30': regra30,\n",
        "    '31': regra31,\n",
        "    '32': regra32,\n",
        "    '33': regra33,\n",
        "    '34': regra34,\n",
        "    '35': regra35,\n",
        "    '36': regra36,\n",
        "    '37': regra37,\n",
        "    '38': regra38,\n",
        "    '39': regra39,\n",
        "    '40': regra40,\n",
        "    '41': regra41,\n",
        "    '42': regra42,\n",
        "    '43': regra43,\n",
        "    '44': regra44,\n",
        "    '45': regra45\n",
        "}"
      ]
    },
    {
      "cell_type": "markdown",
      "metadata": {
        "id": "LGZD8IO_C98g"
      },
      "source": [
        "# Funções para Gerar os Resultados\n"
      ]
    },
    {
      "cell_type": "code",
      "execution_count": 112,
      "metadata": {
        "id": "CJH6pGVQuSKx"
      },
      "outputs": [],
      "source": [
        "class Metrica(Enum):\n",
        "    PRECISAO = 0\n",
        "    REVOCACAO = 1\n",
        "    F1 = 2\n",
        "\n",
        "def ordenaResultados(resultados, metrica1 = Metrica.PRECISAO, metrica2 = Metrica.REVOCACAO, metrica3 = Metrica.F1):\n",
        "    '''\n",
        "    Parâmetros:\n",
        "    resultados: \n",
        "        Dicionário contendo o índice da regra como chave e uma tupla de métricas\n",
        "        como valor\n",
        "    metrica: \n",
        "        Métrica por qual os resultados devem ser ordenados\n",
        "\n",
        "    Retorna:\n",
        "    Lista com os mesmos itens do dicionário recebido ordenada de forma\n",
        "    decrescente pela métrica escolhida\n",
        "    '''\n",
        "    return sorted(\n",
        "        resultados.items(),\n",
        "        key=lambda item: (item[1][metrica1.value], item[1][metrica2.value], item[1][metrica3.value]),\n",
        "        reverse=True)\n",
        "\n",
        "def geraResultadosPorRegra():\n",
        "    \"\"\"\n",
        "    Retorna:\n",
        "        Dicionário contendo o índice da regra como chave e uma tupla de métricas\n",
        "        como valor\n",
        "    \"\"\"\n",
        "    if(glob.glob(\"*.xml\")):\n",
        "        sentencas = gerarConjuntoPares(glob.glob(\"*.xml\"))\n",
        "    if(glob.glob(\"*.csv\")):\n",
        "        sentencas = gerarConjuntoPares(glob.glob(\"*.csv\"))\n",
        "    if(glob.glob(\"*.json\")):\n",
        "        sentencas = gerarConjuntoPares(glob.glob(\"*.json\"))\n",
        "    resultados = {}\n",
        "\n",
        "    for id in regraPorId:\n",
        "        aspectos_extraidos = extrairAspectos(sentencas, regraPorId[id])\n",
        "        # print(aspectos_extraidos)\n",
        "        resultados[id] = gerarMetricas(aspectos_extraidos, sentencas)\n",
        "    return resultados"
      ]
    },
    {
      "cell_type": "markdown",
      "metadata": {
        "id": "bDWIHg51TGcL"
      },
      "source": [
        "#Algoritmo Guloso"
      ]
    },
    {
      "cell_type": "code",
      "execution_count": null,
      "metadata": {
        "id": "bYzNp7W7SSY8",
        "colab": {
          "base_uri": "https://localhost:8080/"
        },
        "outputId": "3136c884-9889-4659-d01a-697c14099b16"
      },
      "outputs": [
        {
          "output_type": "stream",
          "name": "stdout",
          "text": [
            "('11', (0.5224116161616161, 0.7851072440307568, 0.6273701385140334))\n",
            "('25', (0.6994475138121546, 0.745447187373533, 0.721715127695903))\n",
            "('6', (0.68389662027833, 0.745447187373533, 0.7133466550336327))\n",
            "('10', (0.7666666666666667, 0.7401861594496155, 0.753193736963197))\n",
            "('8', (0.36858190709046457, 0.736139214892756, 0.4912146428813741))\n",
            "('7', (0.42843646669815777, 0.7316875758802105, 0.540427796049027))\n",
            "('24', (0.680695847362514, 0.6972885471469041, 0.6888922985594728))\n",
            "('31', (0.6255044390637611, 0.6847430190206394, 0.6537845891210902))\n",
            "('21', (0.4080675422138837, 0.679481991096722, 0.509906974519836))\n",
            "('12', (0.447242206235012, 0.6475111290975314, 0.5290585497076128))\n",
            "('39', (0.4025157232704403, 0.641845406717928, 0.49475772449661))\n",
            "('16', (0.6707152496626181, 0.6390125455281263, 0.6544802066280087))\n",
            "('14', (0.4859154929577465, 0.6349656009712666, 0.5505305151069039))\n",
            "('34', (0.46814404432132967, 0.6325374342371509, 0.5380641691840439))\n",
            "('27', (0.8193384223918575, 0.6305139619587211, 0.712630224239962))\n",
            "('41', (0.8193384223918575, 0.6305139619587211, 0.712630224239962))\n",
            "('33', (0.31074380165289256, 0.6155402670983408, 0.4129949528905155))\n",
            "('2', (0.4186046511627907, 0.6106839336301093, 0.49672198601014955))\n",
            "('23', (0.8421052631578947, 0.6102792391744233, 0.7076905027277527))\n",
            "('19', (0.29737609329446063, 0.6078510724403076, 0.3993702002533797))\n",
            "('29', (0.697841726618705, 0.603399433427762, 0.6471933341686505))\n",
            "('32', (0.2603305785123967, 0.6001618777822744, 0.36314203035997816))\n",
            "('30', (0.413946587537092, 0.5900445163901255, 0.48655194871601654))\n",
            "('17', (0.32335329341317365, 0.4933225414811817, 0.3906506393042281))\n",
            "('13', (0.6595744680851063, 0.480777013354917, 0.5561587773809433))\n",
            "('5', (0.2608695652173913, 0.4803723188992311, 0.3381204453201035))\n",
            "('1', (0.04409448818897638, 0.45609065155807366, 0.08041455953049885))\n",
            "('3_4', (0.07369614512471655, 0.43909348441926344, 0.12620963953524786))\n",
            "('43', (0.3225806451612903, 0.4091460946985026, 0.36074289486360633))\n",
            "('18', (0.34375, 0.3358963982193444, 0.3397778232634302))\n",
            "('38', (0.8333333333333334, 0.3136382031566168, 0.455748309320788))\n",
            "('40', (0.0625, 0.05503844597329017, 0.05853238648590489))\n",
            "('26', (0.7313432835820896, 0.03925536220153784, 0.07451127937418676))\n",
            "('15', (0.15517241379310345, 0.03480372318899231, 0.056855327432328205))\n",
            "('36', (0.006993006993006993, 0.0056657223796034, 0.006259780907668233))\n",
            "('20', (0.007874015748031496, 0.0012140833670578712, 0.0021037868162692847))\n",
            "('45', (0.0020234722784297854, 0.0012140833670578712, 0.0015176042088223388))\n",
            "('9', (0.05263157894736842, 0.0008093889113719142, 0.0015942606616181746))\n",
            "('35', (0.04597701149425287, 0.0008093889113719142, 0.0015907735136209981))\n",
            "('22', (0.004962779156327543, 0.0008093889113719142, 0.0013917884481558804))\n",
            "('28', (0, 0.0, 0))\n",
            "('37', (0.0, 0.0, 0))\n",
            "('42', (0.0, 0.0, 0))\n",
            "('44', (0.0, 0.0, 0))\n",
            "\n",
            "Com a regra 25: \n",
            " P: 0.5617480972256322 \n",
            " R: 0.7863213273978147 \n",
            " F1: 0.6553290229797163\n",
            "\n",
            "Com a regra 6: \n",
            " P: 0.5745135770793244 \n",
            " R: 0.7883447996762445 \n",
            " F1: 0.6646542275538491\n",
            "\n",
            "Com a regra 10: \n",
            " P: 0.559657570893526 \n",
            " R: 0.8146499392958316 \n",
            " F1: 0.6634978020196431\n",
            "\n",
            "Com a regra 8: \n",
            " P: 0.4700249791840133 \n",
            " R: 0.8061513557264266 \n",
            " F1: 0.5938227560395394\n",
            "\n",
            "Com a regra 7: \n",
            " P: 0.4847682119205298 \n",
            " R: 0.8029138000809389 \n",
            " F1: 0.604539138644286\n",
            "\n",
            "Com a regra 24: \n",
            " P: 0.5793939393939394 \n",
            " R: 0.7899635774989883 \n",
            " F1: 0.6684888402020678\n",
            "\n",
            "Com a regra 31: \n",
            " P: 0.5513955071477196 \n",
            " R: 0.7899635774989883 \n",
            " F1: 0.6494642224129071\n",
            "\n",
            "Com a regra 21: \n",
            " P: 0.49362305148795466 \n",
            " R: 0.7871307163091865 \n",
            " F1: 0.6067456147682901\n",
            "\n",
            "Com a regra 12: \n",
            " P: 0.5067466266866567 \n",
            " R: 0.7859166329421287 \n",
            " F1: 0.6161861561915634\n",
            "\n",
            "Com a regra 39: \n",
            " P: 0.5114744693057947 \n",
            " R: 0.7859166329421287 \n",
            " F1: 0.619668644337376\n",
            "\n",
            "Com a regra 16: \n",
            " P: 0.5505244308007163 \n",
            " R: 0.7863213273978147 \n",
            " F1: 0.6476275943389104\n",
            "\n",
            "Com a regra 14: \n",
            " P: 0.5194090382387022 \n",
            " R: 0.7855119384864427 \n",
            " F1: 0.6253282884886894\n",
            "\n",
            "Com a regra 34: \n",
            " P: 0.5123393316195373 \n",
            " R: 0.7855119384864427 \n",
            " F1: 0.620176858185681\n",
            "\n",
            "Com a regra 27: \n",
            " P: 0.5551811288963774 \n",
            " R: 0.7859166329421287 \n",
            " F1: 0.6506998906583707\n",
            "\n",
            "Com a regra 41: \n",
            " P: 0.5551811288963774 \n",
            " R: 0.7859166329421287 \n",
            " F1: 0.6506998906583707\n",
            "\n",
            "Com a regra 33: \n",
            " P: 0.48847071296050887 \n",
            " R: 0.7855119384864427 \n",
            " F1: 0.6023623260421475\n",
            "\n",
            "Com a regra 2: \n",
            " P: 0.5145942790426153 \n",
            " R: 0.8025091056252529 \n",
            " F1: 0.6270830360647782\n",
            "\n",
            "Com a regra 23: \n",
            " P: 0.5438751472320377 \n",
            " R: 0.7855119384864427 \n",
            " F1: 0.6427329192323872\n",
            "\n",
            "Com a regra 19: \n",
            " P: 0.5004272287097693 \n",
            " R: 0.7859166329421287 \n",
            " F1: 0.6114913661034334\n",
            "\n",
            "Com a regra 29: \n",
            " P: 0.536564132327336 \n",
            " R: 0.7851072440307568 \n",
            " F1: 0.6374661579462595\n",
            "\n",
            "Com a regra 32: \n",
            " P: 0.4876779846659365 \n",
            " R: 0.7855119384864427 \n",
            " F1: 0.6017592067389519\n",
            "\n",
            "Com a regra 30: \n",
            " P: 0.5033836543466944 \n",
            " R: 0.7855119384864427 \n",
            " F1: 0.6135700553666993\n",
            "\n",
            "Com a regra 17: \n",
            " P: 0.5124437781109445 \n",
            " R: 0.7855119384864427 \n",
            " F1: 0.6202533728415414\n",
            "\n",
            "Com a regra 13: \n",
            " P: 0.5244167962674962 \n",
            " R: 0.7855119384864427 \n",
            " F1: 0.6289436108725566\n",
            "\n",
            "Com a regra 5: \n",
            " P: 0.5150306748466258 \n",
            " R: 0.7851072440307568 \n",
            " F1: 0.6220175688272812\n",
            "\n",
            "Com a regra 1: \n",
            " P: 0.4425453589271628 \n",
            " R: 0.7863213273978147 \n",
            " F1: 0.566347607820697\n",
            "\n",
            "Com a regra 3_4: \n",
            " P: 0.4246913580246914 \n",
            " R: 0.7855119384864427 \n",
            " F1: 0.5513125486637542\n"
          ]
        }
      ],
      "source": [
        "def guloso():\n",
        "    resultados = ordenaResultados(geraResultadosPorRegra(), Metrica.REVOCACAO, Metrica.PRECISAO, Metrica.F1)\n",
        "    for r in resultados:\n",
        "        print(r)\n",
        "    conjuntoRegras = []\n",
        "    # Obtemos a regra com melhor precisão\n",
        "    melhorPrecisao = resultados[0]\n",
        "    # Adicionamos a função que contém a regra ao conjunto ótimo de regras\n",
        "    conjuntoRegras.append(regraPorId[melhorPrecisao[0]])\n",
        "    # Removemos a tupla do conjunto a ser testado\n",
        "    del resultados[0]\n",
        "    melhorF1 = -1\n",
        "    melhorR = -1\n",
        "    if(glob.glob(\"*.xml\")):\n",
        "        sentencas = gerarConjuntoPares(glob.glob(\"*.xml\"))\n",
        "    if(glob.glob(\"*.csv\")):\n",
        "        sentencas = gerarConjuntoPares(glob.glob(\"*.csv\"))\n",
        "    if(glob.glob(\"*.json\")):\n",
        "        sentencas = gerarConjuntoPares(glob.glob(\"*.json\"))\n",
        "    \n",
        "    # lista de aspectos extraídos\n",
        "    conjunto_aspectos = extrairAspectos(sentencas, regraPorId[melhorPrecisao[0]])\n",
        "\n",
        "    while True:\n",
        "        regraOtima = None\n",
        "        # conjunto_aspectos = []\n",
        "        aux = []\n",
        "        for tupla in resultados:\n",
        "            regra = regraPorId[tupla[0]]\n",
        "            conjuntoRegras.append(regra)\n",
        "            aspectos_extraidos = extrairAspectos(sentencas, regra)\n",
        "            resultado = gerarMetricas(conjunto_aspectos + aspectos_extraidos, sentencas)\n",
        "            print(\"\\nCom a regra {}: \\n P: {} \\n R: {} \\n F1: {}\"\n",
        "            .format( tupla[0], resultado[0], resultado[1], resultado[2]))\n",
        "            if resultado[2] > melhorF1 or (resultado[2] == melhorF1 and \n",
        "                                            (resultado[0] > melhorP or resultado[1] > melhorR)):\n",
        "                melhorP = resultado[0]\n",
        "                melhorR = resultado[1]\n",
        "                melhorF1 = resultado[2]\n",
        "                regraOtima = regra\n",
        "                tuplaOtima = tupla\n",
        "                aux = aspectos_extraidos\n",
        "            \n",
        "            conjuntoRegras.remove(regra)\n",
        "        if regraOtima != None:\n",
        "            print(\"\\nREGRA ADICIONADA: {}\\n\".format(tuplaOtima[0]))\n",
        "            conjuntoRegras.append(regraOtima)\n",
        "            conjunto_aspectos += aux\n",
        "            del resultados[resultados.index(tuplaOtima)]\n",
        "        else: break\n",
        "    return conjuntoRegras\n",
        "\n",
        "g = guloso()\n",
        "for i in g:\n",
        "    print(i)"
      ]
    },
    {
      "cell_type": "code",
      "execution_count": null,
      "metadata": {
        "id": "eiUc55rpL18S"
      },
      "outputs": [],
      "source": [
        "sentencas = gerarConjuntoPares(glob.glob(\"*.csv\"))\n",
        "conjuntoRegras = [regra11, regra6, regra27, regra41, regra23, regra13, regra38]\n",
        "aspectos_extraidos = []\n",
        "for regra in conjuntoRegras:\n",
        "    aspectos_extraidos += extrairAspectos(sentencas, regra)\n",
        "print(gerarMetricas(aspectos_extraidos, sentencas))"
      ]
    },
    {
      "cell_type": "markdown",
      "metadata": {
        "id": "Dxl6KP9kZdNk"
      },
      "source": [
        "# REFERENCES\n",
        "\n",
        "[1] PORIA, Soujanya et al. A rule-based approach to aspect extraction from product reviews. In: Proceedings of the second workshop on natural language processing for social media (SocialNLP). 2014. p. 28-37.\n",
        "\n",
        "[2] M. Tubishat, N. Idris, and M. Abushariah, ‘‘Explicit aspects extraction in sentiment analysis using optimal rules combination,’’ Future Gener. Comput. Syst., vol. 114, pp. 448–480, Jan. 2021\n",
        "\n",
        "[3] Minqing Hu and Bing Liu. \"Mining and Summarizing Customer Reviews.\" \n",
        ";       Proceedings of the ACM SIGKDD International Conference on Knowledge \n",
        ";       Discovery and Data Mining (KDD-2004), Aug 22-25, 2004, Seattle, \n",
        ";       Washington, USA"
      ]
    }
  ],
  "metadata": {
    "colab": {
      "collapsed_sections": [
        "Dxl6KP9kZdNk"
      ],
      "name": "extrator-de-aspectos-vanessa.ipynb",
      "provenance": [],
      "toc_visible": true,
      "include_colab_link": true
    },
    "kernelspec": {
      "display_name": "Python 3",
      "name": "python3"
    }
  },
  "nbformat": 4,
  "nbformat_minor": 0
}